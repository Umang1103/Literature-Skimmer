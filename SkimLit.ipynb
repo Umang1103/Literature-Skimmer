{
  "nbformat": 4,
  "nbformat_minor": 0,
  "metadata": {
    "colab": {
      "provenance": [],
      "collapsed_sections": [],
      "authorship_tag": "ABX9TyObUUbfRhODLbwmzjv+4mhg",
      "include_colab_link": true
    },
    "kernelspec": {
      "name": "python3",
      "display_name": "Python 3"
    },
    "language_info": {
      "name": "python"
    },
    "accelerator": "GPU",
    "gpuClass": "standard"
  },
  "cells": [
    {
      "cell_type": "markdown",
      "metadata": {
        "id": "view-in-github",
        "colab_type": "text"
      },
      "source": [
        "<a href=\"https://colab.research.google.com/github/Umang1103/Literature-Skimmer/blob/main/SkimLit.ipynb\" target=\"_parent\"><img src=\"https://colab.research.google.com/assets/colab-badge.svg\" alt=\"Open In Colab\"/></a>"
      ]
    },
    {
      "cell_type": "markdown",
      "source": [
        "# SkimLit📖📗🔥\n",
        "\n",
        "This notebook aims at creating an NLP model that classifies abstract sentences into the role they play (e.g. objective, methods, results, etc) to enable researchers to skim through the literature (hence SkimLit) and dive deeper when necessary."
      ],
      "metadata": {
        "id": "inm1dGtLYtEr"
      }
    },
    {
      "cell_type": "markdown",
      "source": [
        "## Confirm access to GPU"
      ],
      "metadata": {
        "id": "TgZ-ys1BfRvi"
      }
    },
    {
      "cell_type": "code",
      "execution_count": null,
      "metadata": {
        "colab": {
          "base_uri": "https://localhost:8080/"
        },
        "id": "9KEB7A7OPNPy",
        "outputId": "a39c0267-3a81-41ab-ec11-336f2b05819b"
      },
      "outputs": [
        {
          "output_type": "stream",
          "name": "stdout",
          "text": [
            "NVIDIA-SMI has failed because it couldn't communicate with the NVIDIA driver. Make sure that the latest NVIDIA driver is installed and running.\n",
            "\n"
          ]
        }
      ],
      "source": [
        "!nvidia-smi -L"
      ]
    },
    {
      "cell_type": "markdown",
      "source": [
        "## Get the data\n",
        "Since we'll be replicating the paper (PubMed 200k RCT), let's download the dataset."
      ],
      "metadata": {
        "id": "z_wYagTgrmQp"
      }
    },
    {
      "cell_type": "code",
      "source": [
        "!git clone https://github.com/Franck-Dernoncourt/pubmed-rct\n",
        "!ls pubmed-rct"
      ],
      "metadata": {
        "id": "ScswaVto8eZ9",
        "colab": {
          "base_uri": "https://localhost:8080/"
        },
        "outputId": "ee56f5a0-0785-4fc8-cb51-014180a3dcc7"
      },
      "execution_count": null,
      "outputs": [
        {
          "output_type": "stream",
          "name": "stdout",
          "text": [
            "Cloning into 'pubmed-rct'...\n",
            "remote: Enumerating objects: 33, done.\u001b[K\n",
            "remote: Counting objects: 100% (8/8), done.\u001b[K\n",
            "remote: Compressing objects: 100% (3/3), done.\u001b[K\n",
            "remote: Total 33 (delta 5), reused 5 (delta 5), pack-reused 25\u001b[K\n",
            "Unpacking objects: 100% (33/33), done.\n",
            "PubMed_200k_RCT\n",
            "PubMed_200k_RCT_numbers_replaced_with_at_sign\n",
            "PubMed_20k_RCT\n",
            "PubMed_20k_RCT_numbers_replaced_with_at_sign\n",
            "README.md\n"
          ]
        }
      ]
    },
    {
      "cell_type": "code",
      "source": [
        "# Check what files are in the PubMed_20k_ dataset\n",
        "!ls pubmed-rct/PubMed_20k_RCT_numbers_replaced_with_at_sign"
      ],
      "metadata": {
        "id": "3LXgvdc68eXQ",
        "colab": {
          "base_uri": "https://localhost:8080/"
        },
        "outputId": "21da99ae-cc3d-493d-e739-081ae26f2475"
      },
      "execution_count": null,
      "outputs": [
        {
          "output_type": "stream",
          "name": "stdout",
          "text": [
            "dev.txt  test.txt  train.txt\n"
          ]
        }
      ]
    },
    {
      "cell_type": "code",
      "source": [
        "# We'll start our experiment using the 20k dataset with numbers replaced by \"@\" sign\n",
        "data_dir = \"pubmed-rct/PubMed_20k_RCT_numbers_replaced_with_at_sign/\""
      ],
      "metadata": {
        "id": "vAKqXlTM8eUd"
      },
      "execution_count": null,
      "outputs": []
    },
    {
      "cell_type": "code",
      "source": [
        "# Path to all the files in data_dir\n",
        "import os\n",
        "filenames = [data_dir+path for path in os.listdir(data_dir)]\n",
        "filenames"
      ],
      "metadata": {
        "id": "15hc6AmW8eSd",
        "colab": {
          "base_uri": "https://localhost:8080/"
        },
        "outputId": "1507c26e-385b-48bf-f421-03212a193bb6"
      },
      "execution_count": null,
      "outputs": [
        {
          "output_type": "execute_result",
          "data": {
            "text/plain": [
              "['pubmed-rct/PubMed_20k_RCT_numbers_replaced_with_at_sign/test.txt',\n",
              " 'pubmed-rct/PubMed_20k_RCT_numbers_replaced_with_at_sign/dev.txt',\n",
              " 'pubmed-rct/PubMed_20k_RCT_numbers_replaced_with_at_sign/train.txt']"
            ]
          },
          "metadata": {},
          "execution_count": 5
        }
      ]
    },
    {
      "cell_type": "markdown",
      "source": [
        "## Data Preprocessing"
      ],
      "metadata": {
        "id": "ZeVt9JfGwXeO"
      }
    },
    {
      "cell_type": "code",
      "source": [
        "# Create a function to read the lines of a document\n",
        "def get_lines(filename):\n",
        "  \"\"\"\n",
        "  Reads filename (a text file) and returns the lines of text as a list.\n",
        "  \n",
        "  Args:\n",
        "      filename: a string containing the target filepath to read.\n",
        "  \n",
        "  Returns:\n",
        "      A list of strings with one string per line from the target filename.\n",
        "      For example:\n",
        "      [\"this is the first line of filename\",\n",
        "       \"this is the second line of filename\",\n",
        "       \"...\"]\n",
        "  \"\"\"\n",
        "  with open(filename) as f:\n",
        "    return f.readlines()"
      ],
      "metadata": {
        "id": "0Y1lQTIz8eP-"
      },
      "execution_count": null,
      "outputs": []
    },
    {
      "cell_type": "code",
      "source": [
        "train_lines = get_lines(data_dir+\"train.txt\")\n",
        "len(train_lines), train_lines[:10]"
      ],
      "metadata": {
        "id": "eoP34gPQ8eNf",
        "colab": {
          "base_uri": "https://localhost:8080/"
        },
        "outputId": "1ce3cf4a-c26e-4365-aae6-88b8f7245e71"
      },
      "execution_count": null,
      "outputs": [
        {
          "output_type": "execute_result",
          "data": {
            "text/plain": [
              "(210040,\n",
              " ['###24293578\\n',\n",
              "  'OBJECTIVE\\tTo investigate the efficacy of @ weeks of daily low-dose oral prednisolone in improving pain , mobility , and systemic low-grade inflammation in the short term and whether the effect would be sustained at @ weeks in older adults with moderate to severe knee osteoarthritis ( OA ) .\\n',\n",
              "  'METHODS\\tA total of @ patients with primary knee OA were randomized @:@ ; @ received @ mg/day of prednisolone and @ received placebo for @ weeks .\\n',\n",
              "  'METHODS\\tOutcome measures included pain reduction and improvement in function scores and systemic inflammation markers .\\n',\n",
              "  'METHODS\\tPain was assessed using the visual analog pain scale ( @-@ mm ) .\\n',\n",
              "  'METHODS\\tSecondary outcome measures included the Western Ontario and McMaster Universities Osteoarthritis Index scores , patient global assessment ( PGA ) of the severity of knee OA , and @-min walk distance ( @MWD ) .\\n',\n",
              "  'METHODS\\tSerum levels of interleukin @ ( IL-@ ) , IL-@ , tumor necrosis factor ( TNF ) - , and high-sensitivity C-reactive protein ( hsCRP ) were measured .\\n',\n",
              "  'RESULTS\\tThere was a clinically relevant reduction in the intervention group compared to the placebo group for knee pain , physical function , PGA , and @MWD at @ weeks .\\n',\n",
              "  'RESULTS\\tThe mean difference between treatment arms ( @ % CI ) was @ ( @-@ @ ) , p < @ ; @ ( @-@ @ ) , p < @ ; @ ( @-@ @ ) , p < @ ; and @ ( @-@ @ ) , p < @ , respectively .\\n',\n",
              "  'RESULTS\\tFurther , there was a clinically relevant reduction in the serum levels of IL-@ , IL-@ , TNF - , and hsCRP at @ weeks in the intervention group when compared to the placebo group .\\n'])"
            ]
          },
          "metadata": {},
          "execution_count": 7
        }
      ]
    },
    {
      "cell_type": "code",
      "source": [
        "def preprocess_text_with_line_numbers(filename):\n",
        "  \"\"\"Returns a list of dictionaries of abstract line data.\n",
        "\n",
        "  Takes in filename, reads its contents and sorts through each line,\n",
        "  extracting things like the target label, the text of the sentence,\n",
        "  how many sentences are in the current abstract and what sentence number\n",
        "  the target line is.\n",
        "\n",
        "  Args:\n",
        "      filename: a string of the target text file to read and extract line data\n",
        "      from.\n",
        "\n",
        "  Returns:\n",
        "      A list of dictionaries each containing a line from an abstract,\n",
        "      the lines label, the lines position in the abstract and the total number\n",
        "      of lines in the abstract where the line is from. For example:\n",
        "\n",
        "      [{\"target\": 'CONCLUSION',\n",
        "        \"text\": The study couldn't have gone better, turns out people are kinder than you think\",\n",
        "        \"line_number\": 8,\n",
        "        \"total_lines\": 8}]\n",
        "  \"\"\"\n",
        "  input_lines = get_lines(filename) # get all lines from filename\n",
        "  abstract_lines = \"\" # create an empty abstract\n",
        "  abstract_samples = [] # create an empty list of abstracts\n",
        "\n",
        "  for line in input_lines:\n",
        "    if line.startswith(\"###\"):\n",
        "      abstract_id = line\n",
        "      abstract_lines = \"\"\n",
        "    elif line.isspace():\n",
        "      abstract_line_split = abstract_lines.splitlines()\n",
        "      for abstract_line_number, abstract_line in enumerate(abstract_line_split):\n",
        "        line_data = {} # create empty dict to store data from line\n",
        "        target_text_split = abstract_line.split(\"\\t\") # split target label from text\n",
        "        line_data[\"target\"] = target_text_split[0] # get target label\n",
        "        line_data[\"text\"] = target_text_split[1].lower() # get target text and lower it\n",
        "        line_data[\"line_number\"] = abstract_line_number # what number line does the line appear in the abstract?\n",
        "        line_data[\"total_lines\"] = len(abstract_line_split) - 1 # how many total lines are in the abstract? (start from 0)\n",
        "        abstract_samples.append(line_data) # add line data to abstract samples list\n",
        "    \n",
        "    else: # if the above conditions aren't fulfilled, the line contains a labelled sentence\n",
        "      abstract_lines += line\n",
        "  \n",
        "  return abstract_samples"
      ],
      "metadata": {
        "id": "15N_Ls0r8eKk"
      },
      "execution_count": null,
      "outputs": []
    },
    {
      "cell_type": "code",
      "source": [
        "# Get the data from the file and preprocess it\n",
        "%%time\n",
        "train_samples = preprocess_text_with_line_numbers(data_dir+\"train.txt\")\n",
        "val_samples = preprocess_text_with_line_numbers(data_dir+\"dev.txt\")\n",
        "test_samples = preprocess_text_with_line_numbers(data_dir+\"test.txt\")\n",
        "print(len(train_samples), len(val_samples), len(test_samples))"
      ],
      "metadata": {
        "id": "5xUhlubH8eIW",
        "colab": {
          "base_uri": "https://localhost:8080/"
        },
        "outputId": "424f0e05-5cd1-4438-aa88-994d14ad9bfe"
      },
      "execution_count": null,
      "outputs": [
        {
          "output_type": "stream",
          "name": "stdout",
          "text": [
            "180040 30212 30135\n",
            "CPU times: user 501 ms, sys: 92 ms, total: 593 ms\n",
            "Wall time: 600 ms\n"
          ]
        }
      ]
    },
    {
      "cell_type": "code",
      "source": [
        "train_samples[:10]"
      ],
      "metadata": {
        "id": "TPb6_8fp8eFp",
        "colab": {
          "base_uri": "https://localhost:8080/"
        },
        "outputId": "a414bf61-3d11-4d8a-a3fc-1408cc134bc7"
      },
      "execution_count": null,
      "outputs": [
        {
          "output_type": "execute_result",
          "data": {
            "text/plain": [
              "[{'line_number': 0,\n",
              "  'target': 'OBJECTIVE',\n",
              "  'text': 'to investigate the efficacy of @ weeks of daily low-dose oral prednisolone in improving pain , mobility , and systemic low-grade inflammation in the short term and whether the effect would be sustained at @ weeks in older adults with moderate to severe knee osteoarthritis ( oa ) .',\n",
              "  'total_lines': 11},\n",
              " {'line_number': 1,\n",
              "  'target': 'METHODS',\n",
              "  'text': 'a total of @ patients with primary knee oa were randomized @:@ ; @ received @ mg/day of prednisolone and @ received placebo for @ weeks .',\n",
              "  'total_lines': 11},\n",
              " {'line_number': 2,\n",
              "  'target': 'METHODS',\n",
              "  'text': 'outcome measures included pain reduction and improvement in function scores and systemic inflammation markers .',\n",
              "  'total_lines': 11},\n",
              " {'line_number': 3,\n",
              "  'target': 'METHODS',\n",
              "  'text': 'pain was assessed using the visual analog pain scale ( @-@ mm ) .',\n",
              "  'total_lines': 11},\n",
              " {'line_number': 4,\n",
              "  'target': 'METHODS',\n",
              "  'text': 'secondary outcome measures included the western ontario and mcmaster universities osteoarthritis index scores , patient global assessment ( pga ) of the severity of knee oa , and @-min walk distance ( @mwd ) .',\n",
              "  'total_lines': 11},\n",
              " {'line_number': 5,\n",
              "  'target': 'METHODS',\n",
              "  'text': 'serum levels of interleukin @ ( il-@ ) , il-@ , tumor necrosis factor ( tnf ) - , and high-sensitivity c-reactive protein ( hscrp ) were measured .',\n",
              "  'total_lines': 11},\n",
              " {'line_number': 6,\n",
              "  'target': 'RESULTS',\n",
              "  'text': 'there was a clinically relevant reduction in the intervention group compared to the placebo group for knee pain , physical function , pga , and @mwd at @ weeks .',\n",
              "  'total_lines': 11},\n",
              " {'line_number': 7,\n",
              "  'target': 'RESULTS',\n",
              "  'text': 'the mean difference between treatment arms ( @ % ci ) was @ ( @-@ @ ) , p < @ ; @ ( @-@ @ ) , p < @ ; @ ( @-@ @ ) , p < @ ; and @ ( @-@ @ ) , p < @ , respectively .',\n",
              "  'total_lines': 11},\n",
              " {'line_number': 8,\n",
              "  'target': 'RESULTS',\n",
              "  'text': 'further , there was a clinically relevant reduction in the serum levels of il-@ , il-@ , tnf - , and hscrp at @ weeks in the intervention group when compared to the placebo group .',\n",
              "  'total_lines': 11},\n",
              " {'line_number': 9,\n",
              "  'target': 'RESULTS',\n",
              "  'text': 'these differences remained significant at @ weeks .',\n",
              "  'total_lines': 11}]"
            ]
          },
          "metadata": {},
          "execution_count": 10
        }
      ]
    },
    {
      "cell_type": "markdown",
      "source": [
        "Let's convert the dictionary into a dataframe and try to visualize it."
      ],
      "metadata": {
        "id": "pTaxpWsue22b"
      }
    },
    {
      "cell_type": "code",
      "source": [
        "import pandas as pd\n",
        "train_df = pd.DataFrame(train_samples)\n",
        "val_df = pd.DataFrame(val_samples)\n",
        "test_df = pd.DataFrame(test_samples)\n",
        "train_df.sample(5)"
      ],
      "metadata": {
        "id": "LH0oRJgD8eDR",
        "colab": {
          "base_uri": "https://localhost:8080/",
          "height": 206
        },
        "outputId": "72c94d01-6364-4897-997a-a4c83f383f11"
      },
      "execution_count": null,
      "outputs": [
        {
          "output_type": "execute_result",
          "data": {
            "text/plain": [
              "             target                                               text  \\\n",
              "12450     OBJECTIVE  ligasure , a bipolar electronic vessel sealing...   \n",
              "159251      METHODS  assessments were conducted at @ , @ , and @ mo...   \n",
              "143693   BACKGROUND  a.l. landsman , reports no conflicts of intere...   \n",
              "138604  CONCLUSIONS  a subset of patients undergoing standard thera...   \n",
              "60670   CONCLUSIONS  further trials are required to test the veraci...   \n",
              "\n",
              "        line_number  total_lines  \n",
              "12450             0            7  \n",
              "159251            6           19  \n",
              "143693           17           17  \n",
              "138604            7            9  \n",
              "60670            15           15  "
            ],
            "text/html": [
              "\n",
              "  <div id=\"df-dc02e0a7-0acf-4204-a2b6-dbdccef29b59\">\n",
              "    <div class=\"colab-df-container\">\n",
              "      <div>\n",
              "<style scoped>\n",
              "    .dataframe tbody tr th:only-of-type {\n",
              "        vertical-align: middle;\n",
              "    }\n",
              "\n",
              "    .dataframe tbody tr th {\n",
              "        vertical-align: top;\n",
              "    }\n",
              "\n",
              "    .dataframe thead th {\n",
              "        text-align: right;\n",
              "    }\n",
              "</style>\n",
              "<table border=\"1\" class=\"dataframe\">\n",
              "  <thead>\n",
              "    <tr style=\"text-align: right;\">\n",
              "      <th></th>\n",
              "      <th>target</th>\n",
              "      <th>text</th>\n",
              "      <th>line_number</th>\n",
              "      <th>total_lines</th>\n",
              "    </tr>\n",
              "  </thead>\n",
              "  <tbody>\n",
              "    <tr>\n",
              "      <th>12450</th>\n",
              "      <td>OBJECTIVE</td>\n",
              "      <td>ligasure , a bipolar electronic vessel sealing...</td>\n",
              "      <td>0</td>\n",
              "      <td>7</td>\n",
              "    </tr>\n",
              "    <tr>\n",
              "      <th>159251</th>\n",
              "      <td>METHODS</td>\n",
              "      <td>assessments were conducted at @ , @ , and @ mo...</td>\n",
              "      <td>6</td>\n",
              "      <td>19</td>\n",
              "    </tr>\n",
              "    <tr>\n",
              "      <th>143693</th>\n",
              "      <td>BACKGROUND</td>\n",
              "      <td>a.l. landsman , reports no conflicts of intere...</td>\n",
              "      <td>17</td>\n",
              "      <td>17</td>\n",
              "    </tr>\n",
              "    <tr>\n",
              "      <th>138604</th>\n",
              "      <td>CONCLUSIONS</td>\n",
              "      <td>a subset of patients undergoing standard thera...</td>\n",
              "      <td>7</td>\n",
              "      <td>9</td>\n",
              "    </tr>\n",
              "    <tr>\n",
              "      <th>60670</th>\n",
              "      <td>CONCLUSIONS</td>\n",
              "      <td>further trials are required to test the veraci...</td>\n",
              "      <td>15</td>\n",
              "      <td>15</td>\n",
              "    </tr>\n",
              "  </tbody>\n",
              "</table>\n",
              "</div>\n",
              "      <button class=\"colab-df-convert\" onclick=\"convertToInteractive('df-dc02e0a7-0acf-4204-a2b6-dbdccef29b59')\"\n",
              "              title=\"Convert this dataframe to an interactive table.\"\n",
              "              style=\"display:none;\">\n",
              "        \n",
              "  <svg xmlns=\"http://www.w3.org/2000/svg\" height=\"24px\"viewBox=\"0 0 24 24\"\n",
              "       width=\"24px\">\n",
              "    <path d=\"M0 0h24v24H0V0z\" fill=\"none\"/>\n",
              "    <path d=\"M18.56 5.44l.94 2.06.94-2.06 2.06-.94-2.06-.94-.94-2.06-.94 2.06-2.06.94zm-11 1L8.5 8.5l.94-2.06 2.06-.94-2.06-.94L8.5 2.5l-.94 2.06-2.06.94zm10 10l.94 2.06.94-2.06 2.06-.94-2.06-.94-.94-2.06-.94 2.06-2.06.94z\"/><path d=\"M17.41 7.96l-1.37-1.37c-.4-.4-.92-.59-1.43-.59-.52 0-1.04.2-1.43.59L10.3 9.45l-7.72 7.72c-.78.78-.78 2.05 0 2.83L4 21.41c.39.39.9.59 1.41.59.51 0 1.02-.2 1.41-.59l7.78-7.78 2.81-2.81c.8-.78.8-2.07 0-2.86zM5.41 20L4 18.59l7.72-7.72 1.47 1.35L5.41 20z\"/>\n",
              "  </svg>\n",
              "      </button>\n",
              "      \n",
              "  <style>\n",
              "    .colab-df-container {\n",
              "      display:flex;\n",
              "      flex-wrap:wrap;\n",
              "      gap: 12px;\n",
              "    }\n",
              "\n",
              "    .colab-df-convert {\n",
              "      background-color: #E8F0FE;\n",
              "      border: none;\n",
              "      border-radius: 50%;\n",
              "      cursor: pointer;\n",
              "      display: none;\n",
              "      fill: #1967D2;\n",
              "      height: 32px;\n",
              "      padding: 0 0 0 0;\n",
              "      width: 32px;\n",
              "    }\n",
              "\n",
              "    .colab-df-convert:hover {\n",
              "      background-color: #E2EBFA;\n",
              "      box-shadow: 0px 1px 2px rgba(60, 64, 67, 0.3), 0px 1px 3px 1px rgba(60, 64, 67, 0.15);\n",
              "      fill: #174EA6;\n",
              "    }\n",
              "\n",
              "    [theme=dark] .colab-df-convert {\n",
              "      background-color: #3B4455;\n",
              "      fill: #D2E3FC;\n",
              "    }\n",
              "\n",
              "    [theme=dark] .colab-df-convert:hover {\n",
              "      background-color: #434B5C;\n",
              "      box-shadow: 0px 1px 3px 1px rgba(0, 0, 0, 0.15);\n",
              "      filter: drop-shadow(0px 1px 2px rgba(0, 0, 0, 0.3));\n",
              "      fill: #FFFFFF;\n",
              "    }\n",
              "  </style>\n",
              "\n",
              "      <script>\n",
              "        const buttonEl =\n",
              "          document.querySelector('#df-dc02e0a7-0acf-4204-a2b6-dbdccef29b59 button.colab-df-convert');\n",
              "        buttonEl.style.display =\n",
              "          google.colab.kernel.accessAllowed ? 'block' : 'none';\n",
              "\n",
              "        async function convertToInteractive(key) {\n",
              "          const element = document.querySelector('#df-dc02e0a7-0acf-4204-a2b6-dbdccef29b59');\n",
              "          const dataTable =\n",
              "            await google.colab.kernel.invokeFunction('convertToInteractive',\n",
              "                                                     [key], {});\n",
              "          if (!dataTable) return;\n",
              "\n",
              "          const docLinkHtml = 'Like what you see? Visit the ' +\n",
              "            '<a target=\"_blank\" href=https://colab.research.google.com/notebooks/data_table.ipynb>data table notebook</a>'\n",
              "            + ' to learn more about interactive tables.';\n",
              "          element.innerHTML = '';\n",
              "          dataTable['output_type'] = 'display_data';\n",
              "          await google.colab.output.renderOutput(dataTable, element);\n",
              "          const docLink = document.createElement('div');\n",
              "          docLink.innerHTML = docLinkHtml;\n",
              "          element.appendChild(docLink);\n",
              "        }\n",
              "      </script>\n",
              "    </div>\n",
              "  </div>\n",
              "  "
            ]
          },
          "metadata": {},
          "execution_count": 11
        }
      ]
    },
    {
      "cell_type": "code",
      "source": [
        "train_df[\"target\"].value_counts()"
      ],
      "metadata": {
        "colab": {
          "base_uri": "https://localhost:8080/"
        },
        "id": "cYovlIS3fja3",
        "outputId": "ea35a29e-0cfb-4d2b-eb1c-2126dfdd60ac"
      },
      "execution_count": null,
      "outputs": [
        {
          "output_type": "execute_result",
          "data": {
            "text/plain": [
              "METHODS        59353\n",
              "RESULTS        57953\n",
              "CONCLUSIONS    27168\n",
              "BACKGROUND     21727\n",
              "OBJECTIVE      13839\n",
              "Name: target, dtype: int64"
            ]
          },
          "metadata": {},
          "execution_count": 12
        }
      ]
    },
    {
      "cell_type": "code",
      "source": [
        "train_df[\"total_lines\"].plot.hist();"
      ],
      "metadata": {
        "colab": {
          "base_uri": "https://localhost:8080/",
          "height": 267
        },
        "id": "1hIMM0vWfjXS",
        "outputId": "1a75cb78-bd39-47fd-cbe1-c88824ef5d6a"
      },
      "execution_count": null,
      "outputs": [
        {
          "output_type": "display_data",
          "data": {
            "text/plain": [
              "<Figure size 432x288 with 1 Axes>"
            ],
            "image/png": "[encoded data removed]"
          },
          "metadata": {
            "needs_background": "light"
          }
        }
      ]
    },
    {
      "cell_type": "markdown",
      "source": [
        "## Get lists of sentences"
      ],
      "metadata": {
        "id": "lft6MYukgDjs"
      }
    },
    {
      "cell_type": "markdown",
      "source": [
        "#### One-hot encoding labels"
      ],
      "metadata": {
        "id": "KVe8ffbQlJXI"
      }
    },
    {
      "cell_type": "code",
      "source": [
        "# Convert abstract text lines into lists\n",
        "train_sentences = train_df['text'].to_list()\n",
        "val_sentences = val_df['text'].to_list()\n",
        "test_sentences = test_df['text'].to_list()\n",
        "train_labels = train_df['target'].to_list()\n",
        "val_labels = val_df['target'].to_list()\n",
        "test_labels = test_df['target'].to_list()"
      ],
      "metadata": {
        "id": "asnaX5QTfjUz"
      },
      "execution_count": null,
      "outputs": []
    },
    {
      "cell_type": "code",
      "source": [
        "# Convert our data labels in numeric format\n",
        "from sklearn.preprocessing import OneHotEncoder\n",
        "onehot = OneHotEncoder(handle_unknown='ignore', sparse=False)\n",
        "train_labels_one_hot = onehot.fit_transform(train_df['target'].to_numpy().reshape(-1, 1))\n",
        "val_labels_one_hot = onehot.transform(val_df['target'].to_numpy().reshape(-1, 1))\n",
        "test_labels_one_hot = onehot.transform(test_df['target'].to_numpy().reshape(-1, 1))\n",
        "train_labels_one_hot"
      ],
      "metadata": {
        "colab": {
          "base_uri": "https://localhost:8080/"
        },
        "id": "4eMKjHpPfjPu",
        "outputId": "dd50d495-ae58-4d59-d865-78668e49d794"
      },
      "execution_count": null,
      "outputs": [
        {
          "output_type": "execute_result",
          "data": {
            "text/plain": [
              "array([[0., 0., 0., 1., 0.],\n",
              "       [0., 0., 1., 0., 0.],\n",
              "       [0., 0., 1., 0., 0.],\n",
              "       ...,\n",
              "       [0., 0., 0., 0., 1.],\n",
              "       [0., 1., 0., 0., 0.],\n",
              "       [0., 1., 0., 0., 0.]])"
            ]
          },
          "metadata": {},
          "execution_count": 15
        }
      ]
    },
    {
      "cell_type": "code",
      "source": [
        "val_labels_one_hot"
      ],
      "metadata": {
        "colab": {
          "base_uri": "https://localhost:8080/"
        },
        "id": "ZXT82IrEfjM9",
        "outputId": "48c94b17-57c9-445d-e6d6-8c436292d09e"
      },
      "execution_count": null,
      "outputs": [
        {
          "output_type": "execute_result",
          "data": {
            "text/plain": [
              "array([[1., 0., 0., 0., 0.],\n",
              "       [1., 0., 0., 0., 0.],\n",
              "       [0., 0., 0., 1., 0.],\n",
              "       ...,\n",
              "       [0., 0., 0., 0., 1.],\n",
              "       [0., 1., 0., 0., 0.],\n",
              "       [0., 1., 0., 0., 0.]])"
            ]
          },
          "metadata": {},
          "execution_count": 16
        }
      ]
    },
    {
      "cell_type": "markdown",
      "source": [
        "#### Label Encoding labels"
      ],
      "metadata": {
        "id": "jmmiNiqplMyd"
      }
    },
    {
      "cell_type": "code",
      "source": [
        "from sklearn.preprocessing import LabelEncoder\n",
        "enc = LabelEncoder()\n",
        "train_labels = enc.fit_transform(train_df['target'].to_numpy())\n",
        "val_labels = enc.transform(val_df['target'].to_numpy())\n",
        "val_labels[:5]"
      ],
      "metadata": {
        "colab": {
          "base_uri": "https://localhost:8080/"
        },
        "id": "mJzfs2YofjKX",
        "outputId": "c3b6630c-16f0-4c73-bc8b-c23fdf69fd7f"
      },
      "execution_count": null,
      "outputs": [
        {
          "output_type": "execute_result",
          "data": {
            "text/plain": [
              "array([0, 0, 3, 2, 2])"
            ]
          },
          "metadata": {},
          "execution_count": 17
        }
      ]
    },
    {
      "cell_type": "code",
      "source": [
        "# Get class names and no. of classes from LabelEncoder instance\n",
        "num_classes = len(enc.classes_)\n",
        "classes = enc.classes_\n",
        "num_classes, classes"
      ],
      "metadata": {
        "colab": {
          "base_uri": "https://localhost:8080/"
        },
        "id": "0LBwiMJUfjIA",
        "outputId": "1ae2828a-618d-46d1-fb32-7fe7664cebea"
      },
      "execution_count": null,
      "outputs": [
        {
          "output_type": "execute_result",
          "data": {
            "text/plain": [
              "(5, array(['BACKGROUND', 'CONCLUSIONS', 'METHODS', 'OBJECTIVE', 'RESULTS'],\n",
              "       dtype=object))"
            ]
          },
          "metadata": {},
          "execution_count": 18
        }
      ]
    },
    {
      "cell_type": "markdown",
      "source": [
        "## Creating and Fitting Models"
      ],
      "metadata": {
        "id": "DLJbrqfSmApH"
      }
    },
    {
      "cell_type": "markdown",
      "source": [
        "### Model 0 : Baseline Model - Naive bayes"
      ],
      "metadata": {
        "id": "Fg0S6m0ZmEGP"
      }
    },
    {
      "cell_type": "code",
      "source": [
        "from sklearn.feature_extraction.text import TfidfVectorizer, CountVectorizer\n",
        "from sklearn.naive_bayes import MultinomialNB\n",
        "from sklearn.pipeline import Pipeline\n",
        "\n",
        "# Create a model pipeline\n",
        "model_0 = Pipeline([\n",
        "      (\"tf-idf\", TfidfVectorizer()),\n",
        "      (\"clf\", MultinomialNB())\n",
        "])\n",
        "\n",
        "# Evaluate the model on validation dataset\n",
        "model_0_history = model_0.fit(X=train_sentences,\n",
        "                              y=train_labels);"
      ],
      "metadata": {
        "id": "vPuLGQAdmAVR"
      },
      "execution_count": null,
      "outputs": []
    },
    {
      "cell_type": "code",
      "source": [
        "#Evaluate the model on validation dataset\n",
        "score_0 = model_0.score(X=val_sentences,y=val_labels);\n",
        "score_0"
      ],
      "metadata": {
        "colab": {
          "base_uri": "https://localhost:8080/"
        },
        "id": "BsVuvGFkfjFe",
        "outputId": "42351ff4-a4d5-45d4-f1f0-447796207de4"
      },
      "execution_count": null,
      "outputs": [
        {
          "output_type": "execute_result",
          "data": {
            "text/plain": [
              "0.7218323844829869"
            ]
          },
          "metadata": {},
          "execution_count": 20
        }
      ]
    },
    {
      "cell_type": "code",
      "source": [
        "# Predicting on the validation dataset\n",
        "baseline_preds = model_0.predict(val_sentences)\n",
        "baseline_preds[:5]"
      ],
      "metadata": {
        "colab": {
          "base_uri": "https://localhost:8080/"
        },
        "id": "y2lZ_SgbfjC-",
        "outputId": "312c05ec-7257-4e35-aa4a-0146d5b8822f"
      },
      "execution_count": null,
      "outputs": [
        {
          "output_type": "execute_result",
          "data": {
            "text/plain": [
              "array([4, 1, 3, 2, 2])"
            ]
          },
          "metadata": {},
          "execution_count": 21
        }
      ]
    },
    {
      "cell_type": "markdown",
      "source": [
        "Get the helper function script where `calculate_result` will help us determine the:\n",
        "* Precision\n",
        "* Accuracy\n",
        "* Recall\n",
        "* F1-score"
      ],
      "metadata": {
        "id": "p-1bigfSoWAF"
      }
    },
    {
      "cell_type": "code",
      "source": [
        "# Download helper functions script\n",
        "!wget https://raw.githubusercontent.com/mrdbourke/tensorflow-deep-learning/main/extras/helper_functions.py"
      ],
      "metadata": {
        "colab": {
          "base_uri": "https://localhost:8080/"
        },
        "id": "z5ti1n5tfjAR",
        "outputId": "87545206-c142-4874-ad1b-3e55750e188d"
      },
      "execution_count": null,
      "outputs": [
        {
          "output_type": "stream",
          "name": "stdout",
          "text": [
            "--2022-06-17 04:39:14--  https://raw.githubusercontent.com/mrdbourke/tensorflow-deep-learning/main/extras/helper_functions.py\n",
            "Resolving raw.githubusercontent.com (raw.githubusercontent.com)... 185.199.108.133, 185.199.109.133, 185.199.110.133, ...\n",
            "Connecting to raw.githubusercontent.com (raw.githubusercontent.com)|185.199.108.133|:443... connected.\n",
            "HTTP request sent, awaiting response... 200 OK\n",
            "Length: 10246 (10K) [text/plain]\n",
            "Saving to: ‘helper_functions.py’\n",
            "\n",
            "\rhelper_functions.py   0%[                    ]       0  --.-KB/s               \rhelper_functions.py 100%[===================>]  10.01K  --.-KB/s    in 0s      \n",
            "\n",
            "2022-06-17 04:39:14 (54.5 MB/s) - ‘helper_functions.py’ saved [10246/10246]\n",
            "\n"
          ]
        }
      ]
    },
    {
      "cell_type": "code",
      "source": [
        "from helper_functions import calculate_results\n",
        "baseline_result = calculate_results(y_true=val_labels,\n",
        "                                    y_pred=baseline_preds)\n",
        "baseline_result"
      ],
      "metadata": {
        "colab": {
          "base_uri": "https://localhost:8080/",
          "height": 217
        },
        "id": "Aa2ZtLTtfi9p",
        "outputId": "e9e1149c-7e99-4589-bfac-f89f561f17dc"
      },
      "execution_count": null,
      "outputs": [
        {
          "output_type": "error",
          "ename": "NameError",
          "evalue": "ignored",
          "traceback": [
            "\u001b[0;31m---------------------------------------------------------------------------\u001b[0m",
            "\u001b[0;31mNameError\u001b[0m                                 Traceback (most recent call last)",
            "\u001b[0;32m<ipython-input-20-c7ab2922aacc>\u001b[0m in \u001b[0;36m<module>\u001b[0;34m()\u001b[0m\n\u001b[1;32m      1\u001b[0m \u001b[0;32mfrom\u001b[0m \u001b[0mhelper_functions\u001b[0m \u001b[0;32mimport\u001b[0m \u001b[0mcalculate_results\u001b[0m\u001b[0;34m\u001b[0m\u001b[0;34m\u001b[0m\u001b[0m\n\u001b[1;32m      2\u001b[0m baseline_result = calculate_results(y_true=val_labels,\n\u001b[0;32m----> 3\u001b[0;31m                                     y_pred=baseline_preds)\n\u001b[0m\u001b[1;32m      4\u001b[0m \u001b[0mbaseline_result\u001b[0m\u001b[0;34m\u001b[0m\u001b[0;34m\u001b[0m\u001b[0m\n",
            "\u001b[0;31mNameError\u001b[0m: name 'baseline_preds' is not defined"
          ]
        }
      ]
    },
    {
      "cell_type": "markdown",
      "source": [
        "### Model 1: Conv1D with token embeddings"
      ],
      "metadata": {
        "id": "pJr2JYa0BKo-"
      }
    },
    {
      "cell_type": "markdown",
      "source": [
        "#### TextVectorization Layer"
      ],
      "metadata": {
        "id": "p-QDHtsGCl_8"
      }
    },
    {
      "cell_type": "code",
      "source": [
        "import tensorflow as tf\n",
        "from tensorflow.keras.layers.experimental.preprocessing import TextVectorization"
      ],
      "metadata": {
        "id": "Vh6Dj9Czfi7M"
      },
      "execution_count": null,
      "outputs": []
    },
    {
      "cell_type": "code",
      "source": [
        "# Find the average number of tokens (words) in the training tweets\n",
        "sent_lens = [len(sentence.split()) for sentence in train_sentences]"
      ],
      "metadata": {
        "id": "iMfxUAJjBqkA"
      },
      "execution_count": null,
      "outputs": []
    },
    {
      "cell_type": "code",
      "source": [
        "import matplotlib.pyplot as plt\n",
        "plt.hist(sent_lens, bins=20);"
      ],
      "metadata": {
        "colab": {
          "base_uri": "https://localhost:8080/",
          "height": 265
        },
        "id": "emsQX-gaHfxn",
        "outputId": "2df9c305-8939-48f9-b639-7ebda7f9c817"
      },
      "execution_count": null,
      "outputs": [
        {
          "output_type": "display_data",
          "data": {
            "text/plain": [
              "<Figure size 432x288 with 1 Axes>"
            ],
            "image/png": "[encoded data removed]"
          },
          "metadata": {
            "needs_background": "light"
          }
        }
      ]
    },
    {
      "cell_type": "code",
      "source": [
        "# How long of a sentence length covers 95% of examples?\n",
        "import numpy as np\n",
        "output_seq_len = int(np.percentile(sent_lens, 95))\n",
        "output_seq_len"
      ],
      "metadata": {
        "colab": {
          "base_uri": "https://localhost:8080/"
        },
        "id": "LGx0y_m2H9_D",
        "outputId": "9d0d620d-fd7b-4e81-b71b-52593e1bc16a"
      },
      "execution_count": null,
      "outputs": [
        {
          "output_type": "execute_result",
          "data": {
            "text/plain": [
              "55"
            ]
          },
          "metadata": {},
          "execution_count": 24
        }
      ]
    },
    {
      "cell_type": "code",
      "source": [
        "# Setting the text-vectorizer\n",
        "max_vocab_length = 68000  # max no. of words to have in our vocabulary\n",
        "max_length = 55\n",
        "\n",
        "text_vectorizer = TextVectorization(max_tokens=max_vocab_length,\n",
        "                                    output_sequence_length=max_length,\n",
        "                                    output_mode=\"int\")"
      ],
      "metadata": {
        "id": "rvt1JOrgIS7A"
      },
      "execution_count": null,
      "outputs": []
    },
    {
      "cell_type": "code",
      "source": [
        "# Adapt text vectorizer to training sentences\n",
        "text_vectorizer.adapt(train_sentences)"
      ],
      "metadata": {
        "id": "Q-KeyBS2JVxk"
      },
      "execution_count": null,
      "outputs": []
    },
    {
      "cell_type": "code",
      "source": [
        "# Get the unique words in the vocabulary\n",
        "\n",
        "# Get all the unique words in the training data\n",
        "words_in_vocab = text_vectorizer.get_vocabulary()\n",
        "top_5_words = words_in_vocab[:5]\n",
        "last_5_words = words_in_vocab[-5:]\n",
        "print(\"Most common words: \", top_5_words)\n",
        "print(\"Least common words: \", last_5_words)"
      ],
      "metadata": {
        "colab": {
          "base_uri": "https://localhost:8080/"
        },
        "id": "GDA0s5ZtCJrr",
        "outputId": "88dfcfb5-07a9-4e04-e939-0a8d58d5da41"
      },
      "execution_count": null,
      "outputs": [
        {
          "output_type": "stream",
          "name": "stdout",
          "text": [
            "Most common words:  ['', '[UNK]', 'the', 'and', 'of']\n",
            "Least common words:  ['aainduced', 'aaigroup', 'aachener', 'aachen', 'aaacp']\n"
          ]
        }
      ]
    },
    {
      "cell_type": "code",
      "source": [
        "# Get the config of our text vectorizer\n",
        "text_vectorizer.get_config()"
      ],
      "metadata": {
        "colab": {
          "base_uri": "https://localhost:8080/"
        },
        "id": "CjzbFmZeKieY",
        "outputId": "d2f14487-a135-41ed-a587-9b491c6315b3"
      },
      "execution_count": null,
      "outputs": [
        {
          "output_type": "execute_result",
          "data": {
            "text/plain": [
              "{'batch_input_shape': (None,),\n",
              " 'dtype': 'string',\n",
              " 'idf_weights': None,\n",
              " 'max_tokens': 68000,\n",
              " 'name': 'text_vectorization',\n",
              " 'ngrams': None,\n",
              " 'output_mode': 'int',\n",
              " 'output_sequence_length': 55,\n",
              " 'pad_to_max_tokens': False,\n",
              " 'ragged': False,\n",
              " 'sparse': False,\n",
              " 'split': 'whitespace',\n",
              " 'standardize': 'lower_and_strip_punctuation',\n",
              " 'trainable': True,\n",
              " 'vocabulary': None}"
            ]
          },
          "metadata": {},
          "execution_count": 28
        }
      ]
    },
    {
      "cell_type": "markdown",
      "source": [
        "#### Embedding Layer"
      ],
      "metadata": {
        "id": "fRwtvkD9Cuem"
      }
    },
    {
      "cell_type": "code",
      "source": [
        "# Creating an embedding layer\n",
        "import tensorflow as tf\n",
        "import numpy as np\n",
        "from tensorflow.keras import layers\n",
        "\n",
        "embedding = layers.Embedding(input_dim=max_vocab_length,  # set input shape\n",
        "                             output_dim=128,  # output shape\n",
        "                             mask_zero=True,  # use masking to handle variable sequence lengths\n",
        "                             name=\"embedding\")\n",
        "embedding"
      ],
      "metadata": {
        "colab": {
          "base_uri": "https://localhost:8080/"
        },
        "id": "R-tEllh1fi4X",
        "outputId": "cb23a01a-16b6-4089-c3a1-de24844b1580"
      },
      "execution_count": null,
      "outputs": [
        {
          "output_type": "execute_result",
          "data": {
            "text/plain": [
              "<keras.layers.embeddings.Embedding at 0x7f58277ba250>"
            ]
          },
          "metadata": {},
          "execution_count": 29
        }
      ]
    },
    {
      "cell_type": "markdown",
      "source": [
        "#### Create datasets (as fast as possible)\n",
        "\n",
        "We've gone through all the trouble of preprocessing our datasets to be used with a machine learning model, however, there are still a few steps we can use to make them work faster with our models.\n",
        "\n",
        "Namely, the tf.data API provides methods which enable faster data loading.\n",
        "\n",
        "The main steps we'll want to use with our data is to turn it into a `PrefetchDataset` of batches.\n",
        "\n",
        "Doing so we'll ensure TensorFlow loads our data onto the GPU as fast as possible, in turn leading to faster training time.\n",
        "\n",
        "To create a batched `PrefetchDataset` we can use the methods `batch()` and `prefetch()`, the parameter `tf.data.AUTOTUNE` will also allow TensorFlow to determine the optimal amount of compute to use to prepare datasets."
      ],
      "metadata": {
        "id": "sTxzUZhcTlY1"
      }
    },
    {
      "cell_type": "code",
      "source": [
        "# Train our data into TensorFlow Datasets\n",
        "train_dataset = tf.data.Dataset.from_tensor_slices((train_sentences, train_labels_one_hot))\n",
        "val_dataset = tf.data.Dataset.from_tensor_slices((val_sentences, val_labels_one_hot))\n",
        "test_dataset = tf.data.Dataset.from_tensor_slices((test_sentences, test_labels_one_hot))"
      ],
      "metadata": {
        "id": "2km-hW-JUC48"
      },
      "execution_count": null,
      "outputs": []
    },
    {
      "cell_type": "code",
      "source": [
        "# Take the TensorSliceDatasets and turn them into prefetched datasets\n",
        "train_dataset = train_dataset.batch(32).prefetch(tf.data.AUTOTUNE)\n",
        "val_dataset = val_dataset.batch(32).prefetch(tf.data.AUTOTUNE)\n",
        "test_dataset = test_dataset.batch(32).prefetch(tf.data.AUTOTUNE)"
      ],
      "metadata": {
        "id": "VgYRe76LUC1j"
      },
      "execution_count": null,
      "outputs": []
    },
    {
      "cell_type": "code",
      "source": [
        "train_dataset"
      ],
      "metadata": {
        "colab": {
          "base_uri": "https://localhost:8080/"
        },
        "id": "4EEEia5vUCfY",
        "outputId": "407cec46-ad44-4d50-f717-fd1b92475ddb"
      },
      "execution_count": null,
      "outputs": [
        {
          "output_type": "execute_result",
          "data": {
            "text/plain": [
              "<PrefetchDataset element_spec=(TensorSpec(shape=(None,), dtype=tf.string, name=None), TensorSpec(shape=(None, 5), dtype=tf.float64, name=None))>"
            ]
          },
          "metadata": {},
          "execution_count": 35
        }
      ]
    },
    {
      "cell_type": "markdown",
      "source": [
        "#### Creating the CNN model"
      ],
      "metadata": {
        "id": "El606kLDCyPF"
      }
    },
    {
      "cell_type": "code",
      "source": [
        "from tensorflow.keras import layers\n",
        "\n",
        "# Create conv1D model\n",
        "input = layers.Input(shape=(1, ), dtype=\"string\")\n",
        "x = text_vectorizer(input)\n",
        "x = embedding(x)\n",
        "x = layers.Conv1D(filters=64,\n",
        "                  kernel_size=5,\n",
        "                  padding='same',\n",
        "                  activation='relu')(x)\n",
        "x = layers.GlobalMaxPool1D()(x)\n",
        "output = layers.Dense(num_classes, activation='softmax')(x)\n",
        "model_1 = tf.keras.Model(input, output, name=\"model_1\")"
      ],
      "metadata": {
        "id": "2NT0hK-5fi1t"
      },
      "execution_count": null,
      "outputs": []
    },
    {
      "cell_type": "code",
      "source": [
        "model_1.summary()"
      ],
      "metadata": {
        "colab": {
          "base_uri": "https://localhost:8080/"
        },
        "id": "hbkWJkr7fizB",
        "outputId": "9291172f-7508-48e5-854e-02216ec02c2a"
      },
      "execution_count": null,
      "outputs": [
        {
          "output_type": "stream",
          "name": "stdout",
          "text": [
            "Model: \"model_1\"\n",
            "_________________________________________________________________\n",
            " Layer (type)                Output Shape              Param #   \n",
            "=================================================================\n",
            " input_1 (InputLayer)        [(None, 1)]               0         \n",
            "                                                                 \n",
            " text_vectorization (TextVec  (None, 55)               0         \n",
            " torization)                                                     \n",
            "                                                                 \n",
            " embedding (Embedding)       (None, 55, 128)           8704000   \n",
            "                                                                 \n",
            " conv1d (Conv1D)             (None, 55, 64)            41024     \n",
            "                                                                 \n",
            " global_max_pooling1d (Globa  (None, 64)               0         \n",
            " lMaxPooling1D)                                                  \n",
            "                                                                 \n",
            " dense (Dense)               (None, 5)                 325       \n",
            "                                                                 \n",
            "=================================================================\n",
            "Total params: 8,745,349\n",
            "Trainable params: 8,745,349\n",
            "Non-trainable params: 0\n",
            "_________________________________________________________________\n"
          ]
        }
      ]
    },
    {
      "cell_type": "code",
      "source": [
        "# Compile the model\n",
        "model_1.compile(loss=\"categorical_crossentropy\",\n",
        "                optimizer=\"Adam\",\n",
        "                metrics=['accuracy'])\n",
        "\n",
        "# Fit the model\n",
        "mode1_1_history = model_1.fit(train_dataset,\n",
        "                              epochs=5,\n",
        "                              steps_per_epoch=int(0.1*len(train_dataset)),\n",
        "                              validation_data=val_dataset,\n",
        "                              validation_steps=int(0.1*len(val_dataset)))"
      ],
      "metadata": {
        "colab": {
          "base_uri": "https://localhost:8080/"
        },
        "id": "zGHOr85kfiwh",
        "outputId": "07c3cbc4-d03f-400a-da2a-3dcd601c726e"
      },
      "execution_count": null,
      "outputs": [
        {
          "output_type": "stream",
          "name": "stdout",
          "text": [
            "Epoch 1/5\n",
            "562/562 [==============================] - 65s 115ms/step - loss: 0.8323 - accuracy: 0.6848 - val_loss: 0.5831 - val_accuracy: 0.7809\n",
            "Epoch 2/5\n",
            "562/562 [==============================] - 60s 107ms/step - loss: 0.5786 - accuracy: 0.7883 - val_loss: 0.5471 - val_accuracy: 0.7945\n",
            "Epoch 3/5\n",
            "562/562 [==============================] - 66s 117ms/step - loss: 0.5441 - accuracy: 0.8001 - val_loss: 0.5250 - val_accuracy: 0.8065\n",
            "Epoch 4/5\n",
            "562/562 [==============================] - 85s 152ms/step - loss: 0.5279 - accuracy: 0.8077 - val_loss: 0.5216 - val_accuracy: 0.7992\n",
            "Epoch 5/5\n",
            " 63/562 [==>...........................] - ETA: 53s - loss: 0.5637 - accuracy: 0.7951"
          ]
        }
      ]
    },
    {
      "cell_type": "code",
      "source": [
        "# Evaluate on the validation dataset\n",
        "model_1.evaluate(val_dataset)"
      ],
      "metadata": {
        "id": "FfWUOwT4fit6"
      },
      "execution_count": null,
      "outputs": []
    },
    {
      "cell_type": "code",
      "source": [
        "# Make predictions on our model\n",
        "model_1_preds = model_1.predict(val_dataset)"
      ],
      "metadata": {
        "id": "fCZ7SaNBfirU"
      },
      "execution_count": null,
      "outputs": []
    },
    {
      "cell_type": "code",
      "source": [
        "model_1_preds, model_1_preds.shape"
      ],
      "metadata": {
        "id": "A0Gz3vdOfio0"
      },
      "execution_count": null,
      "outputs": []
    },
    {
      "cell_type": "markdown",
      "source": [
        "The index of the maximum value is the index of the label in the classes list."
      ],
      "metadata": {
        "id": "HK3W8rOjZESm"
      }
    },
    {
      "cell_type": "code",
      "source": [
        "model_1_preds = tf.argmax(model_1_preds, axis=1)\n",
        "model_1_preds"
      ],
      "metadata": {
        "id": "qxANg27nfimV"
      },
      "execution_count": null,
      "outputs": []
    },
    {
      "cell_type": "code",
      "source": [
        "# Calculate model_1 results\n",
        "model_1_results = calculate_results(y_true=val_labels,\n",
        "                                    y_pred=model_1_preds)\n",
        "model_1_results"
      ],
      "metadata": {
        "id": "I0gTA53Jfiju"
      },
      "execution_count": null,
      "outputs": []
    },
    {
      "cell_type": "code",
      "source": [
        "baseline_result"
      ],
      "metadata": {
        "id": "xXnEfYMgfig8"
      },
      "execution_count": null,
      "outputs": []
    },
    {
      "cell_type": "markdown",
      "source": [
        "### Model 2: Feature Extraction with pretrained token embeddings"
      ],
      "metadata": {
        "id": "oh8r3H4Qcv_3"
      }
    },
    {
      "cell_type": "code",
      "source": [
        "# Download pretrained TensorFlow Hub USE\n",
        "import tensorflow_hub as hub\n",
        "tf_hub_embedding_layer = hub.KerasLayer('https://tfhub.dev/google/universal-sentence-encoder/4',\n",
        "                                        trainable=False,\n",
        "                                        name='univeral_sentence_encoder')"
      ],
      "metadata": {
        "id": "ruqz6cNxcvta"
      },
      "execution_count": null,
      "outputs": []
    },
    {
      "cell_type": "code",
      "source": [
        "# Test out the pretrained embedding on a random sentence\n",
        "import random\n",
        "random_train_sentence = random.choice(train_sentences)\n",
        "print(f'Random sentence:\\n {random_train_sentence}')\n",
        "use_embed_sentence = tf_hub_embedding_layer([random_train_sentence])\n",
        "print(f'Sentence after embedding:\\n {use_embed_sentence}')"
      ],
      "metadata": {
        "id": "JE_QQBcLfied",
        "colab": {
          "base_uri": "https://localhost:8080/"
        },
        "outputId": "46ee9f02-01c0-44e2-8fff-4e3f6602385f"
      },
      "execution_count": null,
      "outputs": [
        {
          "output_type": "stream",
          "name": "stdout",
          "text": [
            "Random sentence:\n",
            " to investigate whether a treat-to-target strategy with methotrexate and intra-articular glucocorticosteroid injections suppresses mri inflammation and halts structural damage progression in patients with early rheumatoid arthritis ( era ) , and whether adalimumab provides an additional effect .\n",
            "Sentence after embedding:\n",
            " [[-3.68857831e-02 -1.51787337e-03  6.18671179e-02 -6.52842522e-02\n",
            "  -3.68921235e-02  6.31248429e-02 -2.97580939e-02 -5.50712757e-02\n",
            "   3.71426269e-02  6.57282583e-03  8.31845328e-02 -6.62507340e-02\n",
            "   1.09280329e-02  7.08843246e-02  3.97602096e-02 -4.17811386e-02\n",
            "  -8.32429528e-02  7.67677464e-03 -4.66347046e-05 -4.07733396e-02\n",
            "   4.60792519e-02  6.44536763e-02 -5.06275259e-02  5.33567853e-02\n",
            "   3.70885915e-04  9.31724533e-03  1.87438317e-02 -6.07742257e-02\n",
            "  -3.84286651e-03  3.55185419e-02 -1.74777824e-02  8.32496285e-02\n",
            "   5.62049598e-02  5.72497062e-02 -6.33868426e-02  1.66201300e-03\n",
            "  -6.59015998e-02 -2.60248613e-02 -4.05583754e-02 -7.00563937e-02\n",
            "  -2.89947242e-02 -6.18827203e-03  1.57395341e-02 -6.02117479e-02\n",
            "   5.11064827e-02  3.71066760e-03  1.76655725e-02 -3.87137085e-02\n",
            "  -1.92590598e-02  4.36817892e-02 -7.40616843e-02 -1.06307883e-02\n",
            "  -3.12663615e-02 -1.60282217e-02  1.31288422e-02 -3.14629152e-02\n",
            "  -4.95253205e-02 -4.48337942e-03  3.74744423e-02 -4.35306802e-02\n",
            "   1.71993673e-02 -3.48737203e-02 -2.10667811e-02 -3.64037417e-02\n",
            "  -2.18051653e-02 -3.15314792e-02  1.23315463e-02 -5.51023856e-02\n",
            "  -2.78740283e-02 -6.99342638e-02  5.84064014e-02 -6.71100095e-02\n",
            "  -3.80997732e-02 -1.82402190e-02 -5.89822158e-02  5.34785204e-02\n",
            "   2.79272515e-02  5.17531857e-02  7.29018357e-03  3.41801420e-02\n",
            "  -4.72220816e-02  6.22038394e-02  6.25822619e-02  6.45905957e-02\n",
            "  -3.90806980e-02 -1.51109556e-02  2.01829169e-02 -6.96321949e-02\n",
            "   1.14580179e-02 -4.55637984e-02  2.08957624e-02 -1.47775440e-02\n",
            "  -4.52818610e-02 -1.11633344e-02 -3.94686945e-02  2.07705759e-02\n",
            "   3.24659832e-02 -4.95471107e-03 -1.69799998e-02 -5.13934642e-02\n",
            "  -6.31547021e-03 -3.05083543e-02  6.58597127e-02  6.66093007e-02\n",
            "   5.68532571e-02 -6.36730269e-02 -3.12443078e-02  4.56692278e-02\n",
            "   3.91429141e-02 -1.92730632e-02  7.46988654e-02  2.87192129e-02\n",
            "   6.60078600e-02  3.09753269e-02  3.76425846e-03 -1.18967267e-02\n",
            "  -2.22545620e-02 -1.65299121e-02  6.48579448e-02  3.96087058e-02\n",
            "  -6.06424315e-03  2.35546846e-02  6.03283346e-02  5.30750630e-03\n",
            "   7.15257302e-02 -1.62177309e-02 -3.18297520e-02  4.54869419e-02\n",
            "  -1.36983749e-02 -6.52409121e-02 -7.86157176e-02  8.32816437e-02\n",
            "   6.58691004e-02 -1.58895142e-02  2.70652175e-02 -8.28227308e-03\n",
            "   2.50577908e-02  4.58761714e-02 -2.70285998e-02  6.54171482e-02\n",
            "   6.88757151e-02  8.09907541e-02 -6.00495897e-02 -6.21079132e-02\n",
            "   4.95741665e-02 -1.75685100e-02  2.12265253e-02 -7.99380839e-02\n",
            "   4.82120626e-02  5.96332587e-02  8.02947357e-02 -2.73851883e-02\n",
            "  -1.54674826e-02 -2.98550557e-02  8.28633383e-02  6.11671545e-02\n",
            "   5.11410572e-02  1.40843671e-02 -3.91157009e-02 -6.71246042e-03\n",
            "   5.05380012e-06  9.50447563e-03 -6.92702550e-03  6.36396371e-03\n",
            "   3.82976271e-02 -6.73853233e-02 -6.42431304e-02 -1.66690592e-02\n",
            "  -4.69890460e-02 -4.17166352e-02 -1.35613298e-02 -8.30622911e-02\n",
            "  -4.80964296e-02  4.85639498e-02 -2.31961124e-02 -6.15741909e-02\n",
            "  -4.23482321e-02 -3.64790410e-02  4.07086462e-02  7.44859725e-02\n",
            "  -8.04839879e-02  5.16632497e-02  6.17263615e-02 -5.19137457e-02\n",
            "   4.31805290e-02 -5.07444330e-02  2.43952610e-02 -1.34144537e-02\n",
            "  -9.06856079e-03 -3.57701220e-02  3.59645486e-02 -6.93531558e-02\n",
            "   2.43793544e-03  5.77159300e-02 -4.52369004e-02 -5.96838258e-02\n",
            "  -3.59886028e-02 -2.08384749e-02  6.39903126e-03 -2.20101401e-02\n",
            "  -5.02829179e-02 -4.41730730e-02  5.10116257e-02  3.60336639e-02\n",
            "   5.24976403e-02 -2.30836160e-02  6.92210719e-02 -3.35743017e-02\n",
            "  -1.00301150e-02  1.92049053e-02 -2.80658770e-02 -5.30720782e-03\n",
            "   2.56017689e-02  2.15993188e-02  1.87279079e-02  1.39480606e-02\n",
            "   6.67154789e-02  2.43802089e-02 -2.63045970e-02  7.43924156e-02\n",
            "  -3.34354118e-02  2.55268458e-02  1.15988487e-02 -3.31252776e-02\n",
            "  -1.70849077e-02 -5.30025065e-02 -2.44635902e-02 -3.70346233e-02\n",
            "  -1.25634801e-02  2.89772023e-02 -1.37460306e-02  7.12738484e-02\n",
            "  -3.70934047e-02 -9.99731291e-03  2.50040777e-02 -2.84235831e-03\n",
            "  -1.64399426e-02  7.39961164e-03 -4.73712608e-02  4.49947901e-02\n",
            "   3.52368294e-03  4.94076051e-02  2.06621978e-02 -7.96620846e-02\n",
            "  -2.58085858e-02  3.49782705e-02  2.36332491e-02  2.91104149e-02\n",
            "  -3.80643085e-02 -8.14809948e-02  3.72793525e-02 -8.86232127e-03\n",
            "  -5.13613224e-02  7.07985386e-02 -1.82736348e-02 -3.44119184e-02\n",
            "  -2.09578357e-04  5.74881323e-02  7.80455098e-02 -2.86501423e-02\n",
            "   1.26639726e-02 -2.89218016e-02 -3.08762211e-02  3.81419472e-02\n",
            "  -4.61176084e-03 -4.03190516e-02 -6.62030280e-02  5.52912205e-02\n",
            "  -9.39420424e-03  2.96054110e-02 -3.22403340e-03 -1.78110283e-02\n",
            "   5.71353212e-02 -4.54430394e-02 -6.63128197e-02 -2.75328234e-02\n",
            "  -3.77903581e-02 -1.79776903e-02  4.11924459e-02 -5.43596819e-02\n",
            "  -3.67420018e-02  2.79759206e-02  2.73204744e-02 -5.45276562e-03\n",
            "  -3.80690619e-02 -7.32185841e-02  6.47899183e-03 -1.92230416e-03\n",
            "  -3.63679230e-02  4.27255444e-02 -3.23663279e-02 -7.37865120e-02\n",
            "  -7.70116632e-04  3.53030041e-02  6.10681064e-02 -1.22122709e-02\n",
            "   2.42741369e-02 -9.31257906e-04 -1.46078793e-02 -4.34654690e-02\n",
            "  -6.80080876e-02 -4.71593030e-02  5.63518964e-02 -4.00757231e-02\n",
            "  -5.68830548e-03  2.90890131e-02 -6.17891736e-02  1.73587464e-02\n",
            "   5.92561178e-02  4.75843344e-03 -6.25812486e-02  1.13135064e-02\n",
            "   4.49584052e-02 -5.27686290e-02  5.71312383e-02  2.97585712e-03\n",
            "  -3.26302205e-03  5.86543754e-02  4.41522012e-03 -1.86192133e-02\n",
            "  -6.00653775e-02 -1.92891136e-02  5.39780892e-02 -3.79279219e-02\n",
            "   4.90146549e-03  7.56944343e-02  4.72293161e-02 -5.28516024e-02\n",
            "  -1.04123279e-02  6.24055490e-02 -6.34507881e-03 -6.24969639e-02\n",
            "   1.68432128e-02  6.16122112e-02  5.33604808e-02  1.56589784e-02\n",
            "  -1.11938883e-02 -2.37362972e-03  6.75199255e-02 -4.99488264e-02\n",
            "  -7.08487183e-02  7.12353811e-02  8.08424875e-02  2.39461530e-02\n",
            "  -1.16224149e-02 -2.31955405e-02 -3.95924933e-02  4.64105010e-02\n",
            "  -4.01135907e-02 -1.36145530e-02 -6.88535497e-02 -8.98834690e-03\n",
            "   4.96734455e-02  3.13543938e-02  7.53472522e-02  6.14659451e-02\n",
            "  -1.11500956e-02  3.26659828e-02 -4.07552272e-02 -6.67455494e-02\n",
            "   2.29442902e-02 -1.45614531e-03 -5.47661521e-02 -6.44749850e-02\n",
            "   2.68067438e-02 -6.98502660e-02  1.75961927e-02  2.95428950e-02\n",
            "  -5.98346591e-02  4.52948697e-02 -3.46736573e-02  3.69695388e-02\n",
            "  -1.40353087e-02 -6.87957630e-02  4.58322205e-02  5.16462922e-02\n",
            "   5.79188615e-02 -4.27324288e-02  2.98054386e-02 -3.52513380e-02\n",
            "   7.84363225e-02  3.49600576e-02  5.57719991e-02 -1.13637904e-02\n",
            "  -5.69757186e-02 -2.61435267e-02 -6.54209033e-02 -3.01842429e-02\n",
            "   4.54893149e-02 -6.11472018e-02 -6.88781887e-02 -6.19328693e-02\n",
            "  -8.05370975e-03  3.31626385e-02  6.61736354e-02 -5.76909855e-02\n",
            "   7.12744147e-02 -5.11484891e-02  1.61195546e-02  3.73310447e-02\n",
            "   5.98778091e-02 -2.10221931e-02  5.70866503e-02  9.90591943e-03\n",
            "   1.25904498e-03 -6.49102703e-02  7.17415288e-02 -5.70052750e-02\n",
            "   6.24831729e-02  6.69922084e-02 -4.60928939e-02 -3.05770263e-02\n",
            "   3.77841815e-02 -1.73863824e-02  5.44555597e-02 -3.39685604e-02\n",
            "   2.80244183e-02 -2.64053456e-02  1.22341514e-02 -5.01212180e-02\n",
            "  -2.39019655e-02 -1.40741905e-02  1.83955152e-02 -6.45101964e-02\n",
            "   4.09115702e-02 -5.12416922e-02 -2.35239323e-02  6.74508810e-02\n",
            "  -6.04070686e-02 -1.19708404e-02 -6.62026852e-02  2.16444191e-02\n",
            "   4.44615446e-02  4.21926007e-02  3.23741231e-03 -3.82825099e-02\n",
            "  -1.53708747e-02  3.88688291e-03  2.72747036e-02  7.55231157e-02\n",
            "  -1.35219870e-02 -4.47624661e-02  6.50965469e-03  7.74122477e-02\n",
            "   5.60520403e-02 -4.62751165e-02 -2.49067638e-02 -3.45070772e-02\n",
            "   2.72705164e-02 -3.58196581e-03 -2.38118302e-02 -7.01647773e-02\n",
            "  -3.98318581e-02 -2.74874829e-02 -6.24613836e-02  2.77421456e-02\n",
            "  -7.60377198e-02  1.60429813e-02 -6.35317713e-02  4.85288985e-02\n",
            "  -1.52985973e-03 -1.12673547e-02 -3.40787992e-02  3.94630283e-02\n",
            "  -8.88812449e-03  1.76791530e-02 -7.23653287e-03  5.76357208e-02\n",
            "  -4.88218293e-02 -5.13992608e-02  5.70509806e-02  7.64521658e-02\n",
            "  -6.71852753e-02  7.07559213e-02 -3.73792388e-02  4.92056198e-02\n",
            "  -5.55060385e-03  2.00285129e-02  3.17856371e-02 -5.08093126e-02\n",
            "   6.98711500e-02  7.10990056e-02  2.08204444e-02  1.46076046e-02\n",
            "  -6.38232082e-02  5.21913171e-02  2.67243143e-02  9.97454952e-03\n",
            "   1.25282342e-02  1.76659562e-02 -6.28274158e-02  4.71533043e-03\n",
            "   4.09623049e-02  2.92112795e-03  5.97706251e-02 -2.21955664e-02\n",
            "   4.18554842e-02 -3.11633777e-02  1.64717510e-02  4.98735160e-02\n",
            "  -5.90514317e-02 -5.96467257e-02  2.21940354e-02 -8.13144445e-02\n",
            "   3.11176330e-02 -8.32879245e-02  3.36252293e-03  6.07057139e-02\n",
            "   2.69844010e-02  1.57597195e-03 -6.45344481e-02  2.98466235e-02]]\n"
          ]
        }
      ]
    },
    {
      "cell_type": "markdown",
      "source": [
        "#### Creating and fitting the model"
      ],
      "metadata": {
        "id": "QVasFijuje-m"
      }
    },
    {
      "cell_type": "code",
      "source": [
        "# Instantiate the model\n",
        "model_2 = tf.keras.Sequential([\n",
        "      layers.Input(shape=(), dtype='string'),                         \n",
        "      tf_hub_embedding_layer,\n",
        "      layers.Dense(256, activation=\"relu\"),\n",
        "      layers.Dense(num_classes, activation=\"softmax\")\n",
        "], name=\"universal_sentence_encoder_use\")\n",
        "\n",
        "# Compile the model\n",
        "model_2.compile(loss=\"categorical_crossentropy\",\n",
        "                optimizer='Adam',\n",
        "                metrics=[\"accuracy\"])\n",
        "\n",
        "# Fit the model\n",
        "model_2_history = model_2.fit(train_dataset,\n",
        "                              epochs=5,\n",
        "                              steps_per_epoch=int(0.1*len(train_dataset)),\n",
        "                              validation_data=val_dataset,\n",
        "                              validation_steps=int(0.1*len(val_dataset)))"
      ],
      "metadata": {
        "id": "JBKSeVYnfibt"
      },
      "execution_count": null,
      "outputs": []
    },
    {
      "cell_type": "code",
      "source": [
        "model_2.summary()"
      ],
      "metadata": {
        "id": "_GBncGPPfiY-"
      },
      "execution_count": null,
      "outputs": []
    },
    {
      "cell_type": "code",
      "source": [
        "# Evaluate the model\n",
        "model_2.evaluate(val_dataset)"
      ],
      "metadata": {
        "id": "9n2uBiPlfiWm"
      },
      "execution_count": null,
      "outputs": []
    },
    {
      "cell_type": "code",
      "source": [
        "# make predictions with feature extraction model\n",
        "model_2_preds = model_2.predict(val_dataset)\n",
        "model_2_preds"
      ],
      "metadata": {
        "id": "FG9aGggXfiUG"
      },
      "execution_count": null,
      "outputs": []
    },
    {
      "cell_type": "code",
      "source": [
        "# Covert the prediction to class labels\n",
        "model_2_preds = tf.argmax(model_2_preds, axis=1)\n",
        "model_2_preds"
      ],
      "metadata": {
        "id": "tbLqoLWOfiRm"
      },
      "execution_count": null,
      "outputs": []
    },
    {
      "cell_type": "code",
      "source": [
        "# Performance metrics for model 2\n",
        "model_2_results = calculate_results(y_true=val_labels,\n",
        "                                   y_pred=model_2_preds)\n",
        "model_2_results"
      ],
      "metadata": {
        "id": "PERMQC2FfiPI"
      },
      "execution_count": null,
      "outputs": []
    },
    {
      "cell_type": "markdown",
      "source": [
        "### Model 3: Conv1D with character embeddings"
      ],
      "metadata": {
        "id": "7IGtjstsnWbT"
      }
    },
    {
      "cell_type": "code",
      "source": [
        "import random"
      ],
      "metadata": {
        "id": "JyVc8FE5oKYc"
      },
      "execution_count": null,
      "outputs": []
    },
    {
      "cell_type": "code",
      "source": [
        "random_sentence = random.choice(train_sentences)\n",
        "random_sentence"
      ],
      "metadata": {
        "id": "Uh-iQPjifiMm",
        "colab": {
          "base_uri": "https://localhost:8080/",
          "height": 36
        },
        "outputId": "951079ec-c65f-4003-a8cb-3a00ba3af353"
      },
      "execution_count": null,
      "outputs": [
        {
          "output_type": "execute_result",
          "data": {
            "text/plain": [
              "'at @ and @ h after administration , fentanyl consumption with @-mg aprepitant was significantly lower than that with @-mg palonosetron .'"
            ],
            "application/vnd.google.colaboratory.intrinsic+json": {
              "type": "string"
            }
          },
          "metadata": {},
          "execution_count": 33
        }
      ]
    },
    {
      "cell_type": "code",
      "source": [
        "' '.join(list(random_sentence))"
      ],
      "metadata": {
        "id": "xio1QlD5fiKH",
        "colab": {
          "base_uri": "https://localhost:8080/",
          "height": 53
        },
        "outputId": "a6340fbd-60e3-4e3a-991d-0a34e789fd65"
      },
      "execution_count": null,
      "outputs": [
        {
          "output_type": "execute_result",
          "data": {
            "text/plain": [
              "'a t   @   a n d   @   h   a f t e r   a d m i n i s t r a t i o n   ,   f e n t a n y l   c o n s u m p t i o n   w i t h   @ - m g   a p r e p i t a n t   w a s   s i g n i f i c a n t l y   l o w e r   t h a n   t h a t   w i t h   @ - m g   p a l o n o s e t r o n   .'"
            ],
            "application/vnd.google.colaboratory.intrinsic+json": {
              "type": "string"
            }
          },
          "metadata": {},
          "execution_count": 34
        }
      ]
    },
    {
      "cell_type": "code",
      "source": [
        "# Make function to split sentences into characters\n",
        "def split_chars(text):\n",
        "  return \" \".join(list(text))\n",
        "\n",
        "# Text splitting non-character-level sequence into characters\n",
        "split_chars(random_sentence)"
      ],
      "metadata": {
        "id": "BtKgXrFWfiHg",
        "colab": {
          "base_uri": "https://localhost:8080/",
          "height": 53
        },
        "outputId": "db86112f-1de0-4346-cb0a-49f0ce8d938a"
      },
      "execution_count": null,
      "outputs": [
        {
          "output_type": "execute_result",
          "data": {
            "text/plain": [
              "'a t   @   a n d   @   h   a f t e r   a d m i n i s t r a t i o n   ,   f e n t a n y l   c o n s u m p t i o n   w i t h   @ - m g   a p r e p i t a n t   w a s   s i g n i f i c a n t l y   l o w e r   t h a n   t h a t   w i t h   @ - m g   p a l o n o s e t r o n   .'"
            ],
            "application/vnd.google.colaboratory.intrinsic+json": {
              "type": "string"
            }
          },
          "metadata": {},
          "execution_count": 35
        }
      ]
    },
    {
      "cell_type": "code",
      "source": [
        "# Split sequence-level data into character-level data splits\n",
        "train_chars = [split_chars(sentence) for sentence in train_sentences]\n",
        "val_chars = [split_chars(sentence) for sentence in val_sentences]\n",
        "test_chars = [split_chars(sentence) for sentence in test_sentences]"
      ],
      "metadata": {
        "id": "c4_JqiaefiFG"
      },
      "execution_count": null,
      "outputs": []
    },
    {
      "cell_type": "code",
      "source": [
        "train_chars[:5]"
      ],
      "metadata": {
        "id": "lOGixwRzfiCa",
        "colab": {
          "base_uri": "https://localhost:8080/"
        },
        "outputId": "0298da97-a4b2-48cd-cedc-9ecafec8e770"
      },
      "execution_count": null,
      "outputs": [
        {
          "output_type": "execute_result",
          "data": {
            "text/plain": [
              "['t o   i n v e s t i g a t e   t h e   e f f i c a c y   o f   @   w e e k s   o f   d a i l y   l o w - d o s e   o r a l   p r e d n i s o l o n e   i n   i m p r o v i n g   p a i n   ,   m o b i l i t y   ,   a n d   s y s t e m i c   l o w - g r a d e   i n f l a m m a t i o n   i n   t h e   s h o r t   t e r m   a n d   w h e t h e r   t h e   e f f e c t   w o u l d   b e   s u s t a i n e d   a t   @   w e e k s   i n   o l d e r   a d u l t s   w i t h   m o d e r a t e   t o   s e v e r e   k n e e   o s t e o a r t h r i t i s   (   o a   )   .',\n",
              " 'a   t o t a l   o f   @   p a t i e n t s   w i t h   p r i m a r y   k n e e   o a   w e r e   r a n d o m i z e d   @ : @   ;   @   r e c e i v e d   @   m g / d a y   o f   p r e d n i s o l o n e   a n d   @   r e c e i v e d   p l a c e b o   f o r   @   w e e k s   .',\n",
              " 'o u t c o m e   m e a s u r e s   i n c l u d e d   p a i n   r e d u c t i o n   a n d   i m p r o v e m e n t   i n   f u n c t i o n   s c o r e s   a n d   s y s t e m i c   i n f l a m m a t i o n   m a r k e r s   .',\n",
              " 'p a i n   w a s   a s s e s s e d   u s i n g   t h e   v i s u a l   a n a l o g   p a i n   s c a l e   (   @ - @   m m   )   .',\n",
              " 's e c o n d a r y   o u t c o m e   m e a s u r e s   i n c l u d e d   t h e   w e s t e r n   o n t a r i o   a n d   m c m a s t e r   u n i v e r s i t i e s   o s t e o a r t h r i t i s   i n d e x   s c o r e s   ,   p a t i e n t   g l o b a l   a s s e s s m e n t   (   p g a   )   o f   t h e   s e v e r i t y   o f   k n e e   o a   ,   a n d   @ - m i n   w a l k   d i s t a n c e   (   @ m w d   )   .']"
            ]
          },
          "metadata": {},
          "execution_count": 37
        }
      ]
    },
    {
      "cell_type": "code",
      "source": [
        "# What's the average charcter length?\n",
        "char_len = [len(i) for i in train_sentences]\n",
        "average_char_len = np.mean(char_len)\n",
        "average_char_len"
      ],
      "metadata": {
        "id": "02Gk2Pgjfh_3",
        "colab": {
          "base_uri": "https://localhost:8080/"
        },
        "outputId": "aa9c24f9-d1ee-4ec1-cb6b-932631e25fa9"
      },
      "execution_count": null,
      "outputs": [
        {
          "output_type": "execute_result",
          "data": {
            "text/plain": [
              "149.3662574983337"
            ]
          },
          "metadata": {},
          "execution_count": 38
        }
      ]
    },
    {
      "cell_type": "code",
      "source": [
        "# visualize the avg_char_len \n",
        "plt.hist(char_len, bins=20);"
      ],
      "metadata": {
        "id": "c3x0JDEofh9k",
        "colab": {
          "base_uri": "https://localhost:8080/",
          "height": 265
        },
        "outputId": "6468247d-fa15-40a0-eb70-67c0402cccc1"
      },
      "execution_count": null,
      "outputs": [
        {
          "output_type": "display_data",
          "data": {
            "text/plain": [
              "<Figure size 432x288 with 1 Axes>"
            ],
            "image/png": "[encoded data removed]"
          },
          "metadata": {
            "needs_background": "light"
          }
        }
      ]
    },
    {
      "cell_type": "code",
      "source": [
        "# How long of a sentence length covers 95% of examples?\n",
        "output_sen_len = int(np.percentile(char_len, 95))\n",
        "output_sen_len"
      ],
      "metadata": {
        "id": "MrehwnfKfh7T",
        "colab": {
          "base_uri": "https://localhost:8080/"
        },
        "outputId": "b68b2f8a-22d7-4687-930d-6ce8446cb486"
      },
      "execution_count": null,
      "outputs": [
        {
          "output_type": "execute_result",
          "data": {
            "text/plain": [
              "290"
            ]
          },
          "metadata": {},
          "execution_count": 40
        }
      ]
    },
    {
      "cell_type": "code",
      "source": [
        "# Get all the keyboard character\n",
        "import string\n",
        "alphabets = string.ascii_lowercase + string.digits + string.punctuation\n",
        "alphabets"
      ],
      "metadata": {
        "id": "R2CRNuIYqU29",
        "colab": {
          "base_uri": "https://localhost:8080/",
          "height": 36
        },
        "outputId": "83fd7525-2bcd-4e0b-b1d5-a579251b0ebf"
      },
      "execution_count": null,
      "outputs": [
        {
          "output_type": "execute_result",
          "data": {
            "text/plain": [
              "'abcdefghijklmnopqrstuvwxyz0123456789!\"#$%&\\'()*+,-./:;<=>?@[\\\\]^_`{|}~'"
            ],
            "application/vnd.google.colaboratory.intrinsic+json": {
              "type": "string"
            }
          },
          "metadata": {},
          "execution_count": 41
        }
      ]
    },
    {
      "cell_type": "markdown",
      "source": [
        "#### Text-vectorization layer for character level embeddings"
      ],
      "metadata": {
        "id": "ctomE3n3psHV"
      }
    },
    {
      "cell_type": "code",
      "source": [
        "# Setting the text-vectorizer\n",
        "NUM_CHAR_TOKENS = len(alphabets) + 2 # add 2 for space and OOV token {OOV = out of vocab, '[UNK]'}\n",
        "max_length = output_sen_len\n",
        "\n",
        "char_vectorizer = TextVectorization(max_tokens=NUM_CHAR_TOKENS,\n",
        "                                    output_sequence_length=max_length,\n",
        "                                    standardize='lower_and_strip_punctuation',\n",
        "                                    name=\"char_vectorizer\")"
      ],
      "metadata": {
        "id": "3B8YXp_Zfh4v"
      },
      "execution_count": null,
      "outputs": []
    },
    {
      "cell_type": "code",
      "source": [
        "# Adapt to our training characters\n",
        "char_vectorizer.adapt(train_chars)"
      ],
      "metadata": {
        "id": "NzTVLMI0fh2e"
      },
      "execution_count": null,
      "outputs": []
    },
    {
      "cell_type": "code",
      "source": [
        "# Check character vocab stats\n",
        "char_vocab = char_vectorizer.get_vocabulary()\n",
        "print(f\"No. of different characters in character vocab: {len(char_vocab)}\")\n",
        "print(f\"5 most common characters: {char_vocab[:5]}\")\n",
        "print(f\"5 least common characters: {char_vocab[-5:]}\")"
      ],
      "metadata": {
        "id": "l2Ml5Eo88d-G",
        "colab": {
          "base_uri": "https://localhost:8080/"
        },
        "outputId": "de883c37-2b23-4df4-87a5-9a998db6ca8c"
      },
      "execution_count": null,
      "outputs": [
        {
          "output_type": "stream",
          "name": "stdout",
          "text": [
            "No. of different characters in character vocab: 28\n",
            "5 most common characters: ['', '[UNK]', 'e', 't', 'i']\n",
            "5 least common characters: ['k', 'x', 'z', 'q', 'j']\n"
          ]
        }
      ]
    },
    {
      "cell_type": "code",
      "source": [
        "# Test out character vectorizer\n",
        "random_train_chars = random.choice(train_chars)\n",
        "print(f\"Charified text:\\n{random_train_chars}\")\n",
        "print(f\"Length of random_train_chars: {len(random_train_chars.split())}\\n\")\n",
        "vectorized_train_chars = char_vectorizer([random_train_chars])\n",
        "print(f\"Vectorized chars:\\n{vectorized_train_chars}\")\n",
        "print(f\"Length of vectorized_train_chars: {len(vectorized_train_chars[0])}\")"
      ],
      "metadata": {
        "id": "5N2ouemAsuJE",
        "colab": {
          "base_uri": "https://localhost:8080/"
        },
        "outputId": "84d32f1a-d193-47f7-8ec5-19a1b1b6d526"
      },
      "execution_count": null,
      "outputs": [
        {
          "output_type": "stream",
          "name": "stdout",
          "text": [
            "Charified text:\n",
            "c o m p a r e d   w i t h   t h e   c o n t r o l   g r o u p   ,   t h e   a b n o r m a l   l y m p h o c y t e   p o s i t i v e   c a s e   n u m b e r   o b v i o u s l y   d e c r e a s e d   i n   t h e   t r e a t m e n t   g r o u p   a f t e r   t r e a t m e n t   ,   a t   w e e k   @   a n d   @   o f   f o l l o w - u p s   (   p   <   @   )   .\n",
            "Length of random_train_chars: 148\n",
            "\n",
            "Vectorized chars:\n",
            "[[11  7 15 14  5  8  2 10 20  4  3 13  3 13  2 11  7  6  3  8  7 12 18  8\n",
            "   7 16 14  3 13  2  5 22  6  7  8 15  5 12 12 19 15 14 13  7 11 19  3  2\n",
            "  14  7  9  4  3  4 21  2 11  5  9  2  6 16 15 22  2  8  7 22 21  4  7 16\n",
            "   9 12 19 10  2 11  8  2  5  9  2 10  4  6  3 13  2  3  8  2  5  3 15  2\n",
            "   6  3 18  8  7 16 14  5 17  3  2  8  3  8  2  5  3 15  2  6  3  5  3 20\n",
            "   2  2 23  5  6 10  7 17 17  7 12 12  7 20 16 14  9 14  0  0  0  0  0  0\n",
            "   0  0  0  0  0  0  0  0  0  0  0  0  0  0  0  0  0  0  0  0  0  0  0  0\n",
            "   0  0  0  0  0  0  0  0  0  0  0  0  0  0  0  0  0  0  0  0  0  0  0  0\n",
            "   0  0  0  0  0  0  0  0  0  0  0  0  0  0  0  0  0  0  0  0  0  0  0  0\n",
            "   0  0  0  0  0  0  0  0  0  0  0  0  0  0  0  0  0  0  0  0  0  0  0  0\n",
            "   0  0  0  0  0  0  0  0  0  0  0  0  0  0  0  0  0  0  0  0  0  0  0  0\n",
            "   0  0  0  0  0  0  0  0  0  0  0  0  0  0  0  0  0  0  0  0  0  0  0  0\n",
            "   0  0]]\n",
            "Length of vectorized_train_chars: 290\n"
          ]
        }
      ]
    },
    {
      "cell_type": "markdown",
      "source": [
        "#### Embeddings for character level tokenizer"
      ],
      "metadata": {
        "id": "74feOPUeu8g-"
      }
    },
    {
      "cell_type": "code",
      "source": [
        "# Creating an embedding layer\n",
        "char_embedding = layers.Embedding(input_dim=len(char_vocab),  # no. of different characters\n",
        "                                  output_dim=25,  # output shape\n",
        "                                  mask_zero=True,  # use masking to handle variable sequence lengths\n",
        "                                  name=\"char_embedding\")\n",
        "char_embedding"
      ],
      "metadata": {
        "id": "SrBhXxLnsuFl",
        "colab": {
          "base_uri": "https://localhost:8080/"
        },
        "outputId": "59b77739-6c2b-4191-bf03-2a38e687b4bc"
      },
      "execution_count": null,
      "outputs": [
        {
          "output_type": "execute_result",
          "data": {
            "text/plain": [
              "<keras.layers.embeddings.Embedding at 0x7f58218869d0>"
            ]
          },
          "metadata": {},
          "execution_count": 46
        }
      ]
    },
    {
      "cell_type": "code",
      "source": [
        "# Test out our embedding layer\n",
        "print(f\"Charified text:\\n{random_train_chars}\\n\")\n",
        "print(f\"Length of charified text:\\n{len(random_train_chars.split())}\\n\")\n",
        "char_embed = char_embedding(char_vectorizer([random_train_chars]))\n",
        "print(f\"Embedding for charified text:\\n{char_embed}\\n\")\n",
        "print(f\"Shape of embedding:\\n{char_embed.shape}\")"
      ],
      "metadata": {
        "id": "dR4anPsMsuCW",
        "colab": {
          "base_uri": "https://localhost:8080/"
        },
        "outputId": "a0bb4351-64d4-4958-c2f4-7d963367938b"
      },
      "execution_count": null,
      "outputs": [
        {
          "output_type": "stream",
          "name": "stdout",
          "text": [
            "Charified text:\n",
            "c o m p a r e d   w i t h   t h e   c o n t r o l   g r o u p   ,   t h e   a b n o r m a l   l y m p h o c y t e   p o s i t i v e   c a s e   n u m b e r   o b v i o u s l y   d e c r e a s e d   i n   t h e   t r e a t m e n t   g r o u p   a f t e r   t r e a t m e n t   ,   a t   w e e k   @   a n d   @   o f   f o l l o w - u p s   (   p   <   @   )   .\n",
            "\n",
            "Length of charified text:\n",
            "148\n",
            "\n",
            "Embedding for charified text:\n",
            "[[[ 0.0439554   0.02920853  0.04593668 ...  0.03121893  0.00438524\n",
            "    0.0252697 ]\n",
            "  [-0.01364134  0.02310688  0.00235299 ...  0.04159215  0.01539774\n",
            "   -0.03915709]\n",
            "  [-0.02560089 -0.00238056 -0.03969715 ...  0.0379239  -0.04590023\n",
            "   -0.03918231]\n",
            "  ...\n",
            "  [-0.035111    0.01940202 -0.0104903  ... -0.02595075 -0.01635902\n",
            "    0.02341254]\n",
            "  [-0.035111    0.01940202 -0.0104903  ... -0.02595075 -0.01635902\n",
            "    0.02341254]\n",
            "  [-0.035111    0.01940202 -0.0104903  ... -0.02595075 -0.01635902\n",
            "    0.02341254]]]\n",
            "\n",
            "Shape of embedding:\n",
            "(1, 290, 25)\n"
          ]
        }
      ]
    },
    {
      "cell_type": "markdown",
      "source": [
        "#### Creating the CNN"
      ],
      "metadata": {
        "id": "_BgpFgP_xB77"
      }
    },
    {
      "cell_type": "code",
      "source": [
        "# Create the model for character level embeddings\n",
        "input = layers.Input(shape=(1, ), dtype=tf.string)\n",
        "x = char_vectorizer(input)\n",
        "x = char_embedding(x)\n",
        "x = layers.Conv1D(256,\n",
        "                  kernel_size=3,\n",
        "                  padding='same',\n",
        "                  activation='relu')(x)\n",
        "x = layers.GlobalMaxPooling1D()(x)\n",
        "output = layers.Dense(num_classes, activation=\"softmax\")(x)\n",
        "model_3 = tf.keras.Model(input, output, name=\"conv_1d_char_embed\")"
      ],
      "metadata": {
        "id": "HpRzh3MQst_R"
      },
      "execution_count": null,
      "outputs": []
    },
    {
      "cell_type": "code",
      "source": [
        "model_3.summary()"
      ],
      "metadata": {
        "id": "zBtCitzsst7t"
      },
      "execution_count": null,
      "outputs": []
    },
    {
      "cell_type": "code",
      "source": [
        "# Create char level dataset\n",
        "train_char_dataset = tf.data.Dataset.from_tensor_slices((train_chars, train_labels_one_hot)).batch(32).prefetch(tf.data.AUTOTUNE)\n",
        "val_char_dataset = tf.data.Dataset.from_tensor_slices((val_chars, val_labels_one_hot)).batch(32).prefetch(tf.data.AUTOTUNE)\n",
        "test_char_dataset = tf.data.Dataset.from_tensor_slices((test_chars, test_labels_one_hot)).batch(32).prefetch(tf.data.AUTOTUNE)"
      ],
      "metadata": {
        "id": "VoUGwD2V06FZ"
      },
      "execution_count": null,
      "outputs": []
    },
    {
      "cell_type": "code",
      "source": [
        "train_char_dataset"
      ],
      "metadata": {
        "id": "puf9KQ-p1K9j"
      },
      "execution_count": null,
      "outputs": []
    },
    {
      "cell_type": "code",
      "source": [
        "# Compile the model\n",
        "model_3.compile(loss=\"categorical_crossentropy\",\n",
        "                optimizer=\"Adam\",\n",
        "                metrics=['accuracy'])\n",
        "\n",
        "# Fit the model\n",
        "model_3_history = model_3.fit(train_char_dataset,\n",
        "                              validation_data=val_char_dataset,\n",
        "                              epochs=5,\n",
        "                              steps_per_epoch=int(0.1*len(train_char_dataset)),\n",
        "                              validation_steps=int(0.1*len(val_char_dataset)))"
      ],
      "metadata": {
        "id": "efCuvCiJst4I"
      },
      "execution_count": null,
      "outputs": []
    },
    {
      "cell_type": "code",
      "source": [
        "# Evaluate the model 3\n",
        "model_3.evaluate(val_dataset)"
      ],
      "metadata": {
        "id": "ggW82WkKstx5"
      },
      "execution_count": null,
      "outputs": []
    },
    {
      "cell_type": "code",
      "source": [
        "# Make predictions on the validation dataset\n",
        "model_3_preds = model_3.predict(val_dataset)\n",
        "model_3_preds[:10]"
      ],
      "metadata": {
        "id": "NZqkwC9vstvH"
      },
      "execution_count": null,
      "outputs": []
    },
    {
      "cell_type": "code",
      "source": [
        "# Converting the pred probs to labels\n",
        "model_3_preds = tf.argmax(model_3_preds, axis=1)\n",
        "model_3_preds"
      ],
      "metadata": {
        "id": "BhSLZ0VszcGR"
      },
      "execution_count": null,
      "outputs": []
    },
    {
      "cell_type": "code",
      "source": [
        "# Calculating the evaluation metrics for model 3\n",
        "model_3_result = calculate_results(y_true=val_labels,\n",
        "                                  y_pred=model_3_preds)\n",
        "model_3_result"
      ],
      "metadata": {
        "id": "zD-f1fMustsT"
      },
      "execution_count": null,
      "outputs": []
    },
    {
      "cell_type": "markdown",
      "source": [
        "### Model 4: Combining pretrained token embeddings + character embeddings (hybrid embedding layer)\n",
        "\n",
        "1. Create a token-level embedding model (similar `model_1`).\n",
        "2. Create a character level model (similar to `model_3` with a slight modification).\n",
        "3. Combine 1 & 2 with a concatenate (`layers.Concatenate`).\n",
        "4. Build a series of output layers on top of 3 similar to Figure 1.\n",
        "5. Construct a model which takes tokens and character-level sequences as input and produces sequence label probabilites as output."
      ],
      "metadata": {
        "id": "nmZDo7XF5bu-"
      }
    },
    {
      "cell_type": "code",
      "source": [
        "# 1. Setup model for token-level embeddings\n",
        "token_input = layers.Input(shape=[], dtype=tf.string, name=\"token_input\")\n",
        "token_embedding = tf_hub_embedding_layer(token_input)\n",
        "token_output = layers.Dense(300, activation=\"relu\")(token_embedding)\n",
        "token_model = tf.keras.Model(token_input, token_output)\n",
        "\n",
        "# 2. Setup model for character-level embeddings\n",
        "char_input = layers.Input(shape=(1, ), dtype=tf.string, name=\"char_input\")\n",
        "char_vectors = char_vectorizer(char_input)\n",
        "char_embeddings = char_embedding(char_vectors)\n",
        "char_bi_lstm = layers.Bidirectional(layers.LSTM(25))(char_embeddings)\n",
        "char_model = tf.keras.Model(char_input, char_bi_lstm)\n",
        "\n",
        "# 3. Combine token and character-level embedding model\n",
        "token_char_concatenate = layers.Concatenate(name=\"token_char_hybrid\")([token_model.output,\n",
        "                                                                       char_model.output])\n",
        "\n",
        "# 4. Create output layers - adding in Dropout\n",
        "combined_dropout = layers.Dropout(0.5)(token_char_concatenate)\n",
        "combined_dense = layers.Dense(300, activation=\"relu\")(combined_dropout)\n",
        "final_dropout = layers.Dropout(0.5)(combined_dense)\n",
        "output_layer = layers.Dense(num_classes, activation=\"softmax\")(final_dropout)\n",
        "\n",
        "# 5. Construct model with char and token inputs\n",
        "model_4 = tf.keras.Model(inputs=[token_input, char_input],\n",
        "                         outputs=output_layer,\n",
        "                         name=\"model_4_token_and_char_embeddings\")"
      ],
      "metadata": {
        "id": "StXBDy4FstpN"
      },
      "execution_count": null,
      "outputs": []
    },
    {
      "cell_type": "code",
      "source": [
        "model_4.summary()"
      ],
      "metadata": {
        "id": "HsWaclWMstl8"
      },
      "execution_count": null,
      "outputs": []
    },
    {
      "cell_type": "code",
      "source": [
        "# Plot hybrid token and character model\n",
        "from tensorflow.keras.utils import plot_model\n",
        "plot_model(model_4, show_shapes=True)"
      ],
      "metadata": {
        "id": "5olRr-dbstkR"
      },
      "execution_count": null,
      "outputs": []
    },
    {
      "cell_type": "markdown",
      "source": [
        "#### Compiling the hybrid model"
      ],
      "metadata": {
        "id": "V05ffmKH9VDK"
      }
    },
    {
      "cell_type": "code",
      "source": [
        "# compile the model\n",
        "model_4.compile(loss=\"categorical_crossentropy\",\n",
        "                optimizer='Adam',\n",
        "                metrics=['accuracy'])"
      ],
      "metadata": {
        "id": "_aj6HGl4sthG"
      },
      "execution_count": null,
      "outputs": []
    },
    {
      "cell_type": "markdown",
      "source": [
        "#### Creating datasets for hybrid model training and prediction"
      ],
      "metadata": {
        "id": "x9DWKDuT9QNK"
      }
    },
    {
      "cell_type": "code",
      "source": [
        "# Create chars and tokens into a dataset\n",
        "train_char_token_data = tf.data.Dataset.from_tensor_slices((train_sentences, train_chars))\n",
        "train_char_token_labels = tf.data.Dataset.from_tensor_slices(train_labels_one_hot)\n",
        "train_char_token_dataset = tf.data.Dataset.zip((train_char_token_data, train_char_token_labels))\n",
        "\n",
        "# Prefetch and batch train dataset\n",
        "train_char_token_dataset = train_char_token_dataset.batch(32).prefetch(tf.data.AUTOTUNE)"
      ],
      "metadata": {
        "id": "xWO4oX8Y9PtF"
      },
      "execution_count": null,
      "outputs": []
    },
    {
      "cell_type": "code",
      "source": [
        "# Create chars and tokens into a dataset for validation data\n",
        "val_char_token_data = tf.data.Dataset.from_tensor_slices((val_sentences, val_chars))\n",
        "val_char_token_labels = tf.data.Dataset.from_tensor_slices(val_labels_one_hot)\n",
        "val_char_token_dataset = tf.data.Dataset.zip((val_char_token_data, val_char_token_labels))\n",
        "\n",
        "# Prefetch and batch train dataset\n",
        "val_char_token_dataset = val_char_token_dataset.batch(32).prefetch(tf.data.AUTOTUNE)"
      ],
      "metadata": {
        "id": "IjKuDTWA_jNc"
      },
      "execution_count": null,
      "outputs": []
    },
    {
      "cell_type": "markdown",
      "source": [
        "#### Fitting the hybrid model"
      ],
      "metadata": {
        "id": "LnTIgwWx9bNa"
      }
    },
    {
      "cell_type": "code",
      "source": [
        "# fit the model\n",
        "model_4_history = model_4.fit(train_char_token_dataset,\n",
        "                              epochs=5,\n",
        "                              validation_data=val_char_token_dataset,\n",
        "                              steps_per_epoch=int(0.1*len(val_char_token_dataset)),\n",
        "                              validation_steps=int(0.1*len(train_char_token_dataset)))"
      ],
      "metadata": {
        "id": "Rho9hq3ssteH"
      },
      "execution_count": null,
      "outputs": []
    },
    {
      "cell_type": "code",
      "source": [
        "# Evaluate the model\n",
        "model_4.evaluate(val_char_token_dataset)"
      ],
      "metadata": {
        "id": "MEaSvolKstbT"
      },
      "execution_count": null,
      "outputs": []
    },
    {
      "cell_type": "code",
      "source": [
        "# Make predictions on the validation dataset\n",
        "model_4_preds = model_4.predict(val_char_token_dataset)\n",
        "model_4_preds"
      ],
      "metadata": {
        "id": "ZaZZX-DVstYO"
      },
      "execution_count": null,
      "outputs": []
    },
    {
      "cell_type": "code",
      "source": [
        "# converting the pred probs to labels\n",
        "model_4_preds = tf.argmax(model_4_preds, axis=1)\n",
        "model_4_preds"
      ],
      "metadata": {
        "id": "nsCBrJ-vstVN"
      },
      "execution_count": null,
      "outputs": []
    },
    {
      "cell_type": "code",
      "source": [
        "# Performance metrics for model_4\n",
        "model_4_results = calculate_results(y_true=val_labels,\n",
        "                                   y_pred=model_4_preds)\n",
        "model_4_results"
      ],
      "metadata": {
        "id": "gnin4LqLstSC"
      },
      "execution_count": null,
      "outputs": []
    },
    {
      "cell_type": "markdown",
      "source": [
        "### Model 5: Builiding a tribrid embedding model\n",
        "\n",
        "1. Create a token-level embedding model\n",
        "2. Create a character-level embedding model\n",
        "3. Create a model for 'line_number' feature\n",
        "4. Create a model for 'total_lines' feature\n",
        "5. Combine the outputs of 1 & 2 using tf.keras.layers.Concatenate\n",
        "6. Combine the outputs of 3, 4, 5 using tf.keras.layers.Concatenate\n",
        "7. Create an output layer to accept the tribrid embedding and output label probabilities\n",
        "8. Combine the inputs of 1, 2, 3, 4 and outputs into a tf.keras.Model"
      ],
      "metadata": {
        "id": "7NyVATx_Ie1b"
      }
    },
    {
      "cell_type": "markdown",
      "source": [
        "##### Analysing line numbers"
      ],
      "metadata": {
        "id": "43r2lcz7bzsX"
      }
    },
    {
      "cell_type": "code",
      "source": [
        "train_df.head()"
      ],
      "metadata": {
        "id": "h7Y3J8vZEK9x",
        "colab": {
          "base_uri": "https://localhost:8080/",
          "height": 206
        },
        "outputId": "be26d745-c5bd-4d22-fdc2-2d9ff3c3d2e3"
      },
      "execution_count": null,
      "outputs": [
        {
          "output_type": "execute_result",
          "data": {
            "text/plain": [
              "      target                                               text  line_number  \\\n",
              "0  OBJECTIVE  to investigate the efficacy of @ weeks of dail...            0   \n",
              "1    METHODS  a total of @ patients with primary knee oa wer...            1   \n",
              "2    METHODS  outcome measures included pain reduction and i...            2   \n",
              "3    METHODS  pain was assessed using the visual analog pain...            3   \n",
              "4    METHODS  secondary outcome measures included the wester...            4   \n",
              "\n",
              "   total_lines  \n",
              "0           11  \n",
              "1           11  \n",
              "2           11  \n",
              "3           11  \n",
              "4           11  "
            ],
            "text/html": [
              "\n",
              "  <div id=\"df-89e75b11-9561-4435-8f14-44df8f708557\">\n",
              "    <div class=\"colab-df-container\">\n",
              "      <div>\n",
              "<style scoped>\n",
              "    .dataframe tbody tr th:only-of-type {\n",
              "        vertical-align: middle;\n",
              "    }\n",
              "\n",
              "    .dataframe tbody tr th {\n",
              "        vertical-align: top;\n",
              "    }\n",
              "\n",
              "    .dataframe thead th {\n",
              "        text-align: right;\n",
              "    }\n",
              "</style>\n",
              "<table border=\"1\" class=\"dataframe\">\n",
              "  <thead>\n",
              "    <tr style=\"text-align: right;\">\n",
              "      <th></th>\n",
              "      <th>target</th>\n",
              "      <th>text</th>\n",
              "      <th>line_number</th>\n",
              "      <th>total_lines</th>\n",
              "    </tr>\n",
              "  </thead>\n",
              "  <tbody>\n",
              "    <tr>\n",
              "      <th>0</th>\n",
              "      <td>OBJECTIVE</td>\n",
              "      <td>to investigate the efficacy of @ weeks of dail...</td>\n",
              "      <td>0</td>\n",
              "      <td>11</td>\n",
              "    </tr>\n",
              "    <tr>\n",
              "      <th>1</th>\n",
              "      <td>METHODS</td>\n",
              "      <td>a total of @ patients with primary knee oa wer...</td>\n",
              "      <td>1</td>\n",
              "      <td>11</td>\n",
              "    </tr>\n",
              "    <tr>\n",
              "      <th>2</th>\n",
              "      <td>METHODS</td>\n",
              "      <td>outcome measures included pain reduction and i...</td>\n",
              "      <td>2</td>\n",
              "      <td>11</td>\n",
              "    </tr>\n",
              "    <tr>\n",
              "      <th>3</th>\n",
              "      <td>METHODS</td>\n",
              "      <td>pain was assessed using the visual analog pain...</td>\n",
              "      <td>3</td>\n",
              "      <td>11</td>\n",
              "    </tr>\n",
              "    <tr>\n",
              "      <th>4</th>\n",
              "      <td>METHODS</td>\n",
              "      <td>secondary outcome measures included the wester...</td>\n",
              "      <td>4</td>\n",
              "      <td>11</td>\n",
              "    </tr>\n",
              "  </tbody>\n",
              "</table>\n",
              "</div>\n",
              "      <button class=\"colab-df-convert\" onclick=\"convertToInteractive('df-89e75b11-9561-4435-8f14-44df8f708557')\"\n",
              "              title=\"Convert this dataframe to an interactive table.\"\n",
              "              style=\"display:none;\">\n",
              "        \n",
              "  <svg xmlns=\"http://www.w3.org/2000/svg\" height=\"24px\"viewBox=\"0 0 24 24\"\n",
              "       width=\"24px\">\n",
              "    <path d=\"M0 0h24v24H0V0z\" fill=\"none\"/>\n",
              "    <path d=\"M18.56 5.44l.94 2.06.94-2.06 2.06-.94-2.06-.94-.94-2.06-.94 2.06-2.06.94zm-11 1L8.5 8.5l.94-2.06 2.06-.94-2.06-.94L8.5 2.5l-.94 2.06-2.06.94zm10 10l.94 2.06.94-2.06 2.06-.94-2.06-.94-.94-2.06-.94 2.06-2.06.94z\"/><path d=\"M17.41 7.96l-1.37-1.37c-.4-.4-.92-.59-1.43-.59-.52 0-1.04.2-1.43.59L10.3 9.45l-7.72 7.72c-.78.78-.78 2.05 0 2.83L4 21.41c.39.39.9.59 1.41.59.51 0 1.02-.2 1.41-.59l7.78-7.78 2.81-2.81c.8-.78.8-2.07 0-2.86zM5.41 20L4 18.59l7.72-7.72 1.47 1.35L5.41 20z\"/>\n",
              "  </svg>\n",
              "      </button>\n",
              "      \n",
              "  <style>\n",
              "    .colab-df-container {\n",
              "      display:flex;\n",
              "      flex-wrap:wrap;\n",
              "      gap: 12px;\n",
              "    }\n",
              "\n",
              "    .colab-df-convert {\n",
              "      background-color: #E8F0FE;\n",
              "      border: none;\n",
              "      border-radius: 50%;\n",
              "      cursor: pointer;\n",
              "      display: none;\n",
              "      fill: #1967D2;\n",
              "      height: 32px;\n",
              "      padding: 0 0 0 0;\n",
              "      width: 32px;\n",
              "    }\n",
              "\n",
              "    .colab-df-convert:hover {\n",
              "      background-color: #E2EBFA;\n",
              "      box-shadow: 0px 1px 2px rgba(60, 64, 67, 0.3), 0px 1px 3px 1px rgba(60, 64, 67, 0.15);\n",
              "      fill: #174EA6;\n",
              "    }\n",
              "\n",
              "    [theme=dark] .colab-df-convert {\n",
              "      background-color: #3B4455;\n",
              "      fill: #D2E3FC;\n",
              "    }\n",
              "\n",
              "    [theme=dark] .colab-df-convert:hover {\n",
              "      background-color: #434B5C;\n",
              "      box-shadow: 0px 1px 3px 1px rgba(0, 0, 0, 0.15);\n",
              "      filter: drop-shadow(0px 1px 2px rgba(0, 0, 0, 0.3));\n",
              "      fill: #FFFFFF;\n",
              "    }\n",
              "  </style>\n",
              "\n",
              "      <script>\n",
              "        const buttonEl =\n",
              "          document.querySelector('#df-89e75b11-9561-4435-8f14-44df8f708557 button.colab-df-convert');\n",
              "        buttonEl.style.display =\n",
              "          google.colab.kernel.accessAllowed ? 'block' : 'none';\n",
              "\n",
              "        async function convertToInteractive(key) {\n",
              "          const element = document.querySelector('#df-89e75b11-9561-4435-8f14-44df8f708557');\n",
              "          const dataTable =\n",
              "            await google.colab.kernel.invokeFunction('convertToInteractive',\n",
              "                                                     [key], {});\n",
              "          if (!dataTable) return;\n",
              "\n",
              "          const docLinkHtml = 'Like what you see? Visit the ' +\n",
              "            '<a target=\"_blank\" href=https://colab.research.google.com/notebooks/data_table.ipynb>data table notebook</a>'\n",
              "            + ' to learn more about interactive tables.';\n",
              "          element.innerHTML = '';\n",
              "          dataTable['output_type'] = 'display_data';\n",
              "          await google.colab.output.renderOutput(dataTable, element);\n",
              "          const docLink = document.createElement('div');\n",
              "          docLink.innerHTML = docLinkHtml;\n",
              "          element.appendChild(docLink);\n",
              "        }\n",
              "      </script>\n",
              "    </div>\n",
              "  </div>\n",
              "  "
            ]
          },
          "metadata": {},
          "execution_count": 48
        }
      ]
    },
    {
      "cell_type": "code",
      "source": [
        "train_df.line_number.value_counts()"
      ],
      "metadata": {
        "id": "sDevvjQ0stOz",
        "colab": {
          "base_uri": "https://localhost:8080/"
        },
        "outputId": "ce358ae8-ad28-49b0-aabd-cb9920f2e49c"
      },
      "execution_count": null,
      "outputs": [
        {
          "output_type": "execute_result",
          "data": {
            "text/plain": [
              "0     15000\n",
              "1     15000\n",
              "2     15000\n",
              "3     15000\n",
              "4     14992\n",
              "5     14949\n",
              "6     14758\n",
              "7     14279\n",
              "8     13346\n",
              "9     11981\n",
              "10    10041\n",
              "11     7892\n",
              "12     5853\n",
              "13     4152\n",
              "14     2835\n",
              "15     1861\n",
              "16     1188\n",
              "17      751\n",
              "18      462\n",
              "19      286\n",
              "20      162\n",
              "21      101\n",
              "22       66\n",
              "23       33\n",
              "24       22\n",
              "25       14\n",
              "26        7\n",
              "27        4\n",
              "28        3\n",
              "29        1\n",
              "30        1\n",
              "Name: line_number, dtype: int64"
            ]
          },
          "metadata": {},
          "execution_count": 49
        }
      ]
    },
    {
      "cell_type": "code",
      "source": [
        "train_df['line_number'].plot.hist(bins=15);"
      ],
      "metadata": {
        "id": "AcmqsDzBstL5",
        "colab": {
          "base_uri": "https://localhost:8080/",
          "height": 265
        },
        "outputId": "d8e9dbde-de1c-4a6a-b184-9801f60d3b21"
      },
      "execution_count": null,
      "outputs": [
        {
          "output_type": "display_data",
          "data": {
            "text/plain": [
              "<Figure size 432x288 with 1 Axes>"
            ],
            "image/png": "[encoded data removed]"
          },
          "metadata": {
            "needs_background": "light"
          }
        }
      ]
    },
    {
      "cell_type": "markdown",
      "source": [
        "Most of the lines have been covered upto 15 length."
      ],
      "metadata": {
        "id": "eVXPfn_pbEy3"
      }
    },
    {
      "cell_type": "code",
      "source": [
        "# One-hot encode the line numbers\n",
        "train_line_numbers = tf.one_hot(train_df['line_number'].to_numpy(), depth=15)\n",
        "val_line_numbers = tf.one_hot(val_df['line_number'].to_numpy(), depth=15)\n",
        "test_line_numbers = tf.one_hot(test_df['line_number'].to_numpy(), depth=15)"
      ],
      "metadata": {
        "id": "PSkLfAnIstIu"
      },
      "execution_count": null,
      "outputs": []
    },
    {
      "cell_type": "code",
      "source": [
        "train_line_numbers[:10]"
      ],
      "metadata": {
        "id": "JlS2SXoQstFx",
        "colab": {
          "base_uri": "https://localhost:8080/"
        },
        "outputId": "35b6f563-3a54-47ce-abbd-0db29c0621d0"
      },
      "execution_count": null,
      "outputs": [
        {
          "output_type": "execute_result",
          "data": {
            "text/plain": [
              "<tf.Tensor: shape=(10, 15), dtype=float32, numpy=\n",
              "array([[1., 0., 0., 0., 0., 0., 0., 0., 0., 0., 0., 0., 0., 0., 0.],\n",
              "       [0., 1., 0., 0., 0., 0., 0., 0., 0., 0., 0., 0., 0., 0., 0.],\n",
              "       [0., 0., 1., 0., 0., 0., 0., 0., 0., 0., 0., 0., 0., 0., 0.],\n",
              "       [0., 0., 0., 1., 0., 0., 0., 0., 0., 0., 0., 0., 0., 0., 0.],\n",
              "       [0., 0., 0., 0., 1., 0., 0., 0., 0., 0., 0., 0., 0., 0., 0.],\n",
              "       [0., 0., 0., 0., 0., 1., 0., 0., 0., 0., 0., 0., 0., 0., 0.],\n",
              "       [0., 0., 0., 0., 0., 0., 1., 0., 0., 0., 0., 0., 0., 0., 0.],\n",
              "       [0., 0., 0., 0., 0., 0., 0., 1., 0., 0., 0., 0., 0., 0., 0.],\n",
              "       [0., 0., 0., 0., 0., 0., 0., 0., 1., 0., 0., 0., 0., 0., 0.],\n",
              "       [0., 0., 0., 0., 0., 0., 0., 0., 0., 1., 0., 0., 0., 0., 0.]],\n",
              "      dtype=float32)>"
            ]
          },
          "metadata": {},
          "execution_count": 52
        }
      ]
    },
    {
      "cell_type": "markdown",
      "source": [
        "#### Analysing the total no. of lines"
      ],
      "metadata": {
        "id": "IPB6F1zLb51Q"
      }
    },
    {
      "cell_type": "code",
      "source": [
        "train_df['total_lines'].value_counts()"
      ],
      "metadata": {
        "id": "H9LR73D3stCj",
        "colab": {
          "base_uri": "https://localhost:8080/"
        },
        "outputId": "68db7c35-e486-49bd-9e19-fa4fe84901f0"
      },
      "execution_count": null,
      "outputs": [
        {
          "output_type": "execute_result",
          "data": {
            "text/plain": [
              "11    24468\n",
              "10    23639\n",
              "12    22113\n",
              "9     19400\n",
              "13    18438\n",
              "14    14610\n",
              "8     12285\n",
              "15    10768\n",
              "7      7464\n",
              "16     7429\n",
              "17     5202\n",
              "6      3353\n",
              "18     3344\n",
              "19     2480\n",
              "20     1281\n",
              "5      1146\n",
              "21      770\n",
              "22      759\n",
              "23      264\n",
              "4       215\n",
              "24      200\n",
              "25      182\n",
              "26       81\n",
              "28       58\n",
              "3        32\n",
              "30       31\n",
              "27       28\n",
              "Name: total_lines, dtype: int64"
            ]
          },
          "metadata": {},
          "execution_count": 53
        }
      ]
    },
    {
      "cell_type": "code",
      "source": [
        "# Let's visualize the total no. of lines\n",
        "train_df['total_lines'].plot.hist(bins=20)"
      ],
      "metadata": {
        "id": "rfMcLXsoss_o",
        "colab": {
          "base_uri": "https://localhost:8080/",
          "height": 284
        },
        "outputId": "cc121696-d776-4166-ec95-07403f0510ef"
      },
      "execution_count": null,
      "outputs": [
        {
          "output_type": "execute_result",
          "data": {
            "text/plain": [
              "<matplotlib.axes._subplots.AxesSubplot at 0x7f582972c1d0>"
            ]
          },
          "metadata": {},
          "execution_count": 54
        },
        {
          "output_type": "display_data",
          "data": {
            "text/plain": [
              "<Figure size 432x288 with 1 Axes>"
            ],
            "image/png": "[encoded data removed]"
          },
          "metadata": {
            "needs_background": "light"
          }
        }
      ]
    },
    {
      "cell_type": "code",
      "source": [
        "# What length of lines covers the 95% of total_lines?\n",
        "np.percentile(train_df['total_lines'], 95)"
      ],
      "metadata": {
        "id": "_F7-I49Gss8r",
        "colab": {
          "base_uri": "https://localhost:8080/"
        },
        "outputId": "0c73adeb-89a1-42b9-a23a-ae9992e6db61"
      },
      "execution_count": null,
      "outputs": [
        {
          "output_type": "execute_result",
          "data": {
            "text/plain": [
              "18.0"
            ]
          },
          "metadata": {},
          "execution_count": 55
        }
      ]
    },
    {
      "cell_type": "code",
      "source": [
        "# One-hot encode the total no. of lines\n",
        "train_total_lines_one_hot = tf.one_hot(train_df['total_lines'].to_numpy(), depth=20)\n",
        "val_total_lines_one_hot = tf.one_hot(val_df['total_lines'].to_numpy(), depth=20)\n",
        "test_total_lines_one_hot = tf.one_hot(test_df['total_lines'].to_numpy(), depth=20)"
      ],
      "metadata": {
        "id": "JAgSlzdxss6T"
      },
      "execution_count": null,
      "outputs": []
    },
    {
      "cell_type": "code",
      "source": [
        "train_total_lines_one_hot[:10]"
      ],
      "metadata": {
        "id": "ZOjcRX-Hss2t",
        "colab": {
          "base_uri": "https://localhost:8080/"
        },
        "outputId": "69a1ca65-5dd0-4b56-9ff4-ac7031b0fb98"
      },
      "execution_count": null,
      "outputs": [
        {
          "output_type": "execute_result",
          "data": {
            "text/plain": [
              "<tf.Tensor: shape=(10, 20), dtype=float32, numpy=\n",
              "array([[0., 0., 0., 0., 0., 0., 0., 0., 0., 0., 0., 1., 0., 0., 0., 0.,\n",
              "        0., 0., 0., 0.],\n",
              "       [0., 0., 0., 0., 0., 0., 0., 0., 0., 0., 0., 1., 0., 0., 0., 0.,\n",
              "        0., 0., 0., 0.],\n",
              "       [0., 0., 0., 0., 0., 0., 0., 0., 0., 0., 0., 1., 0., 0., 0., 0.,\n",
              "        0., 0., 0., 0.],\n",
              "       [0., 0., 0., 0., 0., 0., 0., 0., 0., 0., 0., 1., 0., 0., 0., 0.,\n",
              "        0., 0., 0., 0.],\n",
              "       [0., 0., 0., 0., 0., 0., 0., 0., 0., 0., 0., 1., 0., 0., 0., 0.,\n",
              "        0., 0., 0., 0.],\n",
              "       [0., 0., 0., 0., 0., 0., 0., 0., 0., 0., 0., 1., 0., 0., 0., 0.,\n",
              "        0., 0., 0., 0.],\n",
              "       [0., 0., 0., 0., 0., 0., 0., 0., 0., 0., 0., 1., 0., 0., 0., 0.,\n",
              "        0., 0., 0., 0.],\n",
              "       [0., 0., 0., 0., 0., 0., 0., 0., 0., 0., 0., 1., 0., 0., 0., 0.,\n",
              "        0., 0., 0., 0.],\n",
              "       [0., 0., 0., 0., 0., 0., 0., 0., 0., 0., 0., 1., 0., 0., 0., 0.,\n",
              "        0., 0., 0., 0.],\n",
              "       [0., 0., 0., 0., 0., 0., 0., 0., 0., 0., 0., 1., 0., 0., 0., 0.,\n",
              "        0., 0., 0., 0.]], dtype=float32)>"
            ]
          },
          "metadata": {},
          "execution_count": 57
        }
      ]
    },
    {
      "cell_type": "code",
      "source": [
        "# 1. Token inputs\n",
        "token_inputs = layers.Input([], dtype='string', name='token_inputs')\n",
        "token_embedding = tf_hub_embedding_layer(token_inputs)\n",
        "token_output = layers.Dense(128, activation='relu')(token_embedding)\n",
        "token_model = tf.keras.Model(token_inputs, token_output)\n",
        "\n",
        "# 2. Char inputs\n",
        "char_inputs = layers.Input(shape=(1, ), dtype='string', name='char_inputs')\n",
        "char_vectors = char_vectorizer(char_inputs)\n",
        "char_embeddings = char_embedding(char_vectors)\n",
        "char_output = layers.Bidirectional(layers.LSTM(25))(char_embeddings)\n",
        "char_model = tf.keras.Model(char_inputs, char_output)\n",
        "\n",
        "# 3. Model for line_number\n",
        "line_number_inputs = layers.Input(shape=(15, ), dtype=tf.float32, name='line_number_inputs')\n",
        "x = layers.Dense(64, activation=\"relu\")(line_number_inputs)\n",
        "line_number_model = tf.keras.Model(line_number_inputs, x)\n",
        "\n",
        "# 4. Model for total lines\n",
        "total_lines_inputs = layers.Input(shape=(20, ), dtype=tf.int32, name='total_lines_inputs')\n",
        "x = layers.Dense(64, activation=\"relu\")(total_lines_inputs)\n",
        "total_lines_model = tf.keras.Model(total_lines_inputs, x)\n",
        "\n",
        "# 5. Concatenate the outputs of 1 & 2\n",
        "token_char_concatenate = layers.Concatenate(name=\"token_char_hybrid\")([token_model.output,\n",
        "                                                                       char_model.output])\n",
        "\n",
        "z = layers.Dense(256, activation=\"relu\")(token_char_concatenate)\n",
        "z = layers.Dropout(0.5)(z)\n",
        "\n",
        "# 6. Concatenate the outputs of 3, 4, 5\n",
        "token_char_lines_concatenate = layers.Concatenate(name=\"token_char_lines_hybrid\")([line_number_model.output,\n",
        "                                                                                   total_lines_model.output,\n",
        "                                                                                   z])\n",
        "\n",
        "# 7. Create output layers - adding in Dropout\n",
        "output_layer = layers.Dense(num_classes, activation=\"softmax\", name=\"output_layer\")(token_char_lines_concatenate)\n",
        "\n",
        "# 8. Construct model with char and token inputs\n",
        "model_5 = tf.keras.Model(inputs=[line_number_model.inputs, \n",
        "                                 total_lines_model.inputs,\n",
        "                                 token_model.inputs, \n",
        "                                 char_model.inputs],\n",
        "                         outputs=output_layer,\n",
        "                         name=\"model_5_tribrid_embeddings\")"
      ],
      "metadata": {
        "id": "XDnfe8LhsszZ"
      },
      "execution_count": null,
      "outputs": []
    },
    {
      "cell_type": "code",
      "source": [
        "# summarz of tribrid model\n",
        "model_5.summary()"
      ],
      "metadata": {
        "id": "P8lxWzDjsswf",
        "colab": {
          "base_uri": "https://localhost:8080/"
        },
        "outputId": "37eb225f-ca08-4e3d-a44d-8176a9b75439"
      },
      "execution_count": null,
      "outputs": [
        {
          "output_type": "stream",
          "name": "stdout",
          "text": [
            "Model: \"model_5_tribrid_embeddings\"\n",
            "__________________________________________________________________________________________________\n",
            " Layer (type)                   Output Shape         Param #     Connected to                     \n",
            "==================================================================================================\n",
            " char_inputs (InputLayer)       [(None, 1)]          0           []                               \n",
            "                                                                                                  \n",
            " token_inputs (InputLayer)      [(None,)]            0           []                               \n",
            "                                                                                                  \n",
            " char_vectorizer (TextVectoriza  (None, 290)         0           ['char_inputs[0][0]']            \n",
            " tion)                                                                                            \n",
            "                                                                                                  \n",
            " univeral_sentence_encoder (Ker  (None, 512)         256797824   ['token_inputs[0][0]']           \n",
            " asLayer)                                                                                         \n",
            "                                                                                                  \n",
            " char_embedding (Embedding)     (None, 290, 25)      700         ['char_vectorizer[0][0]']        \n",
            "                                                                                                  \n",
            " dense (Dense)                  (None, 128)          65664       ['univeral_sentence_encoder[0][0]\n",
            "                                                                 ']                               \n",
            "                                                                                                  \n",
            " bidirectional (Bidirectional)  (None, 50)           10200       ['char_embedding[0][0]']         \n",
            "                                                                                                  \n",
            " token_char_hybrid (Concatenate  (None, 178)         0           ['dense[0][0]',                  \n",
            " )                                                                'bidirectional[0][0]']          \n",
            "                                                                                                  \n",
            " line_number_inputs (InputLayer  [(None, 15)]        0           []                               \n",
            " )                                                                                                \n",
            "                                                                                                  \n",
            " total_lines_inputs (InputLayer  [(None, 20)]        0           []                               \n",
            " )                                                                                                \n",
            "                                                                                                  \n",
            " dense_3 (Dense)                (None, 256)          45824       ['token_char_hybrid[0][0]']      \n",
            "                                                                                                  \n",
            " dense_1 (Dense)                (None, 64)           1024        ['line_number_inputs[0][0]']     \n",
            "                                                                                                  \n",
            " dense_2 (Dense)                (None, 64)           1344        ['total_lines_inputs[0][0]']     \n",
            "                                                                                                  \n",
            " dropout (Dropout)              (None, 256)          0           ['dense_3[0][0]']                \n",
            "                                                                                                  \n",
            " token_char_lines_hybrid (Conca  (None, 384)         0           ['dense_1[0][0]',                \n",
            " tenate)                                                          'dense_2[0][0]',                \n",
            "                                                                  'dropout[0][0]']                \n",
            "                                                                                                  \n",
            " output_layer (Dense)           (None, 5)            1925        ['token_char_lines_hybrid[0][0]']\n",
            "                                                                                                  \n",
            "==================================================================================================\n",
            "Total params: 256,924,505\n",
            "Trainable params: 126,681\n",
            "Non-trainable params: 256,797,824\n",
            "__________________________________________________________________________________________________\n"
          ]
        }
      ]
    },
    {
      "cell_type": "code",
      "source": [
        "# Plot the tribrid model\n",
        "from tensorflow.keras.utils import plot_model\n",
        "plot_model(model_5, show_shapes=True)"
      ],
      "metadata": {
        "id": "vSAvU9sXsstt",
        "colab": {
          "base_uri": "https://localhost:8080/",
          "height": 806
        },
        "outputId": "344ac518-0d8c-4ef2-b64e-5ad0e7b11977"
      },
      "execution_count": null,
      "outputs": [
        {
          "output_type": "execute_result",
          "data": {
            "text/plain": [
              "<IPython.core.display.Image object>"
            ],
            "image/png": "[encoded data removed]"
          },
          "metadata": {},
          "execution_count": 60
        }
      ]
    },
    {
      "cell_type": "code",
      "source": [
        "# Compile the model\n",
        "model_5.compile(loss=tf.keras.losses.CategoricalCrossentropy(label_smoothing=0.2),\n",
        "                optimizer='Adam',\n",
        "                metrics=['accuracy'])"
      ],
      "metadata": {
        "id": "Qzxop0WZsspS"
      },
      "execution_count": null,
      "outputs": []
    },
    {
      "cell_type": "markdown",
      "source": [
        "#### Creating datasets for training, validation and testing"
      ],
      "metadata": {
        "id": "L1JyLS8Dzhix"
      }
    },
    {
      "cell_type": "code",
      "source": [
        "## Training Dataset\n",
        "\n",
        "# Create chars and tokens into a dataset\n",
        "train_tribrid_data = tf.data.Dataset.from_tensor_slices((train_line_numbers, train_total_lines_one_hot, train_sentences, train_chars))\n",
        "train_tribrid_labels = tf.data.Dataset.from_tensor_slices(train_labels_one_hot)\n",
        "train_tribrid_dataset = tf.data.Dataset.zip((train_tribrid_data, train_tribrid_labels))\n",
        "\n",
        "# Prefetch and batch train dataset\n",
        "train_tribrid_dataset = train_tribrid_dataset.batch(32).prefetch(tf.data.AUTOTUNE)\n",
        "\n",
        "## Validation Dataset\n",
        "\n",
        "# Create chars and tokens into a dataset\n",
        "val_tribrid_data = tf.data.Dataset.from_tensor_slices((val_line_numbers, val_total_lines_one_hot, val_sentences, val_chars))\n",
        "val_tribrid_labels = tf.data.Dataset.from_tensor_slices(val_labels_one_hot)\n",
        "val_tribrid_dataset = tf.data.Dataset.zip((val_tribrid_data, val_tribrid_labels))\n",
        "\n",
        "# Prefetch and batch val dataset\n",
        "val_tribrid_dataset = val_tribrid_dataset.batch(32).prefetch(tf.data.AUTOTUNE)\n",
        "train_tribrid_dataset, val_tribrid_dataset"
      ],
      "metadata": {
        "id": "bknF46NFssmO",
        "colab": {
          "base_uri": "https://localhost:8080/"
        },
        "outputId": "6748abe9-f9ea-473e-cec2-4ec745e3c6c2"
      },
      "execution_count": null,
      "outputs": [
        {
          "output_type": "execute_result",
          "data": {
            "text/plain": [
              "(<PrefetchDataset element_spec=((TensorSpec(shape=(None, 15), dtype=tf.float32, name=None), TensorSpec(shape=(None, 20), dtype=tf.float32, name=None), TensorSpec(shape=(None,), dtype=tf.string, name=None), TensorSpec(shape=(None,), dtype=tf.string, name=None)), TensorSpec(shape=(None, 5), dtype=tf.float64, name=None))>,\n",
              " <PrefetchDataset element_spec=((TensorSpec(shape=(None, 15), dtype=tf.float32, name=None), TensorSpec(shape=(None, 20), dtype=tf.float32, name=None), TensorSpec(shape=(None,), dtype=tf.string, name=None), TensorSpec(shape=(None,), dtype=tf.string, name=None)), TensorSpec(shape=(None, 5), dtype=tf.float64, name=None))>)"
            ]
          },
          "metadata": {},
          "execution_count": 62
        }
      ]
    },
    {
      "cell_type": "markdown",
      "source": [
        "#### Fitting, Evaluating and making predictions with our hybrid model"
      ],
      "metadata": {
        "id": "40j3fUoA8Mof"
      }
    },
    {
      "cell_type": "code",
      "source": [
        "# Fit the model\n",
        "model_5_history = model_5.fit(train_tribrid_dataset,\n",
        "                              epochs=5,\n",
        "                              steps_per_epoch=int(0.1*len(train_tribrid_dataset)),\n",
        "                              validation_data=val_tribrid_dataset,\n",
        "                              validation_steps=int(0.1*len(val_tribrid_dataset)))"
      ],
      "metadata": {
        "id": "th2SWlWQssjT",
        "colab": {
          "base_uri": "https://localhost:8080/"
        },
        "outputId": "381924a2-1a16-4b64-d005-fe6a67df62d0"
      },
      "execution_count": null,
      "outputs": [
        {
          "output_type": "stream",
          "name": "stdout",
          "text": [
            "Epoch 1/5\n",
            "562/562 [==============================] - 301s 515ms/step - loss: 1.0846 - accuracy: 0.7296 - val_loss: 0.9788 - val_accuracy: 0.8059\n",
            "Epoch 2/5\n",
            "562/562 [==============================] - 180s 321ms/step - loss: 0.9634 - accuracy: 0.8157 - val_loss: 0.9487 - val_accuracy: 0.8308\n",
            "Epoch 3/5\n",
            "562/562 [==============================] - 229s 408ms/step - loss: 0.9475 - accuracy: 0.8249 - val_loss: 0.9384 - val_accuracy: 0.8288\n",
            "Epoch 4/5\n",
            "562/562 [==============================] - 312s 555ms/step - loss: 0.9383 - accuracy: 0.8350 - val_loss: 0.9313 - val_accuracy: 0.8311\n",
            "Epoch 5/5\n",
            "562/562 [==============================] - 276s 491ms/step - loss: 0.9363 - accuracy: 0.8371 - val_loss: 0.9236 - val_accuracy: 0.8391\n"
          ]
        }
      ]
    },
    {
      "cell_type": "code",
      "source": [
        "# make predictions with the char token pos model\n",
        "model_5_preds = model_5.predict(val_tribrid_dataset)\n",
        "model_5_preds"
      ],
      "metadata": {
        "id": "O3trLa7YssgL",
        "colab": {
          "base_uri": "https://localhost:8080/"
        },
        "outputId": "499f70e1-f92e-4d99-ae5a-87733ab3fa68"
      },
      "execution_count": null,
      "outputs": [
        {
          "output_type": "execute_result",
          "data": {
            "text/plain": [
              "array([[0.5968312 , 0.08142965, 0.01792461, 0.2756452 , 0.02816928],\n",
              "       [0.636677  , 0.07155697, 0.08431938, 0.19465572, 0.01279093],\n",
              "       [0.3889188 , 0.09363276, 0.13817331, 0.32251528, 0.05675988],\n",
              "       ...,\n",
              "       [0.03515529, 0.07009605, 0.04306628, 0.02785679, 0.8238256 ],\n",
              "       [0.02161898, 0.36052567, 0.12294525, 0.01882902, 0.47608098],\n",
              "       [0.10012233, 0.7107289 , 0.09711885, 0.01904815, 0.0729818 ]],\n",
              "      dtype=float32)"
            ]
          },
          "metadata": {},
          "execution_count": 64
        }
      ]
    },
    {
      "cell_type": "code",
      "source": [
        "# convert pred probs to labels\n",
        "model_5_preds = tf.argmax(model_5_preds, axis=1)\n",
        "model_5_preds[:10]"
      ],
      "metadata": {
        "id": "aMUt5I2Ussdk",
        "colab": {
          "base_uri": "https://localhost:8080/"
        },
        "outputId": "38c8e001-17d5-4e0a-dc8b-d9cab79aa137"
      },
      "execution_count": null,
      "outputs": [
        {
          "output_type": "execute_result",
          "data": {
            "text/plain": [
              "<tf.Tensor: shape=(10,), dtype=int64, numpy=array([0, 0, 0, 2, 2, 4, 4, 4, 4, 1])>"
            ]
          },
          "metadata": {},
          "execution_count": 65
        }
      ]
    },
    {
      "cell_type": "code",
      "source": [
        "# Performance metrics for model 5\n",
        "model_5_results = calculate_results(y_true=val_labels,\n",
        "                                    y_pred=model_5_preds)"
      ],
      "metadata": {
        "id": "D4TXdSMrssav"
      },
      "execution_count": null,
      "outputs": []
    },
    {
      "cell_type": "markdown",
      "source": [
        "## Comparing model results"
      ],
      "metadata": {
        "id": "ZY2qy3O6AEeb"
      }
    },
    {
      "cell_type": "code",
      "source": [
        "# Combine model results into a dataframe\n",
        "results = pd.DataFrame({\"baseline_Naive_bayes\": baseline_result,\n",
        "                        \"model_1_custom_token_embedding\": model_1_results,\n",
        "                        \"model_2_pretrained_token_embedding\": model_2_results,\n",
        "                        \"model_3_custom_char_embedding\": model_3_result,\n",
        "                        \"model_4_hybrid_char_token_embedding\": model_4_results,\n",
        "                        \"model_5_pos_char_token_embedding\": model_5_results})\n",
        "results = results.transpose()\n",
        "results"
      ],
      "metadata": {
        "id": "lomE5TGussXy"
      },
      "execution_count": null,
      "outputs": []
    },
    {
      "cell_type": "code",
      "source": [
        "# Reduce the accuracy to same scale as the other metrics\n",
        "results['accuracy']/=100"
      ],
      "metadata": {
        "id": "U8yuDItRssUw"
      },
      "execution_count": null,
      "outputs": []
    },
    {
      "cell_type": "code",
      "source": [
        "# Plot and compare all model results\n",
        "results.plot(kind=\"bar\", figsize=(10, 7)).legend(bbox_to_anchor=(1, 1))"
      ],
      "metadata": {
        "id": "LY06DOoTssR6"
      },
      "execution_count": null,
      "outputs": []
    },
    {
      "cell_type": "code",
      "source": [
        "# sort model results by f1-score\n",
        "results.sort_values(\"f1\", ascending=True)['f1'].plot(kind='bar', figsize=(10, 7))"
      ],
      "metadata": {
        "id": "PsUTM1G6ssPP"
      },
      "execution_count": null,
      "outputs": []
    },
    {
      "cell_type": "markdown",
      "source": [
        "## Save and load the model"
      ],
      "metadata": {
        "id": "o4hg4gGXDnl5"
      }
    },
    {
      "cell_type": "code",
      "source": [
        "model_5.save(\"skimlit_token_char_pos_embedding\")"
      ],
      "metadata": {
        "colab": {
          "base_uri": "https://localhost:8080/"
        },
        "id": "9HItlBuUDnY-",
        "outputId": "ba6253f1-6e5e-4028-feb6-2ba76047d0c9"
      },
      "execution_count": null,
      "outputs": [
        {
          "output_type": "stream",
          "name": "stderr",
          "text": [
            "WARNING:absl:Found untraced functions such as lstm_cell_1_layer_call_fn, lstm_cell_1_layer_call_and_return_conditional_losses, lstm_cell_2_layer_call_fn, lstm_cell_2_layer_call_and_return_conditional_losses while saving (showing 4 of 4). These functions will not be directly callable after loading.\n"
          ]
        },
        {
          "output_type": "stream",
          "name": "stdout",
          "text": [
            "INFO:tensorflow:Assets written to: skimlit_token_char_pos_embedding/assets\n"
          ]
        },
        {
          "output_type": "stream",
          "name": "stderr",
          "text": [
            "INFO:tensorflow:Assets written to: skimlit_token_char_pos_embedding/assets\n",
            "WARNING:absl:<keras.layers.recurrent.LSTMCell object at 0x7f5825ad88d0> has the same name 'LSTMCell' as a built-in Keras object. Consider renaming <class 'keras.layers.recurrent.LSTMCell'> to avoid naming conflicts when loading with `tf.keras.models.load_model`. If renaming is not possible, pass the object in the `custom_objects` parameter of the load function.\n",
            "WARNING:absl:<keras.layers.recurrent.LSTMCell object at 0x7f58295ae0d0> has the same name 'LSTMCell' as a built-in Keras object. Consider renaming <class 'keras.layers.recurrent.LSTMCell'> to avoid naming conflicts when loading with `tf.keras.models.load_model`. If renaming is not possible, pass the object in the `custom_objects` parameter of the load function.\n"
          ]
        }
      ]
    },
    {
      "cell_type": "code",
      "source": [
        "# Load the saved model\n",
        "model_5_load = tf.keras.models.load_model(\"skimlit_token_char_pos_embedding\")\n",
        "model_5_load"
      ],
      "metadata": {
        "id": "nN1xxlCHssMN",
        "colab": {
          "base_uri": "https://localhost:8080/"
        },
        "outputId": "cd83ab6a-fe1e-42bf-d4da-233603a373df"
      },
      "execution_count": null,
      "outputs": [
        {
          "output_type": "execute_result",
          "data": {
            "text/plain": [
              "<keras.engine.functional.Functional at 0x7f582d8d8d90>"
            ]
          },
          "metadata": {},
          "execution_count": 68
        }
      ]
    },
    {
      "cell_type": "code",
      "source": [
        "# make predictions with the loaded model on the validation set\n",
        "loaded_pred_probs = model_5_load.predict(val_tribrid_dataset)\n",
        "loaded_preds = tf.argmax(loaded_pred_probs, axis=1)\n",
        "loaded_preds[:10]"
      ],
      "metadata": {
        "id": "Z5OcWAyNssJY",
        "colab": {
          "base_uri": "https://localhost:8080/"
        },
        "outputId": "1c4f4ea5-a9f0-4b7b-9438-8422161a47b8"
      },
      "execution_count": null,
      "outputs": [
        {
          "output_type": "execute_result",
          "data": {
            "text/plain": [
              "<tf.Tensor: shape=(10,), dtype=int64, numpy=array([0, 0, 0, 2, 2, 4, 4, 4, 4, 1])>"
            ]
          },
          "metadata": {},
          "execution_count": 69
        }
      ]
    },
    {
      "cell_type": "code",
      "source": [
        "# Performance metrics for loaded model\n",
        "loaded_model_results = calculate_results(y_true=val_labels,\n",
        "                                         y_pred=loaded_preds)\n",
        "loaded_model_results"
      ],
      "metadata": {
        "id": "YINfYYJVssGi",
        "colab": {
          "base_uri": "https://localhost:8080/"
        },
        "outputId": "60b3a94f-86ec-4505-915b-2e2538a109ff"
      },
      "execution_count": null,
      "outputs": [
        {
          "output_type": "execute_result",
          "data": {
            "text/plain": [
              "{'accuracy': 84.26122070700384,\n",
              " 'f1': 0.83854061650534,\n",
              " 'precision': 0.84642150249879,\n",
              " 'recall': 0.8426122070700384}"
            ]
          },
          "metadata": {},
          "execution_count": 70
        }
      ]
    },
    {
      "cell_type": "code",
      "source": [
        "# Actual model results\n",
        "model_5_results"
      ],
      "metadata": {
        "id": "ACPvUrDTssDz",
        "colab": {
          "base_uri": "https://localhost:8080/"
        },
        "outputId": "80a5738e-09c6-4fd0-d770-153fb31b739b"
      },
      "execution_count": null,
      "outputs": [
        {
          "output_type": "execute_result",
          "data": {
            "text/plain": [
              "{'accuracy': 84.26122070700384,\n",
              " 'f1': 0.83854061650534,\n",
              " 'precision': 0.84642150249879,\n",
              " 'recall': 0.8426122070700384}"
            ]
          },
          "metadata": {},
          "execution_count": 71
        }
      ]
    }
  ]
}