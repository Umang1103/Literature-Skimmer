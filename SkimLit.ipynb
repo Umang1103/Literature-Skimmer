{
  "nbformat": 4,
  "nbformat_minor": 0,
  "metadata": {
    "colab": {
      "provenance": [],
      "collapsed_sections": [],
      "authorship_tag": "ABX9TyN1agTRA7cRB3BAq1h4POdl",
      "include_colab_link": true
    },
    "kernelspec": {
      "name": "python3",
      "display_name": "Python 3"
    },
    "language_info": {
      "name": "python"
    },
    "accelerator": "GPU",
    "gpuClass": "standard"
  },
  "cells": [
    {
      "cell_type": "markdown",
      "metadata": {
        "id": "view-in-github",
        "colab_type": "text"
      },
      "source": [
        "<a href=\"https://colab.research.google.com/github/Umang1103/Literature-Skimmer/blob/main/SkimLit.ipynb\" target=\"_parent\"><img src=\"https://colab.research.google.com/assets/colab-badge.svg\" alt=\"Open In Colab\"/></a>"
      ]
    },
    {
      "cell_type": "markdown",
      "source": [
        "# SkimLit📖📗🔥\n",
        "\n",
        "This notebook aims at creating an NLP model that classifies abstract sentences into the role they play (e.g. objective, methods, results, etc) to enable researchers to skim through the literature (hence SkimLit) and dive deeper when necessary."
      ],
      "metadata": {
        "id": "inm1dGtLYtEr"
      }
    },
    {
      "cell_type": "markdown",
      "source": [
        "## Importing libraries and modules\n"
      ],
      "metadata": {
        "id": "lyofTjA7dKxG"
      }
    },
    {
      "cell_type": "code",
      "source": [
        "# Download helper functions script\n",
        "!wget https://raw.githubusercontent.com/mrdbourke/tensorflow-deep-learning/main/extras/helper_functions.py"
      ],
      "metadata": {
        "colab": {
          "base_uri": "https://localhost:8080/"
        },
        "id": "pPnlAvvkffTC",
        "outputId": "a10de6b2-3f8a-4f12-ba8d-b54d40566f3e"
      },
      "execution_count": 2,
      "outputs": [
        {
          "output_type": "stream",
          "name": "stdout",
          "text": [
            "--2022-09-03 08:35:58--  https://raw.githubusercontent.com/mrdbourke/tensorflow-deep-learning/main/extras/helper_functions.py\n",
            "Resolving raw.githubusercontent.com (raw.githubusercontent.com)... 185.199.108.133, 185.199.109.133, 185.199.110.133, ...\n",
            "Connecting to raw.githubusercontent.com (raw.githubusercontent.com)|185.199.108.133|:443... connected.\n",
            "HTTP request sent, awaiting response... 200 OK\n",
            "Length: 10246 (10K) [text/plain]\n",
            "Saving to: ‘helper_functions.py’\n",
            "\n",
            "helper_functions.py 100%[===================>]  10.01K  --.-KB/s    in 0s      \n",
            "\n",
            "2022-09-03 08:35:59 (94.1 MB/s) - ‘helper_functions.py’ saved [10246/10246]\n",
            "\n"
          ]
        }
      ]
    },
    {
      "cell_type": "code",
      "source": [
        "import os\n",
        "import pandas as pd\n",
        "import matplotlib.pyplot as plt\n",
        "import numpy as np\n",
        "import random\n",
        "import string\n",
        "\n",
        "import tensorflow as tf\n",
        "from tensorflow.keras.utils import plot_model\n",
        "from sklearn.preprocessing import OneHotEncoder, LabelEncoder\n",
        "from sklearn.feature_extraction.text import TfidfVectorizer, CountVectorizer\n",
        "from sklearn.naive_bayes import MultinomialNB\n",
        "from sklearn.pipeline import Pipeline\n",
        "from helper_functions import calculate_results\n",
        "from tensorflow.keras.layers.experimental.preprocessing import TextVectorization\n",
        "from tensorflow.keras import layers\n",
        "import tensorflow_hub as hub"
      ],
      "metadata": {
        "id": "ff3ru3qmdKFy"
      },
      "execution_count": 3,
      "outputs": []
    },
    {
      "cell_type": "markdown",
      "source": [
        "## Confirm access to GPU"
      ],
      "metadata": {
        "id": "TgZ-ys1BfRvi"
      }
    },
    {
      "cell_type": "code",
      "execution_count": 4,
      "metadata": {
        "colab": {
          "base_uri": "https://localhost:8080/"
        },
        "id": "9KEB7A7OPNPy",
        "outputId": "7e96b598-d984-4cf4-8a6e-97df05b2d47f"
      },
      "outputs": [
        {
          "output_type": "stream",
          "name": "stdout",
          "text": [
            "GPU 0: Tesla T4 (UUID: GPU-16df5bd1-20b6-caf5-8bd8-585cbbe35112)\n"
          ]
        }
      ],
      "source": [
        "!nvidia-smi -L"
      ]
    },
    {
      "cell_type": "markdown",
      "source": [
        "## Get the data\n",
        "Since we'll be replicating the paper (PubMed 200k RCT), let's download the dataset."
      ],
      "metadata": {
        "id": "z_wYagTgrmQp"
      }
    },
    {
      "cell_type": "code",
      "source": [
        "!git clone https://github.com/Franck-Dernoncourt/pubmed-rct\n",
        "!ls pubmed-rct"
      ],
      "metadata": {
        "id": "ScswaVto8eZ9",
        "colab": {
          "base_uri": "https://localhost:8080/"
        },
        "outputId": "99848b9c-67e7-4d05-94c0-67fb5119b338"
      },
      "execution_count": 5,
      "outputs": [
        {
          "output_type": "stream",
          "name": "stdout",
          "text": [
            "Cloning into 'pubmed-rct'...\n",
            "remote: Enumerating objects: 33, done.\u001b[K\n",
            "remote: Counting objects: 100% (8/8), done.\u001b[K\n",
            "remote: Compressing objects: 100% (3/3), done.\u001b[K\n",
            "remote: Total 33 (delta 5), reused 5 (delta 5), pack-reused 25\u001b[K\n",
            "Unpacking objects: 100% (33/33), done.\n",
            "PubMed_200k_RCT\n",
            "PubMed_200k_RCT_numbers_replaced_with_at_sign\n",
            "PubMed_20k_RCT\n",
            "PubMed_20k_RCT_numbers_replaced_with_at_sign\n",
            "README.md\n"
          ]
        }
      ]
    },
    {
      "cell_type": "code",
      "source": [
        "# Check what files are in the PubMed_20k_ dataset\n",
        "!ls pubmed-rct/PubMed_20k_RCT_numbers_replaced_with_at_sign"
      ],
      "metadata": {
        "id": "3LXgvdc68eXQ",
        "colab": {
          "base_uri": "https://localhost:8080/"
        },
        "outputId": "91a2f705-3c15-4e0c-f2bd-2a77a99ec662"
      },
      "execution_count": 6,
      "outputs": [
        {
          "output_type": "stream",
          "name": "stdout",
          "text": [
            "dev.txt  test.txt  train.txt\n"
          ]
        }
      ]
    },
    {
      "cell_type": "code",
      "source": [
        "# We'll start our experiment using the 20k dataset with numbers replaced by \"@\" sign\n",
        "data_dir = \"pubmed-rct/PubMed_20k_RCT_numbers_replaced_with_at_sign/\""
      ],
      "metadata": {
        "id": "vAKqXlTM8eUd"
      },
      "execution_count": 7,
      "outputs": []
    },
    {
      "cell_type": "code",
      "source": [
        "# Path to all the files in data_dir\n",
        "filenames = [data_dir+path for path in os.listdir(data_dir)]\n",
        "filenames"
      ],
      "metadata": {
        "id": "15hc6AmW8eSd",
        "colab": {
          "base_uri": "https://localhost:8080/"
        },
        "outputId": "9b3b70e0-7f1f-448f-ea8d-0e804901f77b"
      },
      "execution_count": 8,
      "outputs": [
        {
          "output_type": "execute_result",
          "data": {
            "text/plain": [
              "['pubmed-rct/PubMed_20k_RCT_numbers_replaced_with_at_sign/dev.txt',\n",
              " 'pubmed-rct/PubMed_20k_RCT_numbers_replaced_with_at_sign/train.txt',\n",
              " 'pubmed-rct/PubMed_20k_RCT_numbers_replaced_with_at_sign/test.txt']"
            ]
          },
          "metadata": {},
          "execution_count": 8
        }
      ]
    },
    {
      "cell_type": "markdown",
      "source": [
        "## Data Preprocessing"
      ],
      "metadata": {
        "id": "ZeVt9JfGwXeO"
      }
    },
    {
      "cell_type": "code",
      "source": [
        "# Create a function to read the lines of a document\n",
        "def get_lines(filename):\n",
        "  \"\"\"\n",
        "  Reads filename (a text file) and returns the lines of text as a list.\n",
        "  \n",
        "  Args:\n",
        "      filename: a string containing the target filepath to read.\n",
        "  \n",
        "  Returns:\n",
        "      A list of strings with one string per line from the target filename.\n",
        "      For example:\n",
        "      [\"this is the first line of filename\",\n",
        "       \"this is the second line of filename\",\n",
        "       \"...\"]\n",
        "  \"\"\"\n",
        "  with open(filename) as f:\n",
        "    return f.readlines()"
      ],
      "metadata": {
        "id": "0Y1lQTIz8eP-"
      },
      "execution_count": 9,
      "outputs": []
    },
    {
      "cell_type": "code",
      "source": [
        "train_lines = get_lines(data_dir+\"train.txt\")\n",
        "len(train_lines), train_lines[:10]"
      ],
      "metadata": {
        "id": "eoP34gPQ8eNf",
        "colab": {
          "base_uri": "https://localhost:8080/"
        },
        "outputId": "0d805c6a-65ac-49a2-da2a-982503ace902"
      },
      "execution_count": 10,
      "outputs": [
        {
          "output_type": "execute_result",
          "data": {
            "text/plain": [
              "(210040,\n",
              " ['###24293578\\n',\n",
              "  'OBJECTIVE\\tTo investigate the efficacy of @ weeks of daily low-dose oral prednisolone in improving pain , mobility , and systemic low-grade inflammation in the short term and whether the effect would be sustained at @ weeks in older adults with moderate to severe knee osteoarthritis ( OA ) .\\n',\n",
              "  'METHODS\\tA total of @ patients with primary knee OA were randomized @:@ ; @ received @ mg/day of prednisolone and @ received placebo for @ weeks .\\n',\n",
              "  'METHODS\\tOutcome measures included pain reduction and improvement in function scores and systemic inflammation markers .\\n',\n",
              "  'METHODS\\tPain was assessed using the visual analog pain scale ( @-@ mm ) .\\n',\n",
              "  'METHODS\\tSecondary outcome measures included the Western Ontario and McMaster Universities Osteoarthritis Index scores , patient global assessment ( PGA ) of the severity of knee OA , and @-min walk distance ( @MWD ) .\\n',\n",
              "  'METHODS\\tSerum levels of interleukin @ ( IL-@ ) , IL-@ , tumor necrosis factor ( TNF ) - , and high-sensitivity C-reactive protein ( hsCRP ) were measured .\\n',\n",
              "  'RESULTS\\tThere was a clinically relevant reduction in the intervention group compared to the placebo group for knee pain , physical function , PGA , and @MWD at @ weeks .\\n',\n",
              "  'RESULTS\\tThe mean difference between treatment arms ( @ % CI ) was @ ( @-@ @ ) , p < @ ; @ ( @-@ @ ) , p < @ ; @ ( @-@ @ ) , p < @ ; and @ ( @-@ @ ) , p < @ , respectively .\\n',\n",
              "  'RESULTS\\tFurther , there was a clinically relevant reduction in the serum levels of IL-@ , IL-@ , TNF - , and hsCRP at @ weeks in the intervention group when compared to the placebo group .\\n'])"
            ]
          },
          "metadata": {},
          "execution_count": 10
        }
      ]
    },
    {
      "cell_type": "code",
      "source": [
        "def preprocess_text_with_line_numbers(filename):\n",
        "  \"\"\"Returns a list of dictionaries of abstract line data.\n",
        "\n",
        "  Takes in filename, reads its contents and sorts through each line,\n",
        "  extracting things like the target label, the text of the sentence,\n",
        "  how many sentences are in the current abstract and what sentence number\n",
        "  the target line is.\n",
        "\n",
        "  Args:\n",
        "      filename: a string of the target text file to read and extract line data\n",
        "      from.\n",
        "\n",
        "  Returns:\n",
        "      A list of dictionaries each containing a line from an abstract,\n",
        "      the lines label, the lines position in the abstract and the total number\n",
        "      of lines in the abstract where the line is from. For example:\n",
        "\n",
        "      [{\"target\": 'CONCLUSION',\n",
        "        \"text\": The study couldn't have gone better, turns out people are kinder than you think\",\n",
        "        \"line_number\": 8,\n",
        "        \"total_lines\": 8}]\n",
        "  \"\"\"\n",
        "  input_lines = get_lines(filename) # get all lines from filename\n",
        "  abstract_lines = \"\" # create an empty abstract\n",
        "  abstract_samples = [] # create an empty list of abstracts\n",
        "\n",
        "  for line in input_lines:\n",
        "    if line.startswith(\"###\"):\n",
        "      abstract_id = line\n",
        "      abstract_lines = \"\"\n",
        "    elif line.isspace():\n",
        "      abstract_line_split = abstract_lines.splitlines()\n",
        "      for abstract_line_number, abstract_line in enumerate(abstract_line_split):\n",
        "        line_data = {} # create empty dict to store data from line\n",
        "        target_text_split = abstract_line.split(\"\\t\") # split target label from text\n",
        "        line_data[\"target\"] = target_text_split[0] # get target label\n",
        "        line_data[\"text\"] = target_text_split[1].lower() # get target text and lower it\n",
        "        line_data[\"line_number\"] = abstract_line_number # what number line does the line appear in the abstract?\n",
        "        line_data[\"total_lines\"] = len(abstract_line_split) - 1 # how many total lines are in the abstract? (start from 0)\n",
        "        abstract_samples.append(line_data) # add line data to abstract samples list\n",
        "    \n",
        "    else: # if the above conditions aren't fulfilled, the line contains a labelled sentence\n",
        "      abstract_lines += line\n",
        "  \n",
        "  return abstract_samples"
      ],
      "metadata": {
        "id": "15N_Ls0r8eKk"
      },
      "execution_count": 11,
      "outputs": []
    },
    {
      "cell_type": "code",
      "source": [
        "# Get the data from the file and preprocess it\n",
        "%%time\n",
        "train_samples = preprocess_text_with_line_numbers(data_dir+\"train.txt\")\n",
        "val_samples = preprocess_text_with_line_numbers(data_dir+\"dev.txt\")\n",
        "test_samples = preprocess_text_with_line_numbers(data_dir+\"test.txt\")\n",
        "print(len(train_samples), len(val_samples), len(test_samples))"
      ],
      "metadata": {
        "id": "5xUhlubH8eIW",
        "colab": {
          "base_uri": "https://localhost:8080/"
        },
        "outputId": "aad7edaa-ecdf-4d47-cb92-b294737974c1"
      },
      "execution_count": 12,
      "outputs": [
        {
          "output_type": "stream",
          "name": "stdout",
          "text": [
            "180040 30212 30135\n",
            "CPU times: user 417 ms, sys: 67.1 ms, total: 484 ms\n",
            "Wall time: 485 ms\n"
          ]
        }
      ]
    },
    {
      "cell_type": "code",
      "source": [
        "train_samples[:10]"
      ],
      "metadata": {
        "id": "TPb6_8fp8eFp",
        "colab": {
          "base_uri": "https://localhost:8080/"
        },
        "outputId": "efddee8f-7303-4880-bdf9-fb9914e7a20d"
      },
      "execution_count": 13,
      "outputs": [
        {
          "output_type": "execute_result",
          "data": {
            "text/plain": [
              "[{'target': 'OBJECTIVE',\n",
              "  'text': 'to investigate the efficacy of @ weeks of daily low-dose oral prednisolone in improving pain , mobility , and systemic low-grade inflammation in the short term and whether the effect would be sustained at @ weeks in older adults with moderate to severe knee osteoarthritis ( oa ) .',\n",
              "  'line_number': 0,\n",
              "  'total_lines': 11},\n",
              " {'target': 'METHODS',\n",
              "  'text': 'a total of @ patients with primary knee oa were randomized @:@ ; @ received @ mg/day of prednisolone and @ received placebo for @ weeks .',\n",
              "  'line_number': 1,\n",
              "  'total_lines': 11},\n",
              " {'target': 'METHODS',\n",
              "  'text': 'outcome measures included pain reduction and improvement in function scores and systemic inflammation markers .',\n",
              "  'line_number': 2,\n",
              "  'total_lines': 11},\n",
              " {'target': 'METHODS',\n",
              "  'text': 'pain was assessed using the visual analog pain scale ( @-@ mm ) .',\n",
              "  'line_number': 3,\n",
              "  'total_lines': 11},\n",
              " {'target': 'METHODS',\n",
              "  'text': 'secondary outcome measures included the western ontario and mcmaster universities osteoarthritis index scores , patient global assessment ( pga ) of the severity of knee oa , and @-min walk distance ( @mwd ) .',\n",
              "  'line_number': 4,\n",
              "  'total_lines': 11},\n",
              " {'target': 'METHODS',\n",
              "  'text': 'serum levels of interleukin @ ( il-@ ) , il-@ , tumor necrosis factor ( tnf ) - , and high-sensitivity c-reactive protein ( hscrp ) were measured .',\n",
              "  'line_number': 5,\n",
              "  'total_lines': 11},\n",
              " {'target': 'RESULTS',\n",
              "  'text': 'there was a clinically relevant reduction in the intervention group compared to the placebo group for knee pain , physical function , pga , and @mwd at @ weeks .',\n",
              "  'line_number': 6,\n",
              "  'total_lines': 11},\n",
              " {'target': 'RESULTS',\n",
              "  'text': 'the mean difference between treatment arms ( @ % ci ) was @ ( @-@ @ ) , p < @ ; @ ( @-@ @ ) , p < @ ; @ ( @-@ @ ) , p < @ ; and @ ( @-@ @ ) , p < @ , respectively .',\n",
              "  'line_number': 7,\n",
              "  'total_lines': 11},\n",
              " {'target': 'RESULTS',\n",
              "  'text': 'further , there was a clinically relevant reduction in the serum levels of il-@ , il-@ , tnf - , and hscrp at @ weeks in the intervention group when compared to the placebo group .',\n",
              "  'line_number': 8,\n",
              "  'total_lines': 11},\n",
              " {'target': 'RESULTS',\n",
              "  'text': 'these differences remained significant at @ weeks .',\n",
              "  'line_number': 9,\n",
              "  'total_lines': 11}]"
            ]
          },
          "metadata": {},
          "execution_count": 13
        }
      ]
    },
    {
      "cell_type": "markdown",
      "source": [
        "Let's convert the dictionary into a dataframe and try to visualize it."
      ],
      "metadata": {
        "id": "pTaxpWsue22b"
      }
    },
    {
      "cell_type": "code",
      "source": [
        "train_df = pd.DataFrame(train_samples)\n",
        "val_df = pd.DataFrame(val_samples)\n",
        "test_df = pd.DataFrame(test_samples)\n",
        "train_df.sample(5)"
      ],
      "metadata": {
        "id": "LH0oRJgD8eDR",
        "colab": {
          "base_uri": "https://localhost:8080/",
          "height": 206
        },
        "outputId": "4ce99094-dd81-4b1a-c65e-b4deb646b7e6"
      },
      "execution_count": 14,
      "outputs": [
        {
          "output_type": "execute_result",
          "data": {
            "text/plain": [
              "             target                                               text  \\\n",
              "131943      RESULTS  women and men had similar as progression rate ...   \n",
              "106485   BACKGROUND  methylphenidate is considered to improve atten...   \n",
              "133377  CONCLUSIONS                              analgesics , opioid .   \n",
              "125626      RESULTS  significantly more czp patients met the primar...   \n",
              "67459       RESULTS  patients being iron-deficient at enrolment ( @...   \n",
              "\n",
              "        line_number  total_lines  \n",
              "131943            6           12  \n",
              "106485            2           13  \n",
              "133377           12           15  \n",
              "125626            4           12  \n",
              "67459             7           12  "
            ],
            "text/html": [
              "\n",
              "  <div id=\"df-885e2388-aa4d-43d9-b9cc-4b9af701235a\">\n",
              "    <div class=\"colab-df-container\">\n",
              "      <div>\n",
              "<style scoped>\n",
              "    .dataframe tbody tr th:only-of-type {\n",
              "        vertical-align: middle;\n",
              "    }\n",
              "\n",
              "    .dataframe tbody tr th {\n",
              "        vertical-align: top;\n",
              "    }\n",
              "\n",
              "    .dataframe thead th {\n",
              "        text-align: right;\n",
              "    }\n",
              "</style>\n",
              "<table border=\"1\" class=\"dataframe\">\n",
              "  <thead>\n",
              "    <tr style=\"text-align: right;\">\n",
              "      <th></th>\n",
              "      <th>target</th>\n",
              "      <th>text</th>\n",
              "      <th>line_number</th>\n",
              "      <th>total_lines</th>\n",
              "    </tr>\n",
              "  </thead>\n",
              "  <tbody>\n",
              "    <tr>\n",
              "      <th>131943</th>\n",
              "      <td>RESULTS</td>\n",
              "      <td>women and men had similar as progression rate ...</td>\n",
              "      <td>6</td>\n",
              "      <td>12</td>\n",
              "    </tr>\n",
              "    <tr>\n",
              "      <th>106485</th>\n",
              "      <td>BACKGROUND</td>\n",
              "      <td>methylphenidate is considered to improve atten...</td>\n",
              "      <td>2</td>\n",
              "      <td>13</td>\n",
              "    </tr>\n",
              "    <tr>\n",
              "      <th>133377</th>\n",
              "      <td>CONCLUSIONS</td>\n",
              "      <td>analgesics , opioid .</td>\n",
              "      <td>12</td>\n",
              "      <td>15</td>\n",
              "    </tr>\n",
              "    <tr>\n",
              "      <th>125626</th>\n",
              "      <td>RESULTS</td>\n",
              "      <td>significantly more czp patients met the primar...</td>\n",
              "      <td>4</td>\n",
              "      <td>12</td>\n",
              "    </tr>\n",
              "    <tr>\n",
              "      <th>67459</th>\n",
              "      <td>RESULTS</td>\n",
              "      <td>patients being iron-deficient at enrolment ( @...</td>\n",
              "      <td>7</td>\n",
              "      <td>12</td>\n",
              "    </tr>\n",
              "  </tbody>\n",
              "</table>\n",
              "</div>\n",
              "      <button class=\"colab-df-convert\" onclick=\"convertToInteractive('df-885e2388-aa4d-43d9-b9cc-4b9af701235a')\"\n",
              "              title=\"Convert this dataframe to an interactive table.\"\n",
              "              style=\"display:none;\">\n",
              "        \n",
              "  <svg xmlns=\"http://www.w3.org/2000/svg\" height=\"24px\"viewBox=\"0 0 24 24\"\n",
              "       width=\"24px\">\n",
              "    <path d=\"M0 0h24v24H0V0z\" fill=\"none\"/>\n",
              "    <path d=\"M18.56 5.44l.94 2.06.94-2.06 2.06-.94-2.06-.94-.94-2.06-.94 2.06-2.06.94zm-11 1L8.5 8.5l.94-2.06 2.06-.94-2.06-.94L8.5 2.5l-.94 2.06-2.06.94zm10 10l.94 2.06.94-2.06 2.06-.94-2.06-.94-.94-2.06-.94 2.06-2.06.94z\"/><path d=\"M17.41 7.96l-1.37-1.37c-.4-.4-.92-.59-1.43-.59-.52 0-1.04.2-1.43.59L10.3 9.45l-7.72 7.72c-.78.78-.78 2.05 0 2.83L4 21.41c.39.39.9.59 1.41.59.51 0 1.02-.2 1.41-.59l7.78-7.78 2.81-2.81c.8-.78.8-2.07 0-2.86zM5.41 20L4 18.59l7.72-7.72 1.47 1.35L5.41 20z\"/>\n",
              "  </svg>\n",
              "      </button>\n",
              "      \n",
              "  <style>\n",
              "    .colab-df-container {\n",
              "      display:flex;\n",
              "      flex-wrap:wrap;\n",
              "      gap: 12px;\n",
              "    }\n",
              "\n",
              "    .colab-df-convert {\n",
              "      background-color: #E8F0FE;\n",
              "      border: none;\n",
              "      border-radius: 50%;\n",
              "      cursor: pointer;\n",
              "      display: none;\n",
              "      fill: #1967D2;\n",
              "      height: 32px;\n",
              "      padding: 0 0 0 0;\n",
              "      width: 32px;\n",
              "    }\n",
              "\n",
              "    .colab-df-convert:hover {\n",
              "      background-color: #E2EBFA;\n",
              "      box-shadow: 0px 1px 2px rgba(60, 64, 67, 0.3), 0px 1px 3px 1px rgba(60, 64, 67, 0.15);\n",
              "      fill: #174EA6;\n",
              "    }\n",
              "\n",
              "    [theme=dark] .colab-df-convert {\n",
              "      background-color: #3B4455;\n",
              "      fill: #D2E3FC;\n",
              "    }\n",
              "\n",
              "    [theme=dark] .colab-df-convert:hover {\n",
              "      background-color: #434B5C;\n",
              "      box-shadow: 0px 1px 3px 1px rgba(0, 0, 0, 0.15);\n",
              "      filter: drop-shadow(0px 1px 2px rgba(0, 0, 0, 0.3));\n",
              "      fill: #FFFFFF;\n",
              "    }\n",
              "  </style>\n",
              "\n",
              "      <script>\n",
              "        const buttonEl =\n",
              "          document.querySelector('#df-885e2388-aa4d-43d9-b9cc-4b9af701235a button.colab-df-convert');\n",
              "        buttonEl.style.display =\n",
              "          google.colab.kernel.accessAllowed ? 'block' : 'none';\n",
              "\n",
              "        async function convertToInteractive(key) {\n",
              "          const element = document.querySelector('#df-885e2388-aa4d-43d9-b9cc-4b9af701235a');\n",
              "          const dataTable =\n",
              "            await google.colab.kernel.invokeFunction('convertToInteractive',\n",
              "                                                     [key], {});\n",
              "          if (!dataTable) return;\n",
              "\n",
              "          const docLinkHtml = 'Like what you see? Visit the ' +\n",
              "            '<a target=\"_blank\" href=https://colab.research.google.com/notebooks/data_table.ipynb>data table notebook</a>'\n",
              "            + ' to learn more about interactive tables.';\n",
              "          element.innerHTML = '';\n",
              "          dataTable['output_type'] = 'display_data';\n",
              "          await google.colab.output.renderOutput(dataTable, element);\n",
              "          const docLink = document.createElement('div');\n",
              "          docLink.innerHTML = docLinkHtml;\n",
              "          element.appendChild(docLink);\n",
              "        }\n",
              "      </script>\n",
              "    </div>\n",
              "  </div>\n",
              "  "
            ]
          },
          "metadata": {},
          "execution_count": 14
        }
      ]
    },
    {
      "cell_type": "code",
      "source": [
        "train_df[\"target\"].value_counts()"
      ],
      "metadata": {
        "colab": {
          "base_uri": "https://localhost:8080/"
        },
        "id": "cYovlIS3fja3",
        "outputId": "997ad903-a660-4793-b720-9a88815005a6"
      },
      "execution_count": 15,
      "outputs": [
        {
          "output_type": "execute_result",
          "data": {
            "text/plain": [
              "METHODS        59353\n",
              "RESULTS        57953\n",
              "CONCLUSIONS    27168\n",
              "BACKGROUND     21727\n",
              "OBJECTIVE      13839\n",
              "Name: target, dtype: int64"
            ]
          },
          "metadata": {},
          "execution_count": 15
        }
      ]
    },
    {
      "cell_type": "code",
      "source": [
        "train_df[\"total_lines\"].plot.hist();"
      ],
      "metadata": {
        "colab": {
          "base_uri": "https://localhost:8080/",
          "height": 267
        },
        "id": "1hIMM0vWfjXS",
        "outputId": "9b53ded4-3e39-467f-d7c2-00653b3f4dd3"
      },
      "execution_count": 16,
      "outputs": [
        {
          "output_type": "display_data",
          "data": {
            "text/plain": [
              "<Figure size 432x288 with 1 Axes>"
            ],
            "image/png": "[encoded data removed]"
          },
          "metadata": {
            "needs_background": "light"
          }
        }
      ]
    },
    {
      "cell_type": "markdown",
      "source": [
        "## Get lists of sentences"
      ],
      "metadata": {
        "id": "lft6MYukgDjs"
      }
    },
    {
      "cell_type": "markdown",
      "source": [
        "#### One-hot encoding labels"
      ],
      "metadata": {
        "id": "KVe8ffbQlJXI"
      }
    },
    {
      "cell_type": "code",
      "source": [
        "# Convert abstract text lines into lists\n",
        "train_sentences = train_df['text'].to_list()\n",
        "val_sentences = val_df['text'].to_list()\n",
        "test_sentences = test_df['text'].to_list()\n",
        "train_labels = train_df['target'].to_list()\n",
        "val_labels = val_df['target'].to_list()\n",
        "test_labels = test_df['target'].to_list()"
      ],
      "metadata": {
        "id": "asnaX5QTfjUz"
      },
      "execution_count": 17,
      "outputs": []
    },
    {
      "cell_type": "code",
      "source": [
        "# Convert our data labels in numeric format\n",
        "onehot = OneHotEncoder(handle_unknown='ignore', sparse=False)\n",
        "train_labels_one_hot = onehot.fit_transform(train_df['target'].to_numpy().reshape(-1, 1))\n",
        "val_labels_one_hot = onehot.transform(val_df['target'].to_numpy().reshape(-1, 1))\n",
        "test_labels_one_hot = onehot.transform(test_df['target'].to_numpy().reshape(-1, 1))\n",
        "train_labels_one_hot"
      ],
      "metadata": {
        "colab": {
          "base_uri": "https://localhost:8080/"
        },
        "id": "4eMKjHpPfjPu",
        "outputId": "e706edeb-49ae-4f70-e697-e7965f816af5"
      },
      "execution_count": 18,
      "outputs": [
        {
          "output_type": "execute_result",
          "data": {
            "text/plain": [
              "array([[0., 0., 0., 1., 0.],\n",
              "       [0., 0., 1., 0., 0.],\n",
              "       [0., 0., 1., 0., 0.],\n",
              "       ...,\n",
              "       [0., 0., 0., 0., 1.],\n",
              "       [0., 1., 0., 0., 0.],\n",
              "       [0., 1., 0., 0., 0.]])"
            ]
          },
          "metadata": {},
          "execution_count": 18
        }
      ]
    },
    {
      "cell_type": "code",
      "source": [
        "val_labels_one_hot"
      ],
      "metadata": {
        "colab": {
          "base_uri": "https://localhost:8080/"
        },
        "id": "ZXT82IrEfjM9",
        "outputId": "9c4e8f0b-9246-4b89-ee24-a7c86c9ecda4"
      },
      "execution_count": 19,
      "outputs": [
        {
          "output_type": "execute_result",
          "data": {
            "text/plain": [
              "array([[1., 0., 0., 0., 0.],\n",
              "       [1., 0., 0., 0., 0.],\n",
              "       [0., 0., 0., 1., 0.],\n",
              "       ...,\n",
              "       [0., 0., 0., 0., 1.],\n",
              "       [0., 1., 0., 0., 0.],\n",
              "       [0., 1., 0., 0., 0.]])"
            ]
          },
          "metadata": {},
          "execution_count": 19
        }
      ]
    },
    {
      "cell_type": "markdown",
      "source": [
        "#### Label Encoding labels"
      ],
      "metadata": {
        "id": "jmmiNiqplMyd"
      }
    },
    {
      "cell_type": "code",
      "source": [
        "enc = LabelEncoder()\n",
        "train_labels = enc.fit_transform(train_df['target'].to_numpy())\n",
        "val_labels = enc.transform(val_df['target'].to_numpy())\n",
        "val_labels[:5]"
      ],
      "metadata": {
        "colab": {
          "base_uri": "https://localhost:8080/"
        },
        "id": "mJzfs2YofjKX",
        "outputId": "7aedaee4-0bb2-4d97-c1d9-a5dba08c5478"
      },
      "execution_count": 20,
      "outputs": [
        {
          "output_type": "execute_result",
          "data": {
            "text/plain": [
              "array([0, 0, 3, 2, 2])"
            ]
          },
          "metadata": {},
          "execution_count": 20
        }
      ]
    },
    {
      "cell_type": "code",
      "source": [
        "# Get class names and no. of classes from LabelEncoder instance\n",
        "num_classes = len(enc.classes_)\n",
        "classes = enc.classes_\n",
        "num_classes, classes"
      ],
      "metadata": {
        "colab": {
          "base_uri": "https://localhost:8080/"
        },
        "id": "0LBwiMJUfjIA",
        "outputId": "bd9a6524-f3dd-4eaf-fd22-2ea5913bddb0"
      },
      "execution_count": 21,
      "outputs": [
        {
          "output_type": "execute_result",
          "data": {
            "text/plain": [
              "(5, array(['BACKGROUND', 'CONCLUSIONS', 'METHODS', 'OBJECTIVE', 'RESULTS'],\n",
              "       dtype=object))"
            ]
          },
          "metadata": {},
          "execution_count": 21
        }
      ]
    },
    {
      "cell_type": "markdown",
      "source": [
        "## Creating and Fitting Models"
      ],
      "metadata": {
        "id": "DLJbrqfSmApH"
      }
    },
    {
      "cell_type": "markdown",
      "source": [
        "### Model 0 : Baseline Model - Naive bayes"
      ],
      "metadata": {
        "id": "Fg0S6m0ZmEGP"
      }
    },
    {
      "cell_type": "code",
      "source": [
        "# Create a model pipeline\n",
        "model_0 = Pipeline([\n",
        "      (\"tf-idf\", TfidfVectorizer()),\n",
        "      (\"clf\", MultinomialNB())\n",
        "])\n",
        "\n",
        "# Evaluate the model on validation dataset\n",
        "model_0_history = model_0.fit(X=train_sentences,\n",
        "                              y=train_labels);"
      ],
      "metadata": {
        "id": "vPuLGQAdmAVR"
      },
      "execution_count": 22,
      "outputs": []
    },
    {
      "cell_type": "code",
      "source": [
        "#Evaluate the model on validation dataset\n",
        "score_0 = model_0.score(X=val_sentences,y=val_labels);\n",
        "score_0"
      ],
      "metadata": {
        "colab": {
          "base_uri": "https://localhost:8080/"
        },
        "id": "BsVuvGFkfjFe",
        "outputId": "31868d70-fe66-450c-974c-9af353bce80a"
      },
      "execution_count": 26,
      "outputs": [
        {
          "output_type": "execute_result",
          "data": {
            "text/plain": [
              "0.7218323844829869"
            ]
          },
          "metadata": {},
          "execution_count": 26
        }
      ]
    },
    {
      "cell_type": "code",
      "source": [
        "# Predicting on the validation dataset\n",
        "baseline_preds = model_0.predict(val_sentences)\n",
        "baseline_preds[:5]"
      ],
      "metadata": {
        "colab": {
          "base_uri": "https://localhost:8080/"
        },
        "id": "y2lZ_SgbfjC-",
        "outputId": "1a504210-b46e-4a96-c90f-8e15269211a0"
      },
      "execution_count": 27,
      "outputs": [
        {
          "output_type": "execute_result",
          "data": {
            "text/plain": [
              "array([4, 1, 3, 2, 2])"
            ]
          },
          "metadata": {},
          "execution_count": 27
        }
      ]
    },
    {
      "cell_type": "markdown",
      "source": [
        "Get the helper function script where `calculate_result` will help us determine the:\n",
        "* Precision\n",
        "* Accuracy\n",
        "* Recall\n",
        "* F1-score"
      ],
      "metadata": {
        "id": "p-1bigfSoWAF"
      }
    },
    {
      "cell_type": "code",
      "source": [
        "baseline_result = calculate_results(y_true=val_labels,\n",
        "                                    y_pred=baseline_preds)\n",
        "baseline_result"
      ],
      "metadata": {
        "colab": {
          "base_uri": "https://localhost:8080/"
        },
        "id": "Aa2ZtLTtfi9p",
        "outputId": "9948318d-f6ca-4007-d39d-5f495afb36da"
      },
      "execution_count": 28,
      "outputs": [
        {
          "output_type": "execute_result",
          "data": {
            "text/plain": [
              "{'accuracy': 72.1832384482987,\n",
              " 'precision': 0.7186466952323352,\n",
              " 'recall': 0.7218323844829869,\n",
              " 'f1': 0.6989250353450294}"
            ]
          },
          "metadata": {},
          "execution_count": 28
        }
      ]
    },
    {
      "cell_type": "markdown",
      "source": [
        "### Model 1: Conv1D with token embeddings"
      ],
      "metadata": {
        "id": "pJr2JYa0BKo-"
      }
    },
    {
      "cell_type": "markdown",
      "source": [
        "#### TextVectorization Layer"
      ],
      "metadata": {
        "id": "p-QDHtsGCl_8"
      }
    },
    {
      "cell_type": "code",
      "source": [
        "# Find the average number of tokens (words) in the training tweets\n",
        "sent_lens = [len(sentence.split()) for sentence in train_sentences]"
      ],
      "metadata": {
        "id": "iMfxUAJjBqkA"
      },
      "execution_count": 29,
      "outputs": []
    },
    {
      "cell_type": "code",
      "source": [
        "plt.hist(sent_lens, bins=20);"
      ],
      "metadata": {
        "colab": {
          "base_uri": "https://localhost:8080/",
          "height": 265
        },
        "id": "emsQX-gaHfxn",
        "outputId": "d37bd519-f523-4e3c-9b04-e0897344298f"
      },
      "execution_count": 30,
      "outputs": [
        {
          "output_type": "display_data",
          "data": {
            "text/plain": [
              "<Figure size 432x288 with 1 Axes>"
            ],
            "image/png": "[encoded data removed]"
          },
          "metadata": {
            "needs_background": "light"
          }
        }
      ]
    },
    {
      "cell_type": "code",
      "source": [
        "# How long of a sentence length covers 95% of examples?\n",
        "output_seq_len = int(np.percentile(sent_lens, 95))\n",
        "output_seq_len"
      ],
      "metadata": {
        "colab": {
          "base_uri": "https://localhost:8080/"
        },
        "id": "LGx0y_m2H9_D",
        "outputId": "956529df-f0bb-4405-c0eb-a1ec81115ff5"
      },
      "execution_count": 31,
      "outputs": [
        {
          "output_type": "execute_result",
          "data": {
            "text/plain": [
              "55"
            ]
          },
          "metadata": {},
          "execution_count": 31
        }
      ]
    },
    {
      "cell_type": "code",
      "source": [
        "# Setting the text-vectorizer\n",
        "max_vocab_length = 68000  # max no. of words to have in our vocabulary\n",
        "max_length = 55\n",
        "\n",
        "text_vectorizer = TextVectorization(max_tokens=max_vocab_length,\n",
        "                                    output_sequence_length=max_length,\n",
        "                                    output_mode=\"int\")"
      ],
      "metadata": {
        "id": "rvt1JOrgIS7A"
      },
      "execution_count": 32,
      "outputs": []
    },
    {
      "cell_type": "code",
      "source": [
        "# Adapt text vectorizer to training sentences\n",
        "text_vectorizer.adapt(train_sentences)"
      ],
      "metadata": {
        "id": "Q-KeyBS2JVxk"
      },
      "execution_count": 33,
      "outputs": []
    },
    {
      "cell_type": "code",
      "source": [
        "# Get the unique words in the vocabulary\n",
        "\n",
        "# Get all the unique words in the training data\n",
        "words_in_vocab = text_vectorizer.get_vocabulary()\n",
        "top_5_words = words_in_vocab[:5]\n",
        "last_5_words = words_in_vocab[-5:]\n",
        "print(\"Most common words: \", top_5_words)\n",
        "print(\"Least common words: \", last_5_words)"
      ],
      "metadata": {
        "colab": {
          "base_uri": "https://localhost:8080/"
        },
        "id": "GDA0s5ZtCJrr",
        "outputId": "c0bb6174-361a-4a1a-8d76-8e95d6042b8d"
      },
      "execution_count": 34,
      "outputs": [
        {
          "output_type": "stream",
          "name": "stdout",
          "text": [
            "Most common words:  ['', '[UNK]', 'the', 'and', 'of']\n",
            "Least common words:  ['aainduced', 'aaigroup', 'aachener', 'aachen', 'aaacp']\n"
          ]
        }
      ]
    },
    {
      "cell_type": "code",
      "source": [
        "# Get the config of our text vectorizer\n",
        "text_vectorizer.get_config()"
      ],
      "metadata": {
        "colab": {
          "base_uri": "https://localhost:8080/"
        },
        "id": "CjzbFmZeKieY",
        "outputId": "47b24738-5e4e-405f-f95b-a85a1812c9b0"
      },
      "execution_count": 35,
      "outputs": [
        {
          "output_type": "execute_result",
          "data": {
            "text/plain": [
              "{'name': 'text_vectorization',\n",
              " 'trainable': True,\n",
              " 'batch_input_shape': (None,),\n",
              " 'dtype': 'string',\n",
              " 'max_tokens': 68000,\n",
              " 'standardize': 'lower_and_strip_punctuation',\n",
              " 'split': 'whitespace',\n",
              " 'ngrams': None,\n",
              " 'output_mode': 'int',\n",
              " 'output_sequence_length': 55,\n",
              " 'pad_to_max_tokens': False,\n",
              " 'sparse': False,\n",
              " 'ragged': False,\n",
              " 'vocabulary': None,\n",
              " 'idf_weights': None}"
            ]
          },
          "metadata": {},
          "execution_count": 35
        }
      ]
    },
    {
      "cell_type": "markdown",
      "source": [
        "#### Embedding Layer"
      ],
      "metadata": {
        "id": "fRwtvkD9Cuem"
      }
    },
    {
      "cell_type": "code",
      "source": [
        "# Creating an embedding layer\n",
        "embedding = layers.Embedding(input_dim=max_vocab_length,  # set input shape\n",
        "                             output_dim=128,  # output shape\n",
        "                             mask_zero=True,  # use masking to handle variable sequence lengths\n",
        "                             name=\"embedding\")\n",
        "embedding"
      ],
      "metadata": {
        "colab": {
          "base_uri": "https://localhost:8080/"
        },
        "id": "R-tEllh1fi4X",
        "outputId": "431f57d1-5503-4d9d-b404-b81b0f81c9a3"
      },
      "execution_count": 36,
      "outputs": [
        {
          "output_type": "execute_result",
          "data": {
            "text/plain": [
              "<keras.layers.embeddings.Embedding at 0x7f57b3039290>"
            ]
          },
          "metadata": {},
          "execution_count": 36
        }
      ]
    },
    {
      "cell_type": "markdown",
      "source": [
        "#### Create datasets (as fast as possible)\n",
        "\n",
        "We've gone through all the trouble of preprocessing our datasets to be used with a machine learning model, however, there are still a few steps we can use to make them work faster with our models.\n",
        "\n",
        "Namely, the tf.data API provides methods which enable faster data loading.\n",
        "\n",
        "The main steps we'll want to use with our data is to turn it into a `PrefetchDataset` of batches.\n",
        "\n",
        "Doing so we'll ensure TensorFlow loads our data onto the GPU as fast as possible, in turn leading to faster training time.\n",
        "\n",
        "To create a batched `PrefetchDataset` we can use the methods `batch()` and `prefetch()`, the parameter `tf.data.AUTOTUNE` will also allow TensorFlow to determine the optimal amount of compute to use to prepare datasets."
      ],
      "metadata": {
        "id": "sTxzUZhcTlY1"
      }
    },
    {
      "cell_type": "code",
      "source": [
        "# Train our data into TensorFlow Datasets\n",
        "train_dataset = tf.data.Dataset.from_tensor_slices((train_sentences, train_labels_one_hot))\n",
        "val_dataset = tf.data.Dataset.from_tensor_slices((val_sentences, val_labels_one_hot))\n",
        "test_dataset = tf.data.Dataset.from_tensor_slices((test_sentences, test_labels_one_hot))"
      ],
      "metadata": {
        "id": "2km-hW-JUC48"
      },
      "execution_count": 37,
      "outputs": []
    },
    {
      "cell_type": "code",
      "source": [
        "# Take the TensorSliceDatasets and turn them into prefetched datasets\n",
        "train_dataset = train_dataset.batch(32).prefetch(tf.data.AUTOTUNE)\n",
        "val_dataset = val_dataset.batch(32).prefetch(tf.data.AUTOTUNE)\n",
        "test_dataset = test_dataset.batch(32).prefetch(tf.data.AUTOTUNE)"
      ],
      "metadata": {
        "id": "VgYRe76LUC1j"
      },
      "execution_count": 38,
      "outputs": []
    },
    {
      "cell_type": "code",
      "source": [
        "train_dataset"
      ],
      "metadata": {
        "colab": {
          "base_uri": "https://localhost:8080/"
        },
        "id": "4EEEia5vUCfY",
        "outputId": "5b0b924b-657b-45c8-df43-1d7fd7a1b1ee"
      },
      "execution_count": 39,
      "outputs": [
        {
          "output_type": "execute_result",
          "data": {
            "text/plain": [
              "<PrefetchDataset element_spec=(TensorSpec(shape=(None,), dtype=tf.string, name=None), TensorSpec(shape=(None, 5), dtype=tf.float64, name=None))>"
            ]
          },
          "metadata": {},
          "execution_count": 39
        }
      ]
    },
    {
      "cell_type": "markdown",
      "source": [
        "#### Creating the CNN model"
      ],
      "metadata": {
        "id": "El606kLDCyPF"
      }
    },
    {
      "cell_type": "code",
      "source": [
        "# Create conv1D model\n",
        "input = layers.Input(shape=(1, ), dtype=\"string\")\n",
        "x = text_vectorizer(input)\n",
        "x = embedding(x)\n",
        "x = layers.Conv1D(filters=64,\n",
        "                  kernel_size=5,\n",
        "                  padding='same',\n",
        "                  activation='relu')(x)\n",
        "x = layers.GlobalMaxPool1D()(x)\n",
        "output = layers.Dense(num_classes, activation='softmax')(x)\n",
        "model_1 = tf.keras.Model(input, output, name=\"model_1\")"
      ],
      "metadata": {
        "id": "2NT0hK-5fi1t"
      },
      "execution_count": 40,
      "outputs": []
    },
    {
      "cell_type": "code",
      "source": [
        "model_1.summary()"
      ],
      "metadata": {
        "colab": {
          "base_uri": "https://localhost:8080/"
        },
        "id": "hbkWJkr7fizB",
        "outputId": "1ec62047-5b12-4519-e59a-7d6dc8aeee2e"
      },
      "execution_count": 41,
      "outputs": [
        {
          "output_type": "stream",
          "name": "stdout",
          "text": [
            "Model: \"model_1\"\n",
            "_________________________________________________________________\n",
            " Layer (type)                Output Shape              Param #   \n",
            "=================================================================\n",
            " input_1 (InputLayer)        [(None, 1)]               0         \n",
            "                                                                 \n",
            " text_vectorization (TextVec  (None, 55)               0         \n",
            " torization)                                                     \n",
            "                                                                 \n",
            " embedding (Embedding)       (None, 55, 128)           8704000   \n",
            "                                                                 \n",
            " conv1d (Conv1D)             (None, 55, 64)            41024     \n",
            "                                                                 \n",
            " global_max_pooling1d (Globa  (None, 64)               0         \n",
            " lMaxPooling1D)                                                  \n",
            "                                                                 \n",
            " dense (Dense)               (None, 5)                 325       \n",
            "                                                                 \n",
            "=================================================================\n",
            "Total params: 8,745,349\n",
            "Trainable params: 8,745,349\n",
            "Non-trainable params: 0\n",
            "_________________________________________________________________\n"
          ]
        }
      ]
    },
    {
      "cell_type": "code",
      "source": [
        "# Plot hybrid token and character model\n",
        "plot_model(model_1, show_shapes=True)"
      ],
      "metadata": {
        "colab": {
          "base_uri": "https://localhost:8080/",
          "height": 644
        },
        "id": "d7QitAIae93r",
        "outputId": "f874298f-0a12-42bf-9bcd-0567f821ada9"
      },
      "execution_count": 42,
      "outputs": [
        {
          "output_type": "execute_result",
          "data": {
            "image/png": "[encoded data removed]",
            "text/plain": [
              "<IPython.core.display.Image object>"
            ]
          },
          "metadata": {},
          "execution_count": 42
        }
      ]
    },
    {
      "cell_type": "code",
      "source": [
        "# Compile the model\n",
        "model_1.compile(loss=\"categorical_crossentropy\",\n",
        "                optimizer=\"Adam\",\n",
        "                metrics=['accuracy'])\n",
        "\n",
        "# Fit the model\n",
        "mode1_1_history = model_1.fit(train_dataset,\n",
        "                              epochs=5,\n",
        "                              steps_per_epoch=int(0.1*len(train_dataset)),\n",
        "                              validation_data=val_dataset,\n",
        "                              validation_steps=int(0.1*len(val_dataset)))"
      ],
      "metadata": {
        "colab": {
          "base_uri": "https://localhost:8080/"
        },
        "id": "zGHOr85kfiwh",
        "outputId": "33362c75-648e-4770-c859-0a0f22a8bf1d"
      },
      "execution_count": 43,
      "outputs": [
        {
          "output_type": "stream",
          "name": "stdout",
          "text": [
            "Epoch 1/5\n",
            "562/562 [==============================] - 17s 9ms/step - loss: 0.8409 - accuracy: 0.6831 - val_loss: 0.5924 - val_accuracy: 0.7842\n",
            "Epoch 2/5\n",
            "562/562 [==============================] - 5s 9ms/step - loss: 0.5785 - accuracy: 0.7901 - val_loss: 0.5419 - val_accuracy: 0.8005\n",
            "Epoch 3/5\n",
            "562/562 [==============================] - 5s 9ms/step - loss: 0.5438 - accuracy: 0.8009 - val_loss: 0.5225 - val_accuracy: 0.8118\n",
            "Epoch 4/5\n",
            "562/562 [==============================] - 5s 9ms/step - loss: 0.5258 - accuracy: 0.8068 - val_loss: 0.5236 - val_accuracy: 0.8025\n",
            "Epoch 5/5\n",
            "562/562 [==============================] - 6s 11ms/step - loss: 0.5300 - accuracy: 0.8073 - val_loss: 0.4988 - val_accuracy: 0.8145\n"
          ]
        }
      ]
    },
    {
      "cell_type": "code",
      "source": [
        "# Evaluate on the validation dataset\n",
        "model_1.evaluate(val_dataset)"
      ],
      "metadata": {
        "id": "FfWUOwT4fit6",
        "colab": {
          "base_uri": "https://localhost:8080/"
        },
        "outputId": "25965f7b-eb33-4199-f4ef-b56e950062f0"
      },
      "execution_count": 44,
      "outputs": [
        {
          "output_type": "stream",
          "name": "stdout",
          "text": [
            "945/945 [==============================] - 3s 3ms/step - loss: 0.4966 - accuracy: 0.8178\n"
          ]
        },
        {
          "output_type": "execute_result",
          "data": {
            "text/plain": [
              "[0.4965721666812897, 0.8177876472473145]"
            ]
          },
          "metadata": {},
          "execution_count": 44
        }
      ]
    },
    {
      "cell_type": "code",
      "source": [
        "# Make predictions on our model\n",
        "model_1_preds = model_1.predict(val_dataset)"
      ],
      "metadata": {
        "id": "fCZ7SaNBfirU"
      },
      "execution_count": 45,
      "outputs": []
    },
    {
      "cell_type": "code",
      "source": [
        "model_1_preds, model_1_preds.shape"
      ],
      "metadata": {
        "id": "A0Gz3vdOfio0",
        "colab": {
          "base_uri": "https://localhost:8080/"
        },
        "outputId": "de8bc399-a1a8-4afd-92ee-50d1f32f640f"
      },
      "execution_count": 46,
      "outputs": [
        {
          "output_type": "execute_result",
          "data": {
            "text/plain": [
              "(array([[4.7119585e-01, 2.6861605e-01, 4.3154862e-03, 2.4600358e-01,\n",
              "         9.8690474e-03],\n",
              "        [5.3295130e-01, 3.0623710e-01, 2.5434776e-03, 1.4443614e-01,\n",
              "         1.3832051e-02],\n",
              "        [2.3751281e-01, 2.8894838e-02, 1.4446435e-02, 7.1829695e-01,\n",
              "         8.4900041e-04],\n",
              "        ...,\n",
              "        [5.0818920e-04, 2.0906746e-03, 3.2578662e-02, 6.7907415e-04,\n",
              "         9.6414346e-01],\n",
              "        [2.3845522e-02, 6.7343676e-01, 1.8566657e-02, 1.2533271e-02,\n",
              "         2.7161774e-01],\n",
              "        [7.3127173e-02, 9.1407949e-01, 7.0155850e-03, 2.7204982e-03,\n",
              "         3.0572659e-03]], dtype=float32), (30212, 5))"
            ]
          },
          "metadata": {},
          "execution_count": 46
        }
      ]
    },
    {
      "cell_type": "markdown",
      "source": [
        "The index of the maximum value is the index of the label in the classes list."
      ],
      "metadata": {
        "id": "HK3W8rOjZESm"
      }
    },
    {
      "cell_type": "code",
      "source": [
        "model_1_preds = tf.argmax(model_1_preds, axis=1)\n",
        "model_1_preds"
      ],
      "metadata": {
        "id": "qxANg27nfimV",
        "colab": {
          "base_uri": "https://localhost:8080/"
        },
        "outputId": "197b106a-6ecf-447e-98be-fc7961681b29"
      },
      "execution_count": 47,
      "outputs": [
        {
          "output_type": "execute_result",
          "data": {
            "text/plain": [
              "<tf.Tensor: shape=(30212,), dtype=int64, numpy=array([0, 0, 3, ..., 4, 1, 1])>"
            ]
          },
          "metadata": {},
          "execution_count": 47
        }
      ]
    },
    {
      "cell_type": "code",
      "source": [
        "# Calculate model_1 results\n",
        "model_1_results = calculate_results(y_true=val_labels,\n",
        "                                    y_pred=model_1_preds)\n",
        "model_1_results"
      ],
      "metadata": {
        "id": "I0gTA53Jfiju",
        "colab": {
          "base_uri": "https://localhost:8080/"
        },
        "outputId": "787ab1fa-b10e-4e28-d968-9581d5351a66"
      },
      "execution_count": 48,
      "outputs": [
        {
          "output_type": "execute_result",
          "data": {
            "text/plain": [
              "{'accuracy': 81.77876340526943,\n",
              " 'precision': 0.8197179560685938,\n",
              " 'recall': 0.8177876340526943,\n",
              " 'f1': 0.8154719666143714}"
            ]
          },
          "metadata": {},
          "execution_count": 48
        }
      ]
    },
    {
      "cell_type": "code",
      "source": [
        "baseline_result"
      ],
      "metadata": {
        "id": "xXnEfYMgfig8",
        "colab": {
          "base_uri": "https://localhost:8080/"
        },
        "outputId": "ae230e38-9f14-4b59-8580-a0080e486e38"
      },
      "execution_count": 49,
      "outputs": [
        {
          "output_type": "execute_result",
          "data": {
            "text/plain": [
              "{'accuracy': 72.1832384482987,\n",
              " 'precision': 0.7186466952323352,\n",
              " 'recall': 0.7218323844829869,\n",
              " 'f1': 0.6989250353450294}"
            ]
          },
          "metadata": {},
          "execution_count": 49
        }
      ]
    },
    {
      "cell_type": "markdown",
      "source": [
        "### Model 2: Feature Extraction with pretrained token embeddings"
      ],
      "metadata": {
        "id": "oh8r3H4Qcv_3"
      }
    },
    {
      "cell_type": "code",
      "source": [
        "# Download pretrained TensorFlow Hub USE\n",
        "tf_hub_embedding_layer = hub.KerasLayer('https://tfhub.dev/google/universal-sentence-encoder/4',\n",
        "                                        trainable=False,\n",
        "                                        name='univeral_sentence_encoder')"
      ],
      "metadata": {
        "id": "ruqz6cNxcvta"
      },
      "execution_count": 50,
      "outputs": []
    },
    {
      "cell_type": "code",
      "source": [
        "# Test out the pretrained embedding on a random sentence\n",
        "random_train_sentence = random.choice(train_sentences)\n",
        "print(f'Random sentence:\\n {random_train_sentence}')\n",
        "use_embed_sentence = tf_hub_embedding_layer([random_train_sentence])\n",
        "print(f'Sentence after embedding:\\n {use_embed_sentence}')"
      ],
      "metadata": {
        "id": "JE_QQBcLfied",
        "colab": {
          "base_uri": "https://localhost:8080/"
        },
        "outputId": "e5fe173b-5731-44a0-88bb-1adeb1fd8db7"
      },
      "execution_count": 51,
      "outputs": [
        {
          "output_type": "stream",
          "name": "stdout",
          "text": [
            "Random sentence:\n",
            " oprm@ genotype was found to moderate these relationships .\n",
            "Sentence after embedding:\n",
            " [[ 5.67446090e-02  5.03788143e-02 -3.15840840e-02  7.08303154e-02\n",
            "   2.94910092e-02  6.31572902e-02  2.62733195e-02 -1.02753164e-02\n",
            "  -7.57073238e-02  7.46222958e-02  5.05183637e-02  3.71758454e-02\n",
            "  -2.71489248e-02 -3.88844823e-03  1.14610484e-02 -8.10952783e-02\n",
            "  -8.37372690e-02 -6.05727406e-03  1.96302473e-03  8.23717937e-03\n",
            "  -2.61191186e-02  4.43385057e-02  2.80836690e-02  1.72798894e-03\n",
            "   1.20348232e-02 -1.78143159e-02  5.80181740e-02 -4.46014367e-02\n",
            "   5.92625365e-02  6.52758405e-02 -1.47304265e-03  1.99890472e-02\n",
            "  -2.40483936e-02 -1.59081612e-02 -7.75294006e-02  5.95829375e-02\n",
            "  -5.45930937e-02 -2.48144772e-02  3.10097933e-02  5.68232276e-02\n",
            "  -6.36395067e-02  4.15636748e-02  3.84511761e-02  4.41880785e-02\n",
            "   5.76821044e-02  6.03561215e-02  1.12957903e-03 -7.62850558e-03\n",
            "   5.18306792e-02  1.52557380e-02  4.20832122e-03  2.79997494e-02\n",
            "  -3.36706825e-03 -6.77706897e-02  6.71967715e-02 -4.55752648e-02\n",
            "   3.66645232e-02 -4.35844846e-02  1.89412956e-03  2.20215172e-02\n",
            "  -6.89269677e-02 -4.45818491e-02 -6.54159263e-02 -7.01100333e-03\n",
            "  -6.48437291e-02 -4.93381992e-02  1.38147874e-02 -3.63820232e-02\n",
            "   4.55735773e-02  7.17972815e-02  1.59880472e-03 -5.46447225e-02\n",
            "   4.03481051e-02  4.21122052e-02 -5.77534996e-02  5.97484931e-02\n",
            "   2.94901729e-02  7.90432394e-02  4.33243913e-05  1.41585292e-02\n",
            "  -7.35263526e-02  4.30794805e-02  5.53595535e-02 -2.20027170e-03\n",
            "   6.37351424e-02  5.75383492e-02 -1.12355947e-02  1.42700607e-02\n",
            "   6.06094068e-03 -6.73126057e-02  5.76562472e-02  2.07754318e-02\n",
            "   2.71049645e-02 -2.44521117e-03  1.97148905e-03 -1.60429981e-02\n",
            "  -6.23183250e-02 -4.12430018e-02  8.95407889e-03  5.54666780e-02\n",
            "   6.34038150e-02  3.48242978e-03 -5.27306087e-02 -1.01440335e-02\n",
            "  -3.35756019e-02  7.63771236e-02  3.81489508e-02  2.63708849e-02\n",
            "   2.02609077e-02 -2.31299754e-02  8.26299414e-02  1.11737475e-02\n",
            "   2.72875540e-02  2.82492582e-02  1.41004985e-02  7.46689811e-02\n",
            "  -5.53609431e-02  4.29353677e-03  4.98727672e-02 -5.56156673e-02\n",
            "   2.38459520e-02  6.09281473e-02  6.10116869e-03 -7.57522285e-02\n",
            "   1.39347268e-02  1.67029984e-02 -8.23408216e-02 -1.02675240e-02\n",
            "   6.45178929e-02 -4.18613590e-02 -2.96987798e-02  9.23893899e-02\n",
            "  -8.59631412e-03  7.00358674e-02 -1.88677790e-04  7.79206259e-03\n",
            "  -1.85173508e-02  8.55425075e-02 -3.50216916e-03  5.46500552e-04\n",
            "   5.09678163e-02  4.83051315e-02 -3.77917513e-02 -4.29540761e-02\n",
            "  -4.35605831e-02  4.64650802e-02  1.86876543e-02  2.13330984e-02\n",
            "   5.95132709e-02 -2.24833060e-02 -3.20144296e-02  3.77948880e-02\n",
            "   9.33554303e-03  5.66299297e-02  9.70724896e-02  3.42566408e-02\n",
            "  -7.09547028e-02 -9.12733003e-02  5.33632860e-02 -6.99746013e-02\n",
            "  -5.23617975e-02  3.70841362e-02  4.42597223e-03  3.27942260e-02\n",
            "   3.91955562e-02  5.75905778e-02 -7.70413652e-02  2.14142352e-02\n",
            "  -2.18796264e-02  3.38219665e-02  1.43697606e-02 -5.20619936e-03\n",
            "  -7.84982368e-02 -1.87528655e-02  2.44481508e-02 -3.10165379e-02\n",
            "   2.65035667e-02 -1.83138270e-02  2.94649322e-03  6.32448122e-02\n",
            "   2.65506171e-02  4.53626141e-02  5.91229722e-02  6.66801631e-02\n",
            "   3.64578851e-02 -3.91811272e-03  3.38692009e-03 -3.57117541e-02\n",
            "  -5.10825925e-02  4.46627140e-02 -3.10373642e-02 -3.33014922e-03\n",
            "   9.29087773e-03 -2.55647358e-02  4.75261807e-02  9.23532248e-03\n",
            "   8.72523412e-02  2.13255198e-03  3.76806296e-02 -4.64402884e-02\n",
            "  -5.70587721e-03  3.75799388e-02 -3.83686237e-02 -2.59986147e-02\n",
            "   8.47420245e-02 -1.17080531e-03  8.03636760e-03 -2.33395398e-03\n",
            "   4.35296493e-03  2.64667124e-02 -3.37947085e-02  3.75432521e-02\n",
            "  -7.89647549e-02  1.22264456e-02 -2.49966304e-03 -5.55641130e-02\n",
            "   5.81291728e-02  4.61336151e-02  6.07847013e-02  4.83215973e-03\n",
            "   4.43635769e-02  1.46420486e-02  5.51022664e-02  6.08711913e-02\n",
            "   6.85717305e-03 -3.80291976e-02  7.42068216e-02  1.97977107e-02\n",
            "  -6.97617754e-02  3.91957425e-02  6.58823103e-02 -3.21578756e-02\n",
            "  -3.44025306e-02  1.76227298e-02  7.99589753e-02  1.87832120e-04\n",
            "   5.17966934e-02 -8.31914134e-03 -2.31014192e-02 -1.74994506e-02\n",
            "   1.46625172e-02  4.34393622e-02 -3.72006781e-02  3.84308137e-02\n",
            "  -4.80739139e-02 -2.36251373e-02 -2.86448691e-02 -4.99211699e-02\n",
            "  -8.97577871e-03 -2.11172067e-02 -6.95489198e-02 -7.09102070e-03\n",
            "  -1.02568744e-02  4.17188779e-02 -4.81987484e-02  1.85108762e-02\n",
            "  -1.32681464e-03 -6.08513430e-02  7.70348823e-03  5.72199970e-02\n",
            "  -6.31003007e-02  6.79997727e-02  2.38027461e-02  7.15933889e-02\n",
            "   6.26148283e-02 -3.08205616e-02 -5.14696166e-02 -3.56140882e-02\n",
            "   1.78560186e-02  5.20159565e-02 -5.92266396e-02  4.48582061e-02\n",
            "   2.88247187e-02 -1.93947405e-02  1.55184967e-02  2.17957422e-03\n",
            "   1.98874045e-02  4.39471230e-02 -5.32276854e-02 -3.31868269e-02\n",
            "   5.84901683e-02 -4.05902267e-02 -1.34660127e-02 -4.44166083e-03\n",
            "   3.24572390e-03  6.32745738e-04  3.97883505e-02 -5.15633225e-02\n",
            "  -4.30187257e-03 -5.64027652e-02  3.66361365e-02  1.27654281e-02\n",
            "   9.14909318e-03  3.69397365e-02 -4.71711978e-02  5.02908044e-03\n",
            "  -4.46717963e-02 -4.26856354e-02 -4.84941751e-02 -5.88600263e-02\n",
            "  -5.35066612e-02  3.92878577e-02  5.98284826e-02 -4.72052321e-02\n",
            "   3.22562903e-02 -8.90657492e-03  1.44803766e-02  4.60473485e-02\n",
            "   3.45213129e-03  7.22548142e-02  5.08326739e-02  5.91613352e-02\n",
            "   2.56059691e-02 -8.67506396e-03  8.05300176e-02 -6.32724762e-02\n",
            "  -2.11079549e-02  1.07598817e-03  8.29741210e-02 -1.82140563e-02\n",
            "  -3.12358122e-02 -3.67004275e-02  4.11782525e-02 -7.04014301e-02\n",
            "  -3.45587730e-02  6.38582883e-03 -5.20065147e-03 -8.39969739e-02\n",
            "   3.82481655e-03  1.94666367e-02  1.41892778e-02 -2.95517910e-02\n",
            "   2.15994958e-02 -6.06858395e-02 -7.27500543e-02 -8.43383092e-03\n",
            "   6.31757360e-03 -4.93221469e-02 -3.61811440e-03 -1.88809149e-02\n",
            "   8.28903094e-02  9.27170331e-04 -2.34652739e-02  1.21802259e-04\n",
            "  -5.21927588e-02  3.85592645e-03  7.23996684e-02 -1.47265457e-02\n",
            "  -2.06718110e-02  3.36865745e-02 -1.15285711e-02 -1.66778136e-02\n",
            "  -6.44824505e-02 -3.75179872e-02  9.16978121e-02  2.35876516e-02\n",
            "  -5.45543395e-02  2.17542425e-02  8.27801973e-02 -3.75890434e-02\n",
            "  -9.23320744e-03  5.49855940e-02 -8.39996859e-02  4.57666032e-02\n",
            "   4.72430885e-03  1.47139588e-02 -6.05376028e-02 -3.63399647e-02\n",
            "   7.69153063e-04 -6.70838952e-02 -4.93589491e-02 -7.94179551e-03\n",
            "   1.76663473e-02 -6.07435778e-02  9.53395143e-02 -6.81026839e-03\n",
            "  -5.52428924e-02 -1.11535406e-02 -1.43897273e-02 -1.39779216e-02\n",
            "  -4.80228402e-02  7.51206353e-02 -8.68321117e-03 -1.78884007e-02\n",
            "  -6.77945092e-02 -2.60841846e-03  7.88590610e-02 -3.75465527e-02\n",
            "   1.90139208e-02  2.49046851e-02  2.50546914e-02  3.90280634e-02\n",
            "  -1.37663586e-02  2.47660205e-02 -1.83210466e-02  9.30566862e-02\n",
            "   6.74108341e-02  1.48964394e-02 -2.81152292e-03 -6.81707785e-02\n",
            "  -2.46499162e-02  2.93440279e-02 -5.43440133e-02 -1.98061634e-02\n",
            "  -1.18175168e-02  6.47846162e-02 -1.18004708e-02  1.33117884e-02\n",
            "   2.34803744e-02 -5.55041470e-02  7.63315754e-03  1.00464560e-02\n",
            "  -3.14649791e-02 -6.46566153e-02 -6.11283304e-03  1.52316447e-02\n",
            "  -5.60585484e-02 -1.91105362e-02 -2.66153123e-02  4.33344580e-02\n",
            "   8.54596421e-02 -3.11668254e-02 -5.68989851e-02  9.97711811e-03\n",
            "   9.17884111e-02 -4.54126447e-02  2.88518667e-02 -6.91602901e-02\n",
            "  -4.46875952e-02  2.14024968e-02 -6.87660798e-02 -1.11559043e-02\n",
            "  -4.31267247e-02 -6.12437353e-02 -1.96604431e-02 -2.28075758e-02\n",
            "  -2.64776796e-02 -1.91568974e-02  4.60538119e-02  6.20826110e-02\n",
            "   7.06431568e-02  5.87116741e-02  2.23693643e-02 -8.06380361e-02\n",
            "   3.57866026e-02 -8.71091560e-02 -4.68911789e-02 -6.28369227e-02\n",
            "   5.08761965e-03  1.38190193e-02 -5.29995374e-03  2.69434843e-02\n",
            "  -3.64286266e-02  4.48862091e-02  4.17236798e-03 -4.86226827e-02\n",
            "  -3.95506881e-02 -1.08403526e-02  2.35108975e-02  6.65183589e-02\n",
            "  -2.49874201e-02  2.05611251e-02  5.70149720e-02  5.71641102e-02\n",
            "   8.00551698e-02  4.60876450e-02 -2.69504394e-02  4.18867916e-02\n",
            "   5.47934063e-02 -5.64424470e-02 -6.16860064e-03 -3.77339944e-02\n",
            "   3.87303866e-02  5.33985235e-02 -4.30808496e-03  4.88493294e-02\n",
            "   4.80576530e-02  4.10724944e-03 -1.80644915e-02  8.13692510e-02\n",
            "   2.86323787e-03 -8.27941671e-03 -6.86010718e-02  5.70249697e-03\n",
            "   4.22711968e-02  2.02159621e-02  1.68200489e-02 -3.26702856e-02\n",
            "   6.64528608e-02 -3.81292775e-02 -4.29969430e-02 -5.41349314e-02\n",
            "  -1.71450283e-02 -5.89184538e-02 -5.48159815e-02 -6.26609176e-02\n",
            "  -4.53248210e-02 -3.78041007e-02 -1.93378348e-02 -8.13540146e-02\n",
            "  -8.40143189e-02  8.44010245e-03  1.90120917e-02  7.04761967e-02\n",
            "   5.20830266e-02 -3.17292660e-02 -2.01333016e-02  1.33635392e-02\n",
            "   4.36500646e-02 -2.76314970e-02 -7.14051574e-02  4.92406730e-03]]\n"
          ]
        }
      ]
    },
    {
      "cell_type": "markdown",
      "source": [
        "#### Creating and fitting the model"
      ],
      "metadata": {
        "id": "QVasFijuje-m"
      }
    },
    {
      "cell_type": "code",
      "source": [
        "# Instantiate the model\n",
        "model_2 = tf.keras.Sequential([\n",
        "      layers.Input(shape=(), dtype='string'),                         \n",
        "      tf_hub_embedding_layer,\n",
        "      layers.Dense(256, activation=\"relu\"),\n",
        "      layers.Dense(num_classes, activation=\"softmax\")\n",
        "], name=\"universal_sentence_encoder_use\")\n",
        "\n",
        "# Compile the model\n",
        "model_2.compile(loss=\"categorical_crossentropy\",\n",
        "                optimizer='Adam',\n",
        "                metrics=[\"accuracy\"])\n",
        "\n",
        "# Fit the model\n",
        "model_2_history = model_2.fit(train_dataset,\n",
        "                              epochs=5,\n",
        "                              steps_per_epoch=int(0.1*len(train_dataset)),\n",
        "                              validation_data=val_dataset,\n",
        "                              validation_steps=int(0.1*len(val_dataset)))"
      ],
      "metadata": {
        "id": "JBKSeVYnfibt",
        "colab": {
          "base_uri": "https://localhost:8080/"
        },
        "outputId": "5145d307-7452-46ef-9668-7c6bf4465aaa"
      },
      "execution_count": 52,
      "outputs": [
        {
          "output_type": "stream",
          "name": "stdout",
          "text": [
            "Epoch 1/5\n",
            "562/562 [==============================] - 10s 14ms/step - loss: 0.8873 - accuracy: 0.6584 - val_loss: 0.7853 - val_accuracy: 0.6941\n",
            "Epoch 2/5\n",
            "562/562 [==============================] - 8s 14ms/step - loss: 0.7543 - accuracy: 0.7072 - val_loss: 0.7366 - val_accuracy: 0.7144\n",
            "Epoch 3/5\n",
            "562/562 [==============================] - 7s 13ms/step - loss: 0.7299 - accuracy: 0.7218 - val_loss: 0.7137 - val_accuracy: 0.7247\n",
            "Epoch 4/5\n",
            "562/562 [==============================] - 7s 13ms/step - loss: 0.6954 - accuracy: 0.7356 - val_loss: 0.6855 - val_accuracy: 0.7414\n",
            "Epoch 5/5\n",
            "562/562 [==============================] - 7s 13ms/step - loss: 0.7025 - accuracy: 0.7287 - val_loss: 0.6681 - val_accuracy: 0.7427\n"
          ]
        }
      ]
    },
    {
      "cell_type": "code",
      "source": [
        "model_2.summary()"
      ],
      "metadata": {
        "id": "_GBncGPPfiY-",
        "colab": {
          "base_uri": "https://localhost:8080/"
        },
        "outputId": "ea328245-7b9d-4734-f7fb-a452ab9082fb"
      },
      "execution_count": 53,
      "outputs": [
        {
          "output_type": "stream",
          "name": "stdout",
          "text": [
            "Model: \"universal_sentence_encoder_use\"\n",
            "_________________________________________________________________\n",
            " Layer (type)                Output Shape              Param #   \n",
            "=================================================================\n",
            " univeral_sentence_encoder (  (None, 512)              256797824 \n",
            " KerasLayer)                                                     \n",
            "                                                                 \n",
            " dense_1 (Dense)             (None, 256)               131328    \n",
            "                                                                 \n",
            " dense_2 (Dense)             (None, 5)                 1285      \n",
            "                                                                 \n",
            "=================================================================\n",
            "Total params: 256,930,437\n",
            "Trainable params: 132,613\n",
            "Non-trainable params: 256,797,824\n",
            "_________________________________________________________________\n"
          ]
        }
      ]
    },
    {
      "cell_type": "code",
      "source": [
        "# Plot hybrid token and character model\n",
        "plot_model(model_2, show_shapes=True)"
      ],
      "metadata": {
        "colab": {
          "base_uri": "https://localhost:8080/",
          "height": 422
        },
        "id": "D69lPMLifCKF",
        "outputId": "941ea028-3b8f-4c87-c5d4-2b0fa3882f11"
      },
      "execution_count": 54,
      "outputs": [
        {
          "output_type": "execute_result",
          "data": {
            "image/png": "[encoded data removed]",
            "text/plain": [
              "<IPython.core.display.Image object>"
            ]
          },
          "metadata": {},
          "execution_count": 54
        }
      ]
    },
    {
      "cell_type": "code",
      "source": [
        "# Evaluate the model\n",
        "model_2.evaluate(val_dataset)"
      ],
      "metadata": {
        "id": "9n2uBiPlfiWm",
        "colab": {
          "base_uri": "https://localhost:8080/"
        },
        "outputId": "e579004e-c2f4-41e3-9ac2-db6f369b9837"
      },
      "execution_count": 55,
      "outputs": [
        {
          "output_type": "stream",
          "name": "stdout",
          "text": [
            "945/945 [==============================] - 10s 11ms/step - loss: 0.6756 - accuracy: 0.7432\n"
          ]
        },
        {
          "output_type": "execute_result",
          "data": {
            "text/plain": [
              "[0.6755797266960144, 0.7432146072387695]"
            ]
          },
          "metadata": {},
          "execution_count": 55
        }
      ]
    },
    {
      "cell_type": "code",
      "source": [
        "# make predictions with feature extraction model\n",
        "model_2_preds = model_2.predict(val_dataset)\n",
        "model_2_preds"
      ],
      "metadata": {
        "id": "FG9aGggXfiUG",
        "colab": {
          "base_uri": "https://localhost:8080/"
        },
        "outputId": "c8b86490-e930-49a2-88f4-c764f22cf8bb"
      },
      "execution_count": 56,
      "outputs": [
        {
          "output_type": "execute_result",
          "data": {
            "text/plain": [
              "array([[6.8416196e-01, 1.8900725e-01, 1.3476452e-03, 1.1854238e-01,\n",
              "        6.9406829e-03],\n",
              "       [4.5419374e-01, 4.4958973e-01, 5.5068773e-03, 8.8908307e-02,\n",
              "        1.8013400e-03],\n",
              "       [3.8692865e-01, 5.4975670e-02, 5.6353379e-02, 4.6011046e-01,\n",
              "        4.1631866e-02],\n",
              "       ...,\n",
              "       [1.1132361e-03, 9.4166980e-04, 5.8922287e-02, 2.7548798e-04,\n",
              "        9.3874729e-01],\n",
              "       [2.5503915e-03, 2.5620943e-02, 4.5839393e-01, 8.2379871e-04,\n",
              "        5.1261097e-01],\n",
              "       [1.4168599e-01, 5.7151043e-01, 2.5309056e-01, 2.0669766e-03,\n",
              "        3.1646013e-02]], dtype=float32)"
            ]
          },
          "metadata": {},
          "execution_count": 56
        }
      ]
    },
    {
      "cell_type": "code",
      "source": [
        "# Covert the prediction to class labels\n",
        "model_2_preds = tf.argmax(model_2_preds, axis=1)\n",
        "model_2_preds"
      ],
      "metadata": {
        "id": "tbLqoLWOfiRm",
        "colab": {
          "base_uri": "https://localhost:8080/"
        },
        "outputId": "e34cbf8c-bd3f-48db-bb9c-e829047f3f1a"
      },
      "execution_count": 57,
      "outputs": [
        {
          "output_type": "execute_result",
          "data": {
            "text/plain": [
              "<tf.Tensor: shape=(30212,), dtype=int64, numpy=array([0, 0, 3, ..., 4, 4, 1])>"
            ]
          },
          "metadata": {},
          "execution_count": 57
        }
      ]
    },
    {
      "cell_type": "code",
      "source": [
        "# Performance metrics for model 2\n",
        "model_2_results = calculate_results(y_true=val_labels,\n",
        "                                   y_pred=model_2_preds)\n",
        "model_2_results"
      ],
      "metadata": {
        "id": "PERMQC2FfiPI",
        "colab": {
          "base_uri": "https://localhost:8080/"
        },
        "outputId": "a2dbe8ba-8f80-4a52-c1e5-938a26419344"
      },
      "execution_count": 58,
      "outputs": [
        {
          "output_type": "execute_result",
          "data": {
            "text/plain": [
              "{'accuracy': 74.32146167085925,\n",
              " 'precision': 0.7392475921248868,\n",
              " 'recall': 0.7432146167085926,\n",
              " 'f1': 0.7375015101709445}"
            ]
          },
          "metadata": {},
          "execution_count": 58
        }
      ]
    },
    {
      "cell_type": "markdown",
      "source": [
        "### Model 3: Conv1D with character embeddings"
      ],
      "metadata": {
        "id": "7IGtjstsnWbT"
      }
    },
    {
      "cell_type": "code",
      "source": [
        "random_sentence = random.choice(train_sentences)\n",
        "random_sentence"
      ],
      "metadata": {
        "id": "Uh-iQPjifiMm",
        "colab": {
          "base_uri": "https://localhost:8080/",
          "height": 36
        },
        "outputId": "ff54fa3c-728d-48f4-fc9a-425fb7a0f255"
      },
      "execution_count": 59,
      "outputs": [
        {
          "output_type": "execute_result",
          "data": {
            "text/plain": [
              "'one hundred thirty patients will be randomly allocated into either the intervention or placebo group at a ratio of @:@ .'"
            ],
            "application/vnd.google.colaboratory.intrinsic+json": {
              "type": "string"
            }
          },
          "metadata": {},
          "execution_count": 59
        }
      ]
    },
    {
      "cell_type": "code",
      "source": [
        "' '.join(list(random_sentence))"
      ],
      "metadata": {
        "id": "xio1QlD5fiKH",
        "colab": {
          "base_uri": "https://localhost:8080/",
          "height": 53
        },
        "outputId": "d8c871ed-6260-4805-b011-6d8e70410f31"
      },
      "execution_count": 60,
      "outputs": [
        {
          "output_type": "execute_result",
          "data": {
            "text/plain": [
              "'o n e   h u n d r e d   t h i r t y   p a t i e n t s   w i l l   b e   r a n d o m l y   a l l o c a t e d   i n t o   e i t h e r   t h e   i n t e r v e n t i o n   o r   p l a c e b o   g r o u p   a t   a   r a t i o   o f   @ : @   .'"
            ],
            "application/vnd.google.colaboratory.intrinsic+json": {
              "type": "string"
            }
          },
          "metadata": {},
          "execution_count": 60
        }
      ]
    },
    {
      "cell_type": "code",
      "source": [
        "# Make function to split sentences into characters\n",
        "def split_chars(text):\n",
        "  return \" \".join(list(text))\n",
        "\n",
        "# Text splitting non-character-level sequence into characters\n",
        "split_chars(random_sentence)"
      ],
      "metadata": {
        "id": "BtKgXrFWfiHg",
        "colab": {
          "base_uri": "https://localhost:8080/",
          "height": 53
        },
        "outputId": "7fd7cb39-805a-42f1-ab73-0265bbc6ce3c"
      },
      "execution_count": 61,
      "outputs": [
        {
          "output_type": "execute_result",
          "data": {
            "text/plain": [
              "'o n e   h u n d r e d   t h i r t y   p a t i e n t s   w i l l   b e   r a n d o m l y   a l l o c a t e d   i n t o   e i t h e r   t h e   i n t e r v e n t i o n   o r   p l a c e b o   g r o u p   a t   a   r a t i o   o f   @ : @   .'"
            ],
            "application/vnd.google.colaboratory.intrinsic+json": {
              "type": "string"
            }
          },
          "metadata": {},
          "execution_count": 61
        }
      ]
    },
    {
      "cell_type": "code",
      "source": [
        "# Split sequence-level data into character-level data splits\n",
        "train_chars = [split_chars(sentence) for sentence in train_sentences]\n",
        "val_chars = [split_chars(sentence) for sentence in val_sentences]\n",
        "test_chars = [split_chars(sentence) for sentence in test_sentences]"
      ],
      "metadata": {
        "id": "c4_JqiaefiFG"
      },
      "execution_count": 62,
      "outputs": []
    },
    {
      "cell_type": "code",
      "source": [
        "train_chars[:5]"
      ],
      "metadata": {
        "id": "lOGixwRzfiCa",
        "colab": {
          "base_uri": "https://localhost:8080/"
        },
        "outputId": "8f104e67-c596-4485-8b45-e23fc30a0530"
      },
      "execution_count": 63,
      "outputs": [
        {
          "output_type": "execute_result",
          "data": {
            "text/plain": [
              "['t o   i n v e s t i g a t e   t h e   e f f i c a c y   o f   @   w e e k s   o f   d a i l y   l o w - d o s e   o r a l   p r e d n i s o l o n e   i n   i m p r o v i n g   p a i n   ,   m o b i l i t y   ,   a n d   s y s t e m i c   l o w - g r a d e   i n f l a m m a t i o n   i n   t h e   s h o r t   t e r m   a n d   w h e t h e r   t h e   e f f e c t   w o u l d   b e   s u s t a i n e d   a t   @   w e e k s   i n   o l d e r   a d u l t s   w i t h   m o d e r a t e   t o   s e v e r e   k n e e   o s t e o a r t h r i t i s   (   o a   )   .',\n",
              " 'a   t o t a l   o f   @   p a t i e n t s   w i t h   p r i m a r y   k n e e   o a   w e r e   r a n d o m i z e d   @ : @   ;   @   r e c e i v e d   @   m g / d a y   o f   p r e d n i s o l o n e   a n d   @   r e c e i v e d   p l a c e b o   f o r   @   w e e k s   .',\n",
              " 'o u t c o m e   m e a s u r e s   i n c l u d e d   p a i n   r e d u c t i o n   a n d   i m p r o v e m e n t   i n   f u n c t i o n   s c o r e s   a n d   s y s t e m i c   i n f l a m m a t i o n   m a r k e r s   .',\n",
              " 'p a i n   w a s   a s s e s s e d   u s i n g   t h e   v i s u a l   a n a l o g   p a i n   s c a l e   (   @ - @   m m   )   .',\n",
              " 's e c o n d a r y   o u t c o m e   m e a s u r e s   i n c l u d e d   t h e   w e s t e r n   o n t a r i o   a n d   m c m a s t e r   u n i v e r s i t i e s   o s t e o a r t h r i t i s   i n d e x   s c o r e s   ,   p a t i e n t   g l o b a l   a s s e s s m e n t   (   p g a   )   o f   t h e   s e v e r i t y   o f   k n e e   o a   ,   a n d   @ - m i n   w a l k   d i s t a n c e   (   @ m w d   )   .']"
            ]
          },
          "metadata": {},
          "execution_count": 63
        }
      ]
    },
    {
      "cell_type": "code",
      "source": [
        "# What's the average charcter length?\n",
        "char_len = [len(i) for i in train_sentences]\n",
        "average_char_len = np.mean(char_len)\n",
        "average_char_len"
      ],
      "metadata": {
        "id": "02Gk2Pgjfh_3",
        "colab": {
          "base_uri": "https://localhost:8080/"
        },
        "outputId": "c15b2d59-86a1-4591-82bf-16add6363fb2"
      },
      "execution_count": 64,
      "outputs": [
        {
          "output_type": "execute_result",
          "data": {
            "text/plain": [
              "149.3662574983337"
            ]
          },
          "metadata": {},
          "execution_count": 64
        }
      ]
    },
    {
      "cell_type": "code",
      "source": [
        "# visualize the avg_char_len \n",
        "plt.hist(char_len, bins=20);"
      ],
      "metadata": {
        "id": "c3x0JDEofh9k",
        "colab": {
          "base_uri": "https://localhost:8080/",
          "height": 265
        },
        "outputId": "f3e4e5fc-6f9d-40f7-9a7e-e519f19c6f0e"
      },
      "execution_count": 65,
      "outputs": [
        {
          "output_type": "display_data",
          "data": {
            "text/plain": [
              "<Figure size 432x288 with 1 Axes>"
            ],
            "image/png": "[encoded data removed]"
          },
          "metadata": {
            "needs_background": "light"
          }
        }
      ]
    },
    {
      "cell_type": "code",
      "source": [
        "# How long of a sentence length covers 95% of examples?\n",
        "output_sen_len = int(np.percentile(char_len, 95))\n",
        "output_sen_len"
      ],
      "metadata": {
        "id": "MrehwnfKfh7T",
        "colab": {
          "base_uri": "https://localhost:8080/"
        },
        "outputId": "c9f621f0-45b6-481c-f436-5be94c42ff7e"
      },
      "execution_count": 66,
      "outputs": [
        {
          "output_type": "execute_result",
          "data": {
            "text/plain": [
              "290"
            ]
          },
          "metadata": {},
          "execution_count": 66
        }
      ]
    },
    {
      "cell_type": "code",
      "source": [
        "# Get all the keyboard character\n",
        "alphabets = string.ascii_lowercase + string.digits + string.punctuation\n",
        "alphabets"
      ],
      "metadata": {
        "id": "R2CRNuIYqU29",
        "colab": {
          "base_uri": "https://localhost:8080/",
          "height": 36
        },
        "outputId": "82334fc9-2197-440c-aeae-dda05ed5bacc"
      },
      "execution_count": 67,
      "outputs": [
        {
          "output_type": "execute_result",
          "data": {
            "text/plain": [
              "'abcdefghijklmnopqrstuvwxyz0123456789!\"#$%&\\'()*+,-./:;<=>?@[\\\\]^_`{|}~'"
            ],
            "application/vnd.google.colaboratory.intrinsic+json": {
              "type": "string"
            }
          },
          "metadata": {},
          "execution_count": 67
        }
      ]
    },
    {
      "cell_type": "markdown",
      "source": [
        "#### Text-vectorization layer for character level embeddings"
      ],
      "metadata": {
        "id": "ctomE3n3psHV"
      }
    },
    {
      "cell_type": "code",
      "source": [
        "# Setting the text-vectorizer\n",
        "NUM_CHAR_TOKENS = len(alphabets) + 2 # add 2 for space and OOV token {OOV = out of vocab, '[UNK]'}\n",
        "max_length = output_sen_len\n",
        "\n",
        "char_vectorizer = TextVectorization(max_tokens=NUM_CHAR_TOKENS,\n",
        "                                    output_sequence_length=max_length,\n",
        "                                    standardize='lower_and_strip_punctuation',\n",
        "                                    name=\"char_vectorizer\")"
      ],
      "metadata": {
        "id": "3B8YXp_Zfh4v"
      },
      "execution_count": 68,
      "outputs": []
    },
    {
      "cell_type": "code",
      "source": [
        "# Adapt to our training characters\n",
        "char_vectorizer.adapt(train_chars)"
      ],
      "metadata": {
        "id": "NzTVLMI0fh2e"
      },
      "execution_count": 69,
      "outputs": []
    },
    {
      "cell_type": "code",
      "source": [
        "# Check character vocab stats\n",
        "char_vocab = char_vectorizer.get_vocabulary()\n",
        "print(f\"No. of different characters in character vocab: {len(char_vocab)}\")\n",
        "print(f\"5 most common characters: {char_vocab[:5]}\")\n",
        "print(f\"5 least common characters: {char_vocab[-5:]}\")"
      ],
      "metadata": {
        "id": "l2Ml5Eo88d-G",
        "colab": {
          "base_uri": "https://localhost:8080/"
        },
        "outputId": "438c131a-2137-4933-ea8d-0d3b92dc78d9"
      },
      "execution_count": 70,
      "outputs": [
        {
          "output_type": "stream",
          "name": "stdout",
          "text": [
            "No. of different characters in character vocab: 28\n",
            "5 most common characters: ['', '[UNK]', 'e', 't', 'i']\n",
            "5 least common characters: ['k', 'x', 'z', 'q', 'j']\n"
          ]
        }
      ]
    },
    {
      "cell_type": "code",
      "source": [
        "# Test out character vectorizer\n",
        "random_train_chars = random.choice(train_chars)\n",
        "print(f\"Charified text:\\n{random_train_chars}\")\n",
        "print(f\"Length of random_train_chars: {len(random_train_chars.split())}\\n\")\n",
        "vectorized_train_chars = char_vectorizer([random_train_chars])\n",
        "print(f\"Vectorized chars:\\n{vectorized_train_chars}\")\n",
        "print(f\"Length of vectorized_train_chars: {len(vectorized_train_chars[0])}\")"
      ],
      "metadata": {
        "id": "5N2ouemAsuJE",
        "colab": {
          "base_uri": "https://localhost:8080/"
        },
        "outputId": "49f2e893-eae0-497e-e8e3-90908f05990a"
      },
      "execution_count": 71,
      "outputs": [
        {
          "output_type": "stream",
          "name": "stdout",
          "text": [
            "Charified text:\n",
            "t h e   m e d i a n   p r o g r e s s i o n - f r e e   s u r v i v a l   w a s   @   m o n t h s   i n   t h e   d o c e t a x e l   p l u s   s - @   g r o u p   a n d   @   m o n t h s   i n   t h e   s - @   a l o n e   g r o u p   (   p   =   @   )   .\n",
            "Length of random_train_chars: 103\n",
            "\n",
            "Vectorized chars:\n",
            "[[ 3 13  2 15  2 10  4  5  6 14  8  7 18  8  2  9  9  4  7  6 17  8  2  2\n",
            "   9 16  8 21  4 21  5 12 20  5  9 15  7  6  3 13  9  4  6  3 13  2 10  7\n",
            "  11  2  3  5 24  2 12 14 12 16  9  9 18  8  7 16 14  5  6 10 15  7  6  3\n",
            "  13  9  4  6  3 13  2  9  5 12  7  6  2 18  8  7 16 14 14  0  0  0  0  0\n",
            "   0  0  0  0  0  0  0  0  0  0  0  0  0  0  0  0  0  0  0  0  0  0  0  0\n",
            "   0  0  0  0  0  0  0  0  0  0  0  0  0  0  0  0  0  0  0  0  0  0  0  0\n",
            "   0  0  0  0  0  0  0  0  0  0  0  0  0  0  0  0  0  0  0  0  0  0  0  0\n",
            "   0  0  0  0  0  0  0  0  0  0  0  0  0  0  0  0  0  0  0  0  0  0  0  0\n",
            "   0  0  0  0  0  0  0  0  0  0  0  0  0  0  0  0  0  0  0  0  0  0  0  0\n",
            "   0  0  0  0  0  0  0  0  0  0  0  0  0  0  0  0  0  0  0  0  0  0  0  0\n",
            "   0  0  0  0  0  0  0  0  0  0  0  0  0  0  0  0  0  0  0  0  0  0  0  0\n",
            "   0  0  0  0  0  0  0  0  0  0  0  0  0  0  0  0  0  0  0  0  0  0  0  0\n",
            "   0  0]]\n",
            "Length of vectorized_train_chars: 290\n"
          ]
        }
      ]
    },
    {
      "cell_type": "markdown",
      "source": [
        "#### Embeddings for character level tokenizer"
      ],
      "metadata": {
        "id": "74feOPUeu8g-"
      }
    },
    {
      "cell_type": "code",
      "source": [
        "# Creating an embedding layer\n",
        "char_embedding = layers.Embedding(input_dim=len(char_vocab),  # no. of different characters\n",
        "                                  output_dim=25,  # output shape\n",
        "                                  mask_zero=True,  # use masking to handle variable sequence lengths\n",
        "                                  name=\"char_embedding\")\n",
        "char_embedding"
      ],
      "metadata": {
        "id": "SrBhXxLnsuFl",
        "colab": {
          "base_uri": "https://localhost:8080/"
        },
        "outputId": "122cb272-b9cc-45d9-b742-55b0b4f4970d"
      },
      "execution_count": 72,
      "outputs": [
        {
          "output_type": "execute_result",
          "data": {
            "text/plain": [
              "<keras.layers.embeddings.Embedding at 0x7f562fcf8510>"
            ]
          },
          "metadata": {},
          "execution_count": 72
        }
      ]
    },
    {
      "cell_type": "code",
      "source": [
        "# Test out our embedding layer\n",
        "print(f\"Charified text:\\n{random_train_chars}\\n\")\n",
        "print(f\"Length of charified text:\\n{len(random_train_chars.split())}\\n\")\n",
        "char_embed = char_embedding(char_vectorizer([random_train_chars]))\n",
        "print(f\"Embedding for charified text:\\n{char_embed}\\n\")\n",
        "print(f\"Shape of embedding:\\n{char_embed.shape}\")"
      ],
      "metadata": {
        "id": "dR4anPsMsuCW",
        "colab": {
          "base_uri": "https://localhost:8080/"
        },
        "outputId": "d3ece118-2080-45b7-b30c-2b44e432ef35"
      },
      "execution_count": 73,
      "outputs": [
        {
          "output_type": "stream",
          "name": "stdout",
          "text": [
            "Charified text:\n",
            "t h e   m e d i a n   p r o g r e s s i o n - f r e e   s u r v i v a l   w a s   @   m o n t h s   i n   t h e   d o c e t a x e l   p l u s   s - @   g r o u p   a n d   @   m o n t h s   i n   t h e   s - @   a l o n e   g r o u p   (   p   =   @   )   .\n",
            "\n",
            "Length of charified text:\n",
            "103\n",
            "\n",
            "Embedding for charified text:\n",
            "[[[ 0.01968035  0.03200621 -0.014497   ... -0.04865477  0.02683356\n",
            "   -0.01401844]\n",
            "  [-0.02940375 -0.00833941 -0.03042443 ...  0.04982737  0.04007535\n",
            "   -0.00290019]\n",
            "  [ 0.01184068  0.02092648  0.04443699 ...  0.00994083  0.01864574\n",
            "    0.0317037 ]\n",
            "  ...\n",
            "  [ 0.0064263   0.0362254  -0.03173348 ... -0.0129232  -0.04637811\n",
            "   -0.03834237]\n",
            "  [ 0.0064263   0.0362254  -0.03173348 ... -0.0129232  -0.04637811\n",
            "   -0.03834237]\n",
            "  [ 0.0064263   0.0362254  -0.03173348 ... -0.0129232  -0.04637811\n",
            "   -0.03834237]]]\n",
            "\n",
            "Shape of embedding:\n",
            "(1, 290, 25)\n"
          ]
        }
      ]
    },
    {
      "cell_type": "markdown",
      "source": [
        "#### Creating the CNN"
      ],
      "metadata": {
        "id": "_BgpFgP_xB77"
      }
    },
    {
      "cell_type": "code",
      "source": [
        "# Create the model for character level embeddings\n",
        "input = layers.Input(shape=(1, ), dtype=tf.string)\n",
        "x = char_vectorizer(input)\n",
        "x = char_embedding(x)\n",
        "x = layers.Conv1D(256,\n",
        "                  kernel_size=3,\n",
        "                  padding='same',\n",
        "                  activation='relu')(x)\n",
        "x = layers.GlobalMaxPooling1D()(x)\n",
        "output = layers.Dense(num_classes, activation=\"softmax\")(x)\n",
        "model_3 = tf.keras.Model(input, output, name=\"conv_1d_char_embed\")"
      ],
      "metadata": {
        "id": "HpRzh3MQst_R"
      },
      "execution_count": 74,
      "outputs": []
    },
    {
      "cell_type": "code",
      "source": [
        "model_3.summary()"
      ],
      "metadata": {
        "id": "zBtCitzsst7t",
        "colab": {
          "base_uri": "https://localhost:8080/"
        },
        "outputId": "35e05030-4a99-4f0d-cd5e-239e7cab6b4e"
      },
      "execution_count": 75,
      "outputs": [
        {
          "output_type": "stream",
          "name": "stdout",
          "text": [
            "Model: \"conv_1d_char_embed\"\n",
            "_________________________________________________________________\n",
            " Layer (type)                Output Shape              Param #   \n",
            "=================================================================\n",
            " input_3 (InputLayer)        [(None, 1)]               0         \n",
            "                                                                 \n",
            " char_vectorizer (TextVector  (None, 290)              0         \n",
            " ization)                                                        \n",
            "                                                                 \n",
            " char_embedding (Embedding)  (None, 290, 25)           700       \n",
            "                                                                 \n",
            " conv1d_1 (Conv1D)           (None, 290, 256)          19456     \n",
            "                                                                 \n",
            " global_max_pooling1d_1 (Glo  (None, 256)              0         \n",
            " balMaxPooling1D)                                                \n",
            "                                                                 \n",
            " dense_3 (Dense)             (None, 5)                 1285      \n",
            "                                                                 \n",
            "=================================================================\n",
            "Total params: 21,441\n",
            "Trainable params: 21,441\n",
            "Non-trainable params: 0\n",
            "_________________________________________________________________\n"
          ]
        }
      ]
    },
    {
      "cell_type": "code",
      "source": [
        "# Plot hybrid token and character model\n",
        "plot_model(model_3, show_shapes=True)"
      ],
      "metadata": {
        "colab": {
          "base_uri": "https://localhost:8080/",
          "height": 644
        },
        "id": "X_ZuS380fJoU",
        "outputId": "9572a4d0-7610-4e58-924a-b8b6439618f9"
      },
      "execution_count": 76,
      "outputs": [
        {
          "output_type": "execute_result",
          "data": {
            "image/png": "[encoded data removed]",
            "text/plain": [
              "<IPython.core.display.Image object>"
            ]
          },
          "metadata": {},
          "execution_count": 76
        }
      ]
    },
    {
      "cell_type": "code",
      "source": [
        "# Create char level dataset\n",
        "train_char_dataset = tf.data.Dataset.from_tensor_slices((train_chars, train_labels_one_hot)).batch(32).prefetch(tf.data.AUTOTUNE)\n",
        "val_char_dataset = tf.data.Dataset.from_tensor_slices((val_chars, val_labels_one_hot)).batch(32).prefetch(tf.data.AUTOTUNE)\n",
        "test_char_dataset = tf.data.Dataset.from_tensor_slices((test_chars, test_labels_one_hot)).batch(32).prefetch(tf.data.AUTOTUNE)"
      ],
      "metadata": {
        "id": "VoUGwD2V06FZ"
      },
      "execution_count": 77,
      "outputs": []
    },
    {
      "cell_type": "code",
      "source": [
        "train_char_dataset"
      ],
      "metadata": {
        "id": "puf9KQ-p1K9j",
        "colab": {
          "base_uri": "https://localhost:8080/"
        },
        "outputId": "a4db824f-df60-4c2d-cd8f-3d1c3a5ce158"
      },
      "execution_count": 78,
      "outputs": [
        {
          "output_type": "execute_result",
          "data": {
            "text/plain": [
              "<PrefetchDataset element_spec=(TensorSpec(shape=(None,), dtype=tf.string, name=None), TensorSpec(shape=(None, 5), dtype=tf.float64, name=None))>"
            ]
          },
          "metadata": {},
          "execution_count": 78
        }
      ]
    },
    {
      "cell_type": "code",
      "source": [
        "# Compile the model\n",
        "model_3.compile(loss=\"categorical_crossentropy\",\n",
        "                optimizer=\"Adam\",\n",
        "                metrics=['accuracy'])\n",
        "\n",
        "# Fit the model\n",
        "model_3_history = model_3.fit(train_char_dataset,\n",
        "                              validation_data=val_char_dataset,\n",
        "                              epochs=5,\n",
        "                              steps_per_epoch=int(0.1*len(train_char_dataset)),\n",
        "                              validation_steps=int(0.1*len(val_char_dataset)))"
      ],
      "metadata": {
        "id": "efCuvCiJst4I",
        "colab": {
          "base_uri": "https://localhost:8080/"
        },
        "outputId": "648700c9-2e64-4f73-bab6-55f28b770d89"
      },
      "execution_count": 79,
      "outputs": [
        {
          "output_type": "stream",
          "name": "stdout",
          "text": [
            "Epoch 1/5\n",
            "562/562 [==============================] - 4s 7ms/step - loss: 1.2439 - accuracy: 0.4964 - val_loss: 1.0205 - val_accuracy: 0.6054\n",
            "Epoch 2/5\n",
            "562/562 [==============================] - 3s 6ms/step - loss: 0.9995 - accuracy: 0.6010 - val_loss: 0.9259 - val_accuracy: 0.6403\n",
            "Epoch 3/5\n",
            "562/562 [==============================] - 4s 7ms/step - loss: 0.9314 - accuracy: 0.6336 - val_loss: 0.8896 - val_accuracy: 0.6489\n",
            "Epoch 4/5\n",
            "562/562 [==============================] - 4s 7ms/step - loss: 0.8798 - accuracy: 0.6558 - val_loss: 0.8332 - val_accuracy: 0.6779\n",
            "Epoch 5/5\n",
            "562/562 [==============================] - 4s 6ms/step - loss: 0.8582 - accuracy: 0.6686 - val_loss: 0.8265 - val_accuracy: 0.6918\n"
          ]
        }
      ]
    },
    {
      "cell_type": "code",
      "source": [
        "# Evaluate the model 3\n",
        "model_3.evaluate(val_dataset)"
      ],
      "metadata": {
        "id": "ggW82WkKstx5",
        "colab": {
          "base_uri": "https://localhost:8080/"
        },
        "outputId": "9aeff2af-721c-413b-a382-a12030985809"
      },
      "execution_count": 80,
      "outputs": [
        {
          "output_type": "stream",
          "name": "stdout",
          "text": [
            "945/945 [==============================] - 4s 4ms/step - loss: 1.6988 - accuracy: 0.3847\n"
          ]
        },
        {
          "output_type": "execute_result",
          "data": {
            "text/plain": [
              "[1.6988030672073364, 0.3846815824508667]"
            ]
          },
          "metadata": {},
          "execution_count": 80
        }
      ]
    },
    {
      "cell_type": "code",
      "source": [
        "# Make predictions on the validation dataset\n",
        "model_3_preds = model_3.predict(val_dataset)\n",
        "model_3_preds[:10]"
      ],
      "metadata": {
        "id": "NZqkwC9vstvH",
        "colab": {
          "base_uri": "https://localhost:8080/"
        },
        "outputId": "04245b92-eada-4a2f-8c54-79a0bd26f332"
      },
      "execution_count": 81,
      "outputs": [
        {
          "output_type": "execute_result",
          "data": {
            "text/plain": [
              "array([[0.24051194, 0.03810073, 0.5446938 , 0.02596014, 0.15073337],\n",
              "       [0.15880203, 0.03137528, 0.67581654, 0.01729574, 0.11671039],\n",
              "       [0.27419484, 0.03816601, 0.52648985, 0.02889433, 0.13225497],\n",
              "       [0.24051194, 0.03810073, 0.5446938 , 0.02596014, 0.15073337],\n",
              "       [0.24051194, 0.03810073, 0.5446938 , 0.02596014, 0.15073337],\n",
              "       [0.15880203, 0.03137528, 0.67581654, 0.01729574, 0.11671039],\n",
              "       [0.15880203, 0.03137528, 0.67581654, 0.01729574, 0.11671039],\n",
              "       [0.15880203, 0.03137528, 0.67581654, 0.01729574, 0.11671039],\n",
              "       [0.15880203, 0.03137528, 0.67581654, 0.01729574, 0.11671039],\n",
              "       [0.24051194, 0.03810073, 0.5446938 , 0.02596014, 0.15073337]],\n",
              "      dtype=float32)"
            ]
          },
          "metadata": {},
          "execution_count": 81
        }
      ]
    },
    {
      "cell_type": "code",
      "source": [
        "# Converting the pred probs to labels\n",
        "model_3_preds = tf.argmax(model_3_preds, axis=1)\n",
        "model_3_preds"
      ],
      "metadata": {
        "id": "BhSLZ0VszcGR",
        "colab": {
          "base_uri": "https://localhost:8080/"
        },
        "outputId": "f4f0e232-aa5e-4c91-fbcc-ac8aeb34469a"
      },
      "execution_count": 82,
      "outputs": [
        {
          "output_type": "execute_result",
          "data": {
            "text/plain": [
              "<tf.Tensor: shape=(30212,), dtype=int64, numpy=array([2, 2, 2, ..., 2, 2, 2])>"
            ]
          },
          "metadata": {},
          "execution_count": 82
        }
      ]
    },
    {
      "cell_type": "code",
      "source": [
        "# Calculating the evaluation metrics for model 3\n",
        "model_3_result = calculate_results(y_true=val_labels,\n",
        "                                  y_pred=model_3_preds)\n",
        "model_3_result"
      ],
      "metadata": {
        "id": "zD-f1fMustsT",
        "colab": {
          "base_uri": "https://localhost:8080/"
        },
        "outputId": "6d61fbef-28c5-4f76-d4eb-650eabdc3e8c"
      },
      "execution_count": 83,
      "outputs": [
        {
          "output_type": "stream",
          "name": "stderr",
          "text": [
            "/usr/local/lib/python3.7/dist-packages/sklearn/metrics/_classification.py:1318: UndefinedMetricWarning: Precision and F-score are ill-defined and being set to 0.0 in labels with no predicted samples. Use `zero_division` parameter to control this behavior.\n",
            "  _warn_prf(average, modifier, msg_start, len(result))\n"
          ]
        },
        {
          "output_type": "execute_result",
          "data": {
            "text/plain": [
              "{'accuracy': 38.468158347676415,\n",
              " 'precision': 0.4297148625509117,\n",
              " 'recall': 0.3846815834767642,\n",
              " 'f1': 0.2971602464750902}"
            ]
          },
          "metadata": {},
          "execution_count": 83
        }
      ]
    },
    {
      "cell_type": "markdown",
      "source": [
        "### Model 4: Combining pretrained token embeddings + character embeddings (hybrid embedding layer)\n",
        "\n",
        "1. Create a token-level embedding model (similar `model_1`).\n",
        "2. Create a character level model (similar to `model_3` with a slight modification).\n",
        "3. Combine 1 & 2 with a concatenate (`layers.Concatenate`).\n",
        "4. Build a series of output layers on top of 3 similar to Figure 1.\n",
        "5. Construct a model which takes tokens and character-level sequences as input and produces sequence label probabilites as output."
      ],
      "metadata": {
        "id": "nmZDo7XF5bu-"
      }
    },
    {
      "cell_type": "code",
      "source": [
        "# 1. Setup model for token-level embeddings\n",
        "token_input = layers.Input(shape=[], dtype=tf.string, name=\"token_input\")\n",
        "token_embedding = tf_hub_embedding_layer(token_input)\n",
        "token_output = layers.Dense(300, activation=\"relu\")(token_embedding)\n",
        "token_model = tf.keras.Model(token_input, token_output)\n",
        "\n",
        "# 2. Setup model for character-level embeddings\n",
        "char_input = layers.Input(shape=(1, ), dtype=tf.string, name=\"char_input\")\n",
        "char_vectors = char_vectorizer(char_input)\n",
        "char_embeddings = char_embedding(char_vectors)\n",
        "char_bi_lstm = layers.Bidirectional(layers.LSTM(25))(char_embeddings)\n",
        "char_model = tf.keras.Model(char_input, char_bi_lstm)\n",
        "\n",
        "# 3. Combine token and character-level embedding model\n",
        "token_char_concatenate = layers.Concatenate(name=\"token_char_hybrid\")([token_model.output,\n",
        "                                                                       char_model.output])\n",
        "\n",
        "# 4. Create output layers - adding in Dropout\n",
        "combined_dropout = layers.Dropout(0.5)(token_char_concatenate)\n",
        "combined_dense = layers.Dense(300, activation=\"relu\")(combined_dropout)\n",
        "final_dropout = layers.Dropout(0.5)(combined_dense)\n",
        "output_layer = layers.Dense(num_classes, activation=\"softmax\")(final_dropout)\n",
        "\n",
        "# 5. Construct model with char and token inputs\n",
        "model_4 = tf.keras.Model(inputs=[token_input, char_input],\n",
        "                         outputs=output_layer,\n",
        "                         name=\"model_4_token_and_char_embeddings\")"
      ],
      "metadata": {
        "id": "StXBDy4FstpN"
      },
      "execution_count": 84,
      "outputs": []
    },
    {
      "cell_type": "code",
      "source": [
        "model_4.summary()"
      ],
      "metadata": {
        "id": "HsWaclWMstl8",
        "colab": {
          "base_uri": "https://localhost:8080/"
        },
        "outputId": "07f76ce1-2759-4d5e-f8a8-5827e4887642"
      },
      "execution_count": 85,
      "outputs": [
        {
          "output_type": "stream",
          "name": "stdout",
          "text": [
            "Model: \"model_4_token_and_char_embeddings\"\n",
            "__________________________________________________________________________________________________\n",
            " Layer (type)                   Output Shape         Param #     Connected to                     \n",
            "==================================================================================================\n",
            " char_input (InputLayer)        [(None, 1)]          0           []                               \n",
            "                                                                                                  \n",
            " token_input (InputLayer)       [(None,)]            0           []                               \n",
            "                                                                                                  \n",
            " char_vectorizer (TextVectoriza  (None, 290)         0           ['char_input[0][0]']             \n",
            " tion)                                                                                            \n",
            "                                                                                                  \n",
            " univeral_sentence_encoder (Ker  (None, 512)         256797824   ['token_input[0][0]']            \n",
            " asLayer)                                                                                         \n",
            "                                                                                                  \n",
            " char_embedding (Embedding)     (None, 290, 25)      700         ['char_vectorizer[1][0]']        \n",
            "                                                                                                  \n",
            " dense_4 (Dense)                (None, 300)          153900      ['univeral_sentence_encoder[1][0]\n",
            "                                                                 ']                               \n",
            "                                                                                                  \n",
            " bidirectional (Bidirectional)  (None, 50)           10200       ['char_embedding[1][0]']         \n",
            "                                                                                                  \n",
            " token_char_hybrid (Concatenate  (None, 350)         0           ['dense_4[0][0]',                \n",
            " )                                                                'bidirectional[0][0]']          \n",
            "                                                                                                  \n",
            " dropout (Dropout)              (None, 350)          0           ['token_char_hybrid[0][0]']      \n",
            "                                                                                                  \n",
            " dense_5 (Dense)                (None, 300)          105300      ['dropout[0][0]']                \n",
            "                                                                                                  \n",
            " dropout_1 (Dropout)            (None, 300)          0           ['dense_5[0][0]']                \n",
            "                                                                                                  \n",
            " dense_6 (Dense)                (None, 5)            1505        ['dropout_1[0][0]']              \n",
            "                                                                                                  \n",
            "==================================================================================================\n",
            "Total params: 257,069,429\n",
            "Trainable params: 271,605\n",
            "Non-trainable params: 256,797,824\n",
            "__________________________________________________________________________________________________\n"
          ]
        }
      ]
    },
    {
      "cell_type": "code",
      "source": [
        "# Plot hybrid token and character model\n",
        "plot_model(model_4, show_shapes=True)"
      ],
      "metadata": {
        "id": "5olRr-dbstkR",
        "colab": {
          "base_uri": "https://localhost:8080/",
          "height": 976
        },
        "outputId": "ae9e2b61-17dc-45e1-e2d3-f3452b9f0b30"
      },
      "execution_count": 86,
      "outputs": [
        {
          "output_type": "execute_result",
          "data": {
            "image/png": "[encoded data removed]",
            "text/plain": [
              "<IPython.core.display.Image object>"
            ]
          },
          "metadata": {},
          "execution_count": 86
        }
      ]
    },
    {
      "cell_type": "markdown",
      "source": [
        "#### Compiling the hybrid model"
      ],
      "metadata": {
        "id": "V05ffmKH9VDK"
      }
    },
    {
      "cell_type": "code",
      "source": [
        "# compile the model\n",
        "model_4.compile(loss=\"categorical_crossentropy\",\n",
        "                optimizer='Adam',\n",
        "                metrics=['accuracy'])"
      ],
      "metadata": {
        "id": "_aj6HGl4sthG"
      },
      "execution_count": 87,
      "outputs": []
    },
    {
      "cell_type": "markdown",
      "source": [
        "#### Creating datasets for hybrid model training and prediction"
      ],
      "metadata": {
        "id": "x9DWKDuT9QNK"
      }
    },
    {
      "cell_type": "code",
      "source": [
        "# Create chars and tokens into a dataset\n",
        "train_char_token_data = tf.data.Dataset.from_tensor_slices((train_sentences, train_chars))\n",
        "train_char_token_labels = tf.data.Dataset.from_tensor_slices(train_labels_one_hot)\n",
        "train_char_token_dataset = tf.data.Dataset.zip((train_char_token_data, train_char_token_labels))\n",
        "\n",
        "# Prefetch and batch train dataset\n",
        "train_char_token_dataset = train_char_token_dataset.batch(32).prefetch(tf.data.AUTOTUNE)"
      ],
      "metadata": {
        "id": "xWO4oX8Y9PtF"
      },
      "execution_count": 88,
      "outputs": []
    },
    {
      "cell_type": "code",
      "source": [
        "# Create chars and tokens into a dataset for validation data\n",
        "val_char_token_data = tf.data.Dataset.from_tensor_slices((val_sentences, val_chars))\n",
        "val_char_token_labels = tf.data.Dataset.from_tensor_slices(val_labels_one_hot)\n",
        "val_char_token_dataset = tf.data.Dataset.zip((val_char_token_data, val_char_token_labels))\n",
        "\n",
        "# Prefetch and batch train dataset\n",
        "val_char_token_dataset = val_char_token_dataset.batch(32).prefetch(tf.data.AUTOTUNE)"
      ],
      "metadata": {
        "id": "IjKuDTWA_jNc"
      },
      "execution_count": 89,
      "outputs": []
    },
    {
      "cell_type": "markdown",
      "source": [
        "#### Fitting the hybrid model"
      ],
      "metadata": {
        "id": "LnTIgwWx9bNa"
      }
    },
    {
      "cell_type": "code",
      "source": [
        "# fit the model\n",
        "model_4_history = model_4.fit(train_char_token_dataset,\n",
        "                              epochs=5,\n",
        "                              validation_data=val_char_token_dataset,\n",
        "                              steps_per_epoch=int(0.1*len(val_char_token_dataset)),\n",
        "                              validation_steps=int(0.1*len(train_char_token_dataset)))"
      ],
      "metadata": {
        "id": "Rho9hq3ssteH",
        "colab": {
          "base_uri": "https://localhost:8080/"
        },
        "outputId": "6a2b21e2-95be-4bcc-a71c-fa817d565a08"
      },
      "execution_count": 90,
      "outputs": [
        {
          "output_type": "stream",
          "name": "stdout",
          "text": [
            "Epoch 1/5\n",
            "94/94 [==============================] - 27s 198ms/step - loss: 1.1963 - accuracy: 0.5206 - val_loss: 0.9130 - val_accuracy: 0.6346\n",
            "Epoch 2/5\n",
            "94/94 [==============================] - 18s 195ms/step - loss: 0.9567 - accuracy: 0.6213 - val_loss: 0.8313 - val_accuracy: 0.6825\n",
            "Epoch 3/5\n",
            "94/94 [==============================] - 17s 181ms/step - loss: 0.9008 - accuracy: 0.6406 - val_loss: 0.7909 - val_accuracy: 0.6914\n",
            "Epoch 4/5\n",
            "94/94 [==============================] - 17s 180ms/step - loss: 0.8191 - accuracy: 0.6845 - val_loss: 0.7587 - val_accuracy: 0.7074\n",
            "Epoch 5/5\n",
            "94/94 [==============================] - 17s 179ms/step - loss: 0.7940 - accuracy: 0.6922 - val_loss: 0.7424 - val_accuracy: 0.7149\n"
          ]
        }
      ]
    },
    {
      "cell_type": "code",
      "source": [
        "# Evaluate the model\n",
        "model_4.evaluate(val_char_token_dataset)"
      ],
      "metadata": {
        "id": "MEaSvolKstbT",
        "colab": {
          "base_uri": "https://localhost:8080/"
        },
        "outputId": "1c2bc67b-2ffa-442f-a823-4c004e8e714c"
      },
      "execution_count": 91,
      "outputs": [
        {
          "output_type": "stream",
          "name": "stdout",
          "text": [
            "945/945 [==============================] - 23s 24ms/step - loss: 0.7496 - accuracy: 0.7125\n"
          ]
        },
        {
          "output_type": "execute_result",
          "data": {
            "text/plain": [
              "[0.7496033310890198, 0.7124983668327332]"
            ]
          },
          "metadata": {},
          "execution_count": 91
        }
      ]
    },
    {
      "cell_type": "code",
      "source": [
        "# Make predictions on the validation dataset\n",
        "model_4_preds = model_4.predict(val_char_token_dataset)\n",
        "model_4_preds"
      ],
      "metadata": {
        "id": "ZaZZX-DVstYO",
        "colab": {
          "base_uri": "https://localhost:8080/"
        },
        "outputId": "de1ca667-25f9-46b7-f1c3-cd200f0f8ba5"
      },
      "execution_count": 92,
      "outputs": [
        {
          "output_type": "execute_result",
          "data": {
            "text/plain": [
              "array([[4.1572464e-01, 3.9843938e-01, 1.7077198e-02, 1.4831887e-01,\n",
              "        2.0439904e-02],\n",
              "       [3.8126183e-01, 4.9786824e-01, 1.1101344e-02, 1.0208652e-01,\n",
              "        7.6820524e-03],\n",
              "       [2.3384765e-01, 2.0273171e-01, 3.5048958e-02, 4.9436665e-01,\n",
              "        3.4005146e-02],\n",
              "       ...,\n",
              "       [5.0345750e-04, 5.6941509e-03, 3.2503348e-02, 1.9793939e-04,\n",
              "        9.6110111e-01],\n",
              "       [7.3339930e-03, 3.3286761e-02, 4.0043312e-01, 1.4805890e-03,\n",
              "        5.5746555e-01],\n",
              "       [1.5215479e-01, 1.7000912e-01, 6.0089946e-01, 5.4198843e-03,\n",
              "        7.1516730e-02]], dtype=float32)"
            ]
          },
          "metadata": {},
          "execution_count": 92
        }
      ]
    },
    {
      "cell_type": "code",
      "source": [
        "# converting the pred probs to labels\n",
        "model_4_preds = tf.argmax(model_4_preds, axis=1)\n",
        "model_4_preds"
      ],
      "metadata": {
        "id": "nsCBrJ-vstVN",
        "colab": {
          "base_uri": "https://localhost:8080/"
        },
        "outputId": "a4ecfdec-cd54-4d83-ed48-8be8687537bf"
      },
      "execution_count": 93,
      "outputs": [
        {
          "output_type": "execute_result",
          "data": {
            "text/plain": [
              "<tf.Tensor: shape=(30212,), dtype=int64, numpy=array([0, 1, 3, ..., 4, 4, 2])>"
            ]
          },
          "metadata": {},
          "execution_count": 93
        }
      ]
    },
    {
      "cell_type": "code",
      "source": [
        "# Performance metrics for model_4\n",
        "model_4_results = calculate_results(y_true=val_labels,\n",
        "                                   y_pred=model_4_preds)\n",
        "model_4_results"
      ],
      "metadata": {
        "id": "gnin4LqLstSC",
        "colab": {
          "base_uri": "https://localhost:8080/"
        },
        "outputId": "747deff3-571d-4d37-95d0-eda0343a66e1"
      },
      "execution_count": 94,
      "outputs": [
        {
          "output_type": "execute_result",
          "data": {
            "text/plain": [
              "{'accuracy': 71.24983450284655,\n",
              " 'precision': 0.712182288083032,\n",
              " 'recall': 0.7124983450284655,\n",
              " 'f1': 0.7060006914635278}"
            ]
          },
          "metadata": {},
          "execution_count": 94
        }
      ]
    },
    {
      "cell_type": "markdown",
      "source": [
        "### Model 5: Builiding a tribrid embedding model\n",
        "\n",
        "1. Create a token-level embedding model\n",
        "2. Create a character-level embedding model\n",
        "3. Create a model for 'line_number' feature\n",
        "4. Create a model for 'total_lines' feature\n",
        "5. Combine the outputs of 1 & 2 using tf.keras.layers.Concatenate\n",
        "6. Combine the outputs of 3, 4, 5 using tf.keras.layers.Concatenate\n",
        "7. Create an output layer to accept the tribrid embedding and output label probabilities\n",
        "8. Combine the inputs of 1, 2, 3, 4 and outputs into a tf.keras.Model"
      ],
      "metadata": {
        "id": "7NyVATx_Ie1b"
      }
    },
    {
      "cell_type": "markdown",
      "source": [
        "##### Analysing line numbers"
      ],
      "metadata": {
        "id": "43r2lcz7bzsX"
      }
    },
    {
      "cell_type": "code",
      "source": [
        "train_df.head()"
      ],
      "metadata": {
        "id": "h7Y3J8vZEK9x",
        "colab": {
          "base_uri": "https://localhost:8080/",
          "height": 206
        },
        "outputId": "cbbd25ec-f8d7-4f2b-da28-80d5693b76f4"
      },
      "execution_count": 95,
      "outputs": [
        {
          "output_type": "execute_result",
          "data": {
            "text/plain": [
              "      target                                               text  line_number  \\\n",
              "0  OBJECTIVE  to investigate the efficacy of @ weeks of dail...            0   \n",
              "1    METHODS  a total of @ patients with primary knee oa wer...            1   \n",
              "2    METHODS  outcome measures included pain reduction and i...            2   \n",
              "3    METHODS  pain was assessed using the visual analog pain...            3   \n",
              "4    METHODS  secondary outcome measures included the wester...            4   \n",
              "\n",
              "   total_lines  \n",
              "0           11  \n",
              "1           11  \n",
              "2           11  \n",
              "3           11  \n",
              "4           11  "
            ],
            "text/html": [
              "\n",
              "  <div id=\"df-6091a040-1887-4557-9491-9a2702f5b7bb\">\n",
              "    <div class=\"colab-df-container\">\n",
              "      <div>\n",
              "<style scoped>\n",
              "    .dataframe tbody tr th:only-of-type {\n",
              "        vertical-align: middle;\n",
              "    }\n",
              "\n",
              "    .dataframe tbody tr th {\n",
              "        vertical-align: top;\n",
              "    }\n",
              "\n",
              "    .dataframe thead th {\n",
              "        text-align: right;\n",
              "    }\n",
              "</style>\n",
              "<table border=\"1\" class=\"dataframe\">\n",
              "  <thead>\n",
              "    <tr style=\"text-align: right;\">\n",
              "      <th></th>\n",
              "      <th>target</th>\n",
              "      <th>text</th>\n",
              "      <th>line_number</th>\n",
              "      <th>total_lines</th>\n",
              "    </tr>\n",
              "  </thead>\n",
              "  <tbody>\n",
              "    <tr>\n",
              "      <th>0</th>\n",
              "      <td>OBJECTIVE</td>\n",
              "      <td>to investigate the efficacy of @ weeks of dail...</td>\n",
              "      <td>0</td>\n",
              "      <td>11</td>\n",
              "    </tr>\n",
              "    <tr>\n",
              "      <th>1</th>\n",
              "      <td>METHODS</td>\n",
              "      <td>a total of @ patients with primary knee oa wer...</td>\n",
              "      <td>1</td>\n",
              "      <td>11</td>\n",
              "    </tr>\n",
              "    <tr>\n",
              "      <th>2</th>\n",
              "      <td>METHODS</td>\n",
              "      <td>outcome measures included pain reduction and i...</td>\n",
              "      <td>2</td>\n",
              "      <td>11</td>\n",
              "    </tr>\n",
              "    <tr>\n",
              "      <th>3</th>\n",
              "      <td>METHODS</td>\n",
              "      <td>pain was assessed using the visual analog pain...</td>\n",
              "      <td>3</td>\n",
              "      <td>11</td>\n",
              "    </tr>\n",
              "    <tr>\n",
              "      <th>4</th>\n",
              "      <td>METHODS</td>\n",
              "      <td>secondary outcome measures included the wester...</td>\n",
              "      <td>4</td>\n",
              "      <td>11</td>\n",
              "    </tr>\n",
              "  </tbody>\n",
              "</table>\n",
              "</div>\n",
              "      <button class=\"colab-df-convert\" onclick=\"convertToInteractive('df-6091a040-1887-4557-9491-9a2702f5b7bb')\"\n",
              "              title=\"Convert this dataframe to an interactive table.\"\n",
              "              style=\"display:none;\">\n",
              "        \n",
              "  <svg xmlns=\"http://www.w3.org/2000/svg\" height=\"24px\"viewBox=\"0 0 24 24\"\n",
              "       width=\"24px\">\n",
              "    <path d=\"M0 0h24v24H0V0z\" fill=\"none\"/>\n",
              "    <path d=\"M18.56 5.44l.94 2.06.94-2.06 2.06-.94-2.06-.94-.94-2.06-.94 2.06-2.06.94zm-11 1L8.5 8.5l.94-2.06 2.06-.94-2.06-.94L8.5 2.5l-.94 2.06-2.06.94zm10 10l.94 2.06.94-2.06 2.06-.94-2.06-.94-.94-2.06-.94 2.06-2.06.94z\"/><path d=\"M17.41 7.96l-1.37-1.37c-.4-.4-.92-.59-1.43-.59-.52 0-1.04.2-1.43.59L10.3 9.45l-7.72 7.72c-.78.78-.78 2.05 0 2.83L4 21.41c.39.39.9.59 1.41.59.51 0 1.02-.2 1.41-.59l7.78-7.78 2.81-2.81c.8-.78.8-2.07 0-2.86zM5.41 20L4 18.59l7.72-7.72 1.47 1.35L5.41 20z\"/>\n",
              "  </svg>\n",
              "      </button>\n",
              "      \n",
              "  <style>\n",
              "    .colab-df-container {\n",
              "      display:flex;\n",
              "      flex-wrap:wrap;\n",
              "      gap: 12px;\n",
              "    }\n",
              "\n",
              "    .colab-df-convert {\n",
              "      background-color: #E8F0FE;\n",
              "      border: none;\n",
              "      border-radius: 50%;\n",
              "      cursor: pointer;\n",
              "      display: none;\n",
              "      fill: #1967D2;\n",
              "      height: 32px;\n",
              "      padding: 0 0 0 0;\n",
              "      width: 32px;\n",
              "    }\n",
              "\n",
              "    .colab-df-convert:hover {\n",
              "      background-color: #E2EBFA;\n",
              "      box-shadow: 0px 1px 2px rgba(60, 64, 67, 0.3), 0px 1px 3px 1px rgba(60, 64, 67, 0.15);\n",
              "      fill: #174EA6;\n",
              "    }\n",
              "\n",
              "    [theme=dark] .colab-df-convert {\n",
              "      background-color: #3B4455;\n",
              "      fill: #D2E3FC;\n",
              "    }\n",
              "\n",
              "    [theme=dark] .colab-df-convert:hover {\n",
              "      background-color: #434B5C;\n",
              "      box-shadow: 0px 1px 3px 1px rgba(0, 0, 0, 0.15);\n",
              "      filter: drop-shadow(0px 1px 2px rgba(0, 0, 0, 0.3));\n",
              "      fill: #FFFFFF;\n",
              "    }\n",
              "  </style>\n",
              "\n",
              "      <script>\n",
              "        const buttonEl =\n",
              "          document.querySelector('#df-6091a040-1887-4557-9491-9a2702f5b7bb button.colab-df-convert');\n",
              "        buttonEl.style.display =\n",
              "          google.colab.kernel.accessAllowed ? 'block' : 'none';\n",
              "\n",
              "        async function convertToInteractive(key) {\n",
              "          const element = document.querySelector('#df-6091a040-1887-4557-9491-9a2702f5b7bb');\n",
              "          const dataTable =\n",
              "            await google.colab.kernel.invokeFunction('convertToInteractive',\n",
              "                                                     [key], {});\n",
              "          if (!dataTable) return;\n",
              "\n",
              "          const docLinkHtml = 'Like what you see? Visit the ' +\n",
              "            '<a target=\"_blank\" href=https://colab.research.google.com/notebooks/data_table.ipynb>data table notebook</a>'\n",
              "            + ' to learn more about interactive tables.';\n",
              "          element.innerHTML = '';\n",
              "          dataTable['output_type'] = 'display_data';\n",
              "          await google.colab.output.renderOutput(dataTable, element);\n",
              "          const docLink = document.createElement('div');\n",
              "          docLink.innerHTML = docLinkHtml;\n",
              "          element.appendChild(docLink);\n",
              "        }\n",
              "      </script>\n",
              "    </div>\n",
              "  </div>\n",
              "  "
            ]
          },
          "metadata": {},
          "execution_count": 95
        }
      ]
    },
    {
      "cell_type": "code",
      "source": [
        "train_df.line_number.value_counts()"
      ],
      "metadata": {
        "id": "sDevvjQ0stOz",
        "colab": {
          "base_uri": "https://localhost:8080/"
        },
        "outputId": "8074250d-0139-4cf1-839c-5e66680af560"
      },
      "execution_count": 96,
      "outputs": [
        {
          "output_type": "execute_result",
          "data": {
            "text/plain": [
              "0     15000\n",
              "1     15000\n",
              "2     15000\n",
              "3     15000\n",
              "4     14992\n",
              "5     14949\n",
              "6     14758\n",
              "7     14279\n",
              "8     13346\n",
              "9     11981\n",
              "10    10041\n",
              "11     7892\n",
              "12     5853\n",
              "13     4152\n",
              "14     2835\n",
              "15     1861\n",
              "16     1188\n",
              "17      751\n",
              "18      462\n",
              "19      286\n",
              "20      162\n",
              "21      101\n",
              "22       66\n",
              "23       33\n",
              "24       22\n",
              "25       14\n",
              "26        7\n",
              "27        4\n",
              "28        3\n",
              "29        1\n",
              "30        1\n",
              "Name: line_number, dtype: int64"
            ]
          },
          "metadata": {},
          "execution_count": 96
        }
      ]
    },
    {
      "cell_type": "code",
      "source": [
        "train_df['line_number'].plot.hist(bins=15);"
      ],
      "metadata": {
        "id": "AcmqsDzBstL5",
        "colab": {
          "base_uri": "https://localhost:8080/",
          "height": 265
        },
        "outputId": "38803bd4-9805-468e-c9c1-6806bc11336f"
      },
      "execution_count": 97,
      "outputs": [
        {
          "output_type": "display_data",
          "data": {
            "text/plain": [
              "<Figure size 432x288 with 1 Axes>"
            ],
            "image/png": "[encoded data removed]"
          },
          "metadata": {
            "needs_background": "light"
          }
        }
      ]
    },
    {
      "cell_type": "markdown",
      "source": [
        "Most of the lines have been covered upto 15 length."
      ],
      "metadata": {
        "id": "eVXPfn_pbEy3"
      }
    },
    {
      "cell_type": "code",
      "source": [
        "# One-hot encode the line numbers\n",
        "train_line_numbers = tf.one_hot(train_df['line_number'].to_numpy(), depth=15)\n",
        "val_line_numbers = tf.one_hot(val_df['line_number'].to_numpy(), depth=15)\n",
        "test_line_numbers = tf.one_hot(test_df['line_number'].to_numpy(), depth=15)"
      ],
      "metadata": {
        "id": "PSkLfAnIstIu"
      },
      "execution_count": 98,
      "outputs": []
    },
    {
      "cell_type": "code",
      "source": [
        "train_line_numbers[:10]"
      ],
      "metadata": {
        "id": "JlS2SXoQstFx",
        "colab": {
          "base_uri": "https://localhost:8080/"
        },
        "outputId": "b8da55e3-efa2-46e2-a7fb-f63c171ca403"
      },
      "execution_count": 99,
      "outputs": [
        {
          "output_type": "execute_result",
          "data": {
            "text/plain": [
              "<tf.Tensor: shape=(10, 15), dtype=float32, numpy=\n",
              "array([[1., 0., 0., 0., 0., 0., 0., 0., 0., 0., 0., 0., 0., 0., 0.],\n",
              "       [0., 1., 0., 0., 0., 0., 0., 0., 0., 0., 0., 0., 0., 0., 0.],\n",
              "       [0., 0., 1., 0., 0., 0., 0., 0., 0., 0., 0., 0., 0., 0., 0.],\n",
              "       [0., 0., 0., 1., 0., 0., 0., 0., 0., 0., 0., 0., 0., 0., 0.],\n",
              "       [0., 0., 0., 0., 1., 0., 0., 0., 0., 0., 0., 0., 0., 0., 0.],\n",
              "       [0., 0., 0., 0., 0., 1., 0., 0., 0., 0., 0., 0., 0., 0., 0.],\n",
              "       [0., 0., 0., 0., 0., 0., 1., 0., 0., 0., 0., 0., 0., 0., 0.],\n",
              "       [0., 0., 0., 0., 0., 0., 0., 1., 0., 0., 0., 0., 0., 0., 0.],\n",
              "       [0., 0., 0., 0., 0., 0., 0., 0., 1., 0., 0., 0., 0., 0., 0.],\n",
              "       [0., 0., 0., 0., 0., 0., 0., 0., 0., 1., 0., 0., 0., 0., 0.]],\n",
              "      dtype=float32)>"
            ]
          },
          "metadata": {},
          "execution_count": 99
        }
      ]
    },
    {
      "cell_type": "markdown",
      "source": [
        "#### Analysing the total no. of lines"
      ],
      "metadata": {
        "id": "IPB6F1zLb51Q"
      }
    },
    {
      "cell_type": "code",
      "source": [
        "train_df['total_lines'].value_counts()"
      ],
      "metadata": {
        "id": "H9LR73D3stCj",
        "colab": {
          "base_uri": "https://localhost:8080/"
        },
        "outputId": "0d6aa8de-a27b-4704-e6e7-fe274aea0b62"
      },
      "execution_count": 100,
      "outputs": [
        {
          "output_type": "execute_result",
          "data": {
            "text/plain": [
              "11    24468\n",
              "10    23639\n",
              "12    22113\n",
              "9     19400\n",
              "13    18438\n",
              "14    14610\n",
              "8     12285\n",
              "15    10768\n",
              "7      7464\n",
              "16     7429\n",
              "17     5202\n",
              "6      3353\n",
              "18     3344\n",
              "19     2480\n",
              "20     1281\n",
              "5      1146\n",
              "21      770\n",
              "22      759\n",
              "23      264\n",
              "4       215\n",
              "24      200\n",
              "25      182\n",
              "26       81\n",
              "28       58\n",
              "3        32\n",
              "30       31\n",
              "27       28\n",
              "Name: total_lines, dtype: int64"
            ]
          },
          "metadata": {},
          "execution_count": 100
        }
      ]
    },
    {
      "cell_type": "code",
      "source": [
        "# Let's visualize the total no. of lines\n",
        "train_df['total_lines'].plot.hist(bins=20)"
      ],
      "metadata": {
        "id": "rfMcLXsoss_o",
        "colab": {
          "base_uri": "https://localhost:8080/",
          "height": 284
        },
        "outputId": "00fc27d8-987c-4e4d-c034-0fcb78f5a016"
      },
      "execution_count": 101,
      "outputs": [
        {
          "output_type": "execute_result",
          "data": {
            "text/plain": [
              "<matplotlib.axes._subplots.AxesSubplot at 0x7f57311970d0>"
            ]
          },
          "metadata": {},
          "execution_count": 101
        },
        {
          "output_type": "display_data",
          "data": {
            "text/plain": [
              "<Figure size 432x288 with 1 Axes>"
            ],
            "image/png": "[encoded data removed]"
          },
          "metadata": {
            "needs_background": "light"
          }
        }
      ]
    },
    {
      "cell_type": "code",
      "source": [
        "# What length of lines covers the 95% of total_lines?\n",
        "np.percentile(train_df['total_lines'], 95)"
      ],
      "metadata": {
        "id": "_F7-I49Gss8r",
        "colab": {
          "base_uri": "https://localhost:8080/"
        },
        "outputId": "f953b70f-d335-4ae9-880f-9cff30e94977"
      },
      "execution_count": 102,
      "outputs": [
        {
          "output_type": "execute_result",
          "data": {
            "text/plain": [
              "18.0"
            ]
          },
          "metadata": {},
          "execution_count": 102
        }
      ]
    },
    {
      "cell_type": "code",
      "source": [
        "# One-hot encode the total no. of lines\n",
        "train_total_lines_one_hot = tf.one_hot(train_df['total_lines'].to_numpy(), depth=20)\n",
        "val_total_lines_one_hot = tf.one_hot(val_df['total_lines'].to_numpy(), depth=20)\n",
        "test_total_lines_one_hot = tf.one_hot(test_df['total_lines'].to_numpy(), depth=20)"
      ],
      "metadata": {
        "id": "JAgSlzdxss6T"
      },
      "execution_count": 103,
      "outputs": []
    },
    {
      "cell_type": "code",
      "source": [
        "train_total_lines_one_hot[:10]"
      ],
      "metadata": {
        "id": "ZOjcRX-Hss2t",
        "colab": {
          "base_uri": "https://localhost:8080/"
        },
        "outputId": "48e893c1-9c53-4bce-f5ac-a89a11a80cce"
      },
      "execution_count": 104,
      "outputs": [
        {
          "output_type": "execute_result",
          "data": {
            "text/plain": [
              "<tf.Tensor: shape=(10, 20), dtype=float32, numpy=\n",
              "array([[0., 0., 0., 0., 0., 0., 0., 0., 0., 0., 0., 1., 0., 0., 0., 0.,\n",
              "        0., 0., 0., 0.],\n",
              "       [0., 0., 0., 0., 0., 0., 0., 0., 0., 0., 0., 1., 0., 0., 0., 0.,\n",
              "        0., 0., 0., 0.],\n",
              "       [0., 0., 0., 0., 0., 0., 0., 0., 0., 0., 0., 1., 0., 0., 0., 0.,\n",
              "        0., 0., 0., 0.],\n",
              "       [0., 0., 0., 0., 0., 0., 0., 0., 0., 0., 0., 1., 0., 0., 0., 0.,\n",
              "        0., 0., 0., 0.],\n",
              "       [0., 0., 0., 0., 0., 0., 0., 0., 0., 0., 0., 1., 0., 0., 0., 0.,\n",
              "        0., 0., 0., 0.],\n",
              "       [0., 0., 0., 0., 0., 0., 0., 0., 0., 0., 0., 1., 0., 0., 0., 0.,\n",
              "        0., 0., 0., 0.],\n",
              "       [0., 0., 0., 0., 0., 0., 0., 0., 0., 0., 0., 1., 0., 0., 0., 0.,\n",
              "        0., 0., 0., 0.],\n",
              "       [0., 0., 0., 0., 0., 0., 0., 0., 0., 0., 0., 1., 0., 0., 0., 0.,\n",
              "        0., 0., 0., 0.],\n",
              "       [0., 0., 0., 0., 0., 0., 0., 0., 0., 0., 0., 1., 0., 0., 0., 0.,\n",
              "        0., 0., 0., 0.],\n",
              "       [0., 0., 0., 0., 0., 0., 0., 0., 0., 0., 0., 1., 0., 0., 0., 0.,\n",
              "        0., 0., 0., 0.]], dtype=float32)>"
            ]
          },
          "metadata": {},
          "execution_count": 104
        }
      ]
    },
    {
      "cell_type": "code",
      "source": [
        "# 1. Token inputs\n",
        "token_inputs = layers.Input([], dtype='string', name='token_inputs')\n",
        "token_embedding = tf_hub_embedding_layer(token_inputs)\n",
        "token_output = layers.Dense(128, activation='relu')(token_embedding)\n",
        "token_model = tf.keras.Model(token_inputs, token_output)\n",
        "\n",
        "# 2. Char inputs\n",
        "char_inputs = layers.Input(shape=(1, ), dtype='string', name='char_inputs')\n",
        "char_vectors = char_vectorizer(char_inputs)\n",
        "char_embeddings = char_embedding(char_vectors)\n",
        "char_output = layers.Bidirectional(layers.LSTM(25))(char_embeddings)\n",
        "char_model = tf.keras.Model(char_inputs, char_output)\n",
        "\n",
        "# 3. Model for line_number\n",
        "line_number_inputs = layers.Input(shape=(15, ), dtype=tf.float32, name='line_number_inputs')\n",
        "x = layers.Dense(64, activation=\"relu\")(line_number_inputs)\n",
        "line_number_model = tf.keras.Model(line_number_inputs, x)\n",
        "\n",
        "# 4. Model for total lines\n",
        "total_lines_inputs = layers.Input(shape=(20, ), dtype=tf.int32, name='total_lines_inputs')\n",
        "x = layers.Dense(64, activation=\"relu\")(total_lines_inputs)\n",
        "total_lines_model = tf.keras.Model(total_lines_inputs, x)\n",
        "\n",
        "# 5. Concatenate the outputs of 1 & 2\n",
        "token_char_concatenate = layers.Concatenate(name=\"token_char_hybrid\")([token_model.output,\n",
        "                                                                       char_model.output])\n",
        "\n",
        "z = layers.Dense(256, activation=\"relu\")(token_char_concatenate)\n",
        "z = layers.Dropout(0.5)(z)\n",
        "\n",
        "# 6. Concatenate the outputs of 3, 4, 5\n",
        "token_char_lines_concatenate = layers.Concatenate(name=\"token_char_lines_hybrid\")([line_number_model.output,\n",
        "                                                                                   total_lines_model.output,\n",
        "                                                                                   z])\n",
        "\n",
        "# 7. Create output layers - adding in Dropout\n",
        "output_layer = layers.Dense(num_classes, activation=\"softmax\", name=\"output_layer\")(token_char_lines_concatenate)\n",
        "\n",
        "# 8. Construct model with char and token inputs\n",
        "model_5 = tf.keras.Model(inputs=[line_number_model.inputs, \n",
        "                                 total_lines_model.inputs,\n",
        "                                 token_model.inputs, \n",
        "                                 char_model.inputs],\n",
        "                         outputs=output_layer,\n",
        "                         name=\"model_5_tribrid_embeddings\")"
      ],
      "metadata": {
        "id": "XDnfe8LhsszZ"
      },
      "execution_count": 105,
      "outputs": []
    },
    {
      "cell_type": "code",
      "source": [
        "# summarz of tribrid model\n",
        "model_5.summary()"
      ],
      "metadata": {
        "id": "P8lxWzDjsswf",
        "colab": {
          "base_uri": "https://localhost:8080/"
        },
        "outputId": "7d14eaa1-00ce-4980-c844-0febb2a18d28"
      },
      "execution_count": 106,
      "outputs": [
        {
          "output_type": "stream",
          "name": "stdout",
          "text": [
            "Model: \"model_5_tribrid_embeddings\"\n",
            "__________________________________________________________________________________________________\n",
            " Layer (type)                   Output Shape         Param #     Connected to                     \n",
            "==================================================================================================\n",
            " char_inputs (InputLayer)       [(None, 1)]          0           []                               \n",
            "                                                                                                  \n",
            " token_inputs (InputLayer)      [(None,)]            0           []                               \n",
            "                                                                                                  \n",
            " char_vectorizer (TextVectoriza  (None, 290)         0           ['char_inputs[0][0]']            \n",
            " tion)                                                                                            \n",
            "                                                                                                  \n",
            " univeral_sentence_encoder (Ker  (None, 512)         256797824   ['token_inputs[0][0]']           \n",
            " asLayer)                                                                                         \n",
            "                                                                                                  \n",
            " char_embedding (Embedding)     (None, 290, 25)      700         ['char_vectorizer[2][0]']        \n",
            "                                                                                                  \n",
            " dense_7 (Dense)                (None, 128)          65664       ['univeral_sentence_encoder[2][0]\n",
            "                                                                 ']                               \n",
            "                                                                                                  \n",
            " bidirectional_1 (Bidirectional  (None, 50)          10200       ['char_embedding[2][0]']         \n",
            " )                                                                                                \n",
            "                                                                                                  \n",
            " token_char_hybrid (Concatenate  (None, 178)         0           ['dense_7[0][0]',                \n",
            " )                                                                'bidirectional_1[0][0]']        \n",
            "                                                                                                  \n",
            " line_number_inputs (InputLayer  [(None, 15)]        0           []                               \n",
            " )                                                                                                \n",
            "                                                                                                  \n",
            " total_lines_inputs (InputLayer  [(None, 20)]        0           []                               \n",
            " )                                                                                                \n",
            "                                                                                                  \n",
            " dense_10 (Dense)               (None, 256)          45824       ['token_char_hybrid[0][0]']      \n",
            "                                                                                                  \n",
            " dense_8 (Dense)                (None, 64)           1024        ['line_number_inputs[0][0]']     \n",
            "                                                                                                  \n",
            " dense_9 (Dense)                (None, 64)           1344        ['total_lines_inputs[0][0]']     \n",
            "                                                                                                  \n",
            " dropout_2 (Dropout)            (None, 256)          0           ['dense_10[0][0]']               \n",
            "                                                                                                  \n",
            " token_char_lines_hybrid (Conca  (None, 384)         0           ['dense_8[0][0]',                \n",
            " tenate)                                                          'dense_9[0][0]',                \n",
            "                                                                  'dropout_2[0][0]']              \n",
            "                                                                                                  \n",
            " output_layer (Dense)           (None, 5)            1925        ['token_char_lines_hybrid[0][0]']\n",
            "                                                                                                  \n",
            "==================================================================================================\n",
            "Total params: 256,924,505\n",
            "Trainable params: 126,681\n",
            "Non-trainable params: 256,797,824\n",
            "__________________________________________________________________________________________________\n"
          ]
        }
      ]
    },
    {
      "cell_type": "code",
      "source": [
        "# Plot the tribrid model\n",
        "plot_model(model_5, show_shapes=True)"
      ],
      "metadata": {
        "id": "vSAvU9sXsstt",
        "colab": {
          "base_uri": "https://localhost:8080/",
          "height": 799
        },
        "outputId": "0cdc031d-c4a5-4418-c881-2655e2b399f4"
      },
      "execution_count": 107,
      "outputs": [
        {
          "output_type": "execute_result",
          "data": {
            "image/png": "[encoded data removed]",
            "text/plain": [
              "<IPython.core.display.Image object>"
            ]
          },
          "metadata": {},
          "execution_count": 107
        }
      ]
    },
    {
      "cell_type": "code",
      "source": [
        "# Compile the model\n",
        "model_5.compile(loss=tf.keras.losses.CategoricalCrossentropy(label_smoothing=0.2),\n",
        "                optimizer='Adam',\n",
        "                metrics=['accuracy'])"
      ],
      "metadata": {
        "id": "Qzxop0WZsspS"
      },
      "execution_count": 108,
      "outputs": []
    },
    {
      "cell_type": "markdown",
      "source": [
        "#### Creating datasets for training, validation and testing"
      ],
      "metadata": {
        "id": "L1JyLS8Dzhix"
      }
    },
    {
      "cell_type": "code",
      "source": [
        "## Training Dataset\n",
        "\n",
        "# Create chars and tokens into a dataset\n",
        "train_tribrid_data = tf.data.Dataset.from_tensor_slices((train_line_numbers, train_total_lines_one_hot, train_sentences, train_chars))\n",
        "train_tribrid_labels = tf.data.Dataset.from_tensor_slices(train_labels_one_hot)\n",
        "train_tribrid_dataset = tf.data.Dataset.zip((train_tribrid_data, train_tribrid_labels))\n",
        "\n",
        "# Prefetch and batch train dataset\n",
        "train_tribrid_dataset = train_tribrid_dataset.batch(32).prefetch(tf.data.AUTOTUNE)\n",
        "\n",
        "## Validation Dataset\n",
        "\n",
        "# Create chars and tokens into a dataset\n",
        "val_tribrid_data = tf.data.Dataset.from_tensor_slices((val_line_numbers, val_total_lines_one_hot, val_sentences, val_chars))\n",
        "val_tribrid_labels = tf.data.Dataset.from_tensor_slices(val_labels_one_hot)\n",
        "val_tribrid_dataset = tf.data.Dataset.zip((val_tribrid_data, val_tribrid_labels))\n",
        "\n",
        "# Prefetch and batch val dataset\n",
        "val_tribrid_dataset = val_tribrid_dataset.batch(32).prefetch(tf.data.AUTOTUNE)\n",
        "train_tribrid_dataset, val_tribrid_dataset"
      ],
      "metadata": {
        "id": "bknF46NFssmO",
        "colab": {
          "base_uri": "https://localhost:8080/"
        },
        "outputId": "4c17736a-6da6-4535-ac0b-49178161fc8e"
      },
      "execution_count": 109,
      "outputs": [
        {
          "output_type": "execute_result",
          "data": {
            "text/plain": [
              "(<PrefetchDataset element_spec=((TensorSpec(shape=(None, 15), dtype=tf.float32, name=None), TensorSpec(shape=(None, 20), dtype=tf.float32, name=None), TensorSpec(shape=(None,), dtype=tf.string, name=None), TensorSpec(shape=(None,), dtype=tf.string, name=None)), TensorSpec(shape=(None, 5), dtype=tf.float64, name=None))>,\n",
              " <PrefetchDataset element_spec=((TensorSpec(shape=(None, 15), dtype=tf.float32, name=None), TensorSpec(shape=(None, 20), dtype=tf.float32, name=None), TensorSpec(shape=(None,), dtype=tf.string, name=None), TensorSpec(shape=(None,), dtype=tf.string, name=None)), TensorSpec(shape=(None, 5), dtype=tf.float64, name=None))>)"
            ]
          },
          "metadata": {},
          "execution_count": 109
        }
      ]
    },
    {
      "cell_type": "markdown",
      "source": [
        "#### Fitting, Evaluating and making predictions with our hybrid model"
      ],
      "metadata": {
        "id": "40j3fUoA8Mof"
      }
    },
    {
      "cell_type": "code",
      "source": [
        "# Fit the model\n",
        "model_5_history = model_5.fit(train_tribrid_dataset,\n",
        "                              epochs=5,\n",
        "                              steps_per_epoch=int(0.1*len(train_tribrid_dataset)),\n",
        "                              validation_data=val_tribrid_dataset,\n",
        "                              validation_steps=int(0.1*len(val_tribrid_dataset)))"
      ],
      "metadata": {
        "id": "th2SWlWQssjT",
        "colab": {
          "base_uri": "https://localhost:8080/"
        },
        "outputId": "cb756e44-5b94-4fd7-838c-d83dcaf4ec16"
      },
      "execution_count": 110,
      "outputs": [
        {
          "output_type": "stream",
          "name": "stdout",
          "text": [
            "Epoch 1/5\n",
            "562/562 [==============================] - 40s 57ms/step - loss: 1.0797 - accuracy: 0.7335 - val_loss: 0.9738 - val_accuracy: 0.8039\n",
            "Epoch 2/5\n",
            "562/562 [==============================] - 29s 51ms/step - loss: 0.9624 - accuracy: 0.8178 - val_loss: 0.9448 - val_accuracy: 0.8291\n",
            "Epoch 3/5\n",
            "562/562 [==============================] - 27s 48ms/step - loss: 0.9471 - accuracy: 0.8263 - val_loss: 0.9358 - val_accuracy: 0.8331\n",
            "Epoch 4/5\n",
            "562/562 [==============================] - 30s 53ms/step - loss: 0.9377 - accuracy: 0.8373 - val_loss: 0.9296 - val_accuracy: 0.8324\n",
            "Epoch 5/5\n",
            "562/562 [==============================] - 28s 50ms/step - loss: 0.9352 - accuracy: 0.8402 - val_loss: 0.9218 - val_accuracy: 0.8431\n"
          ]
        }
      ]
    },
    {
      "cell_type": "code",
      "source": [
        "# make predictions with the char token pos model\n",
        "model_5_preds = model_5.predict(val_tribrid_dataset)\n",
        "model_5_preds"
      ],
      "metadata": {
        "id": "O3trLa7YssgL",
        "colab": {
          "base_uri": "https://localhost:8080/"
        },
        "outputId": "09ba07de-83b3-4fa1-a5f7-fd4094418ea5"
      },
      "execution_count": 123,
      "outputs": [
        {
          "output_type": "execute_result",
          "data": {
            "text/plain": [
              "array([[0.594435  , 0.08481752, 0.0179088 , 0.27414328, 0.0286955 ],\n",
              "       [0.64962894, 0.07787615, 0.08306116, 0.17938058, 0.01005309],\n",
              "       [0.33004522, 0.10779835, 0.12873466, 0.37795702, 0.05546476],\n",
              "       ...,\n",
              "       [0.03541339, 0.06226746, 0.03407728, 0.03181662, 0.8364253 ],\n",
              "       [0.02145144, 0.3124104 , 0.11870766, 0.02217769, 0.5252528 ],\n",
              "       [0.10309527, 0.7098809 , 0.06851734, 0.02318563, 0.09532084]],\n",
              "      dtype=float32)"
            ]
          },
          "metadata": {},
          "execution_count": 123
        }
      ]
    },
    {
      "cell_type": "code",
      "source": [
        "# convert pred probs to labels\n",
        "model_5_preds = tf.argmax(model_5_preds, axis=1)\n",
        "model_5_preds[:10]"
      ],
      "metadata": {
        "id": "aMUt5I2Ussdk",
        "colab": {
          "base_uri": "https://localhost:8080/"
        },
        "outputId": "32f2bb99-47f1-4ec4-be50-0670d73b7c2a"
      },
      "execution_count": 124,
      "outputs": [
        {
          "output_type": "execute_result",
          "data": {
            "text/plain": [
              "<tf.Tensor: shape=(10,), dtype=int64, numpy=array([0, 0, 3, 2, 2, 4, 4, 4, 4, 1])>"
            ]
          },
          "metadata": {},
          "execution_count": 124
        }
      ]
    },
    {
      "cell_type": "code",
      "source": [
        "# Performance metrics for model 5\n",
        "model_5_results = calculate_results(y_true=val_labels,\n",
        "                                    y_pred=model_5_preds)"
      ],
      "metadata": {
        "id": "D4TXdSMrssav"
      },
      "execution_count": 125,
      "outputs": []
    },
    {
      "cell_type": "markdown",
      "source": [
        "## Comparing model results"
      ],
      "metadata": {
        "id": "ZY2qy3O6AEeb"
      }
    },
    {
      "cell_type": "code",
      "source": [
        "# Combine model results into a dataframe\n",
        "results = pd.DataFrame({\"baseline_Naive_bayes\": baseline_result,\n",
        "                        \"model_1_custom_token_embedding\": model_1_results,\n",
        "                        \"model_2_pretrained_token_embedding\": model_2_results,\n",
        "                        \"model_3_custom_char_embedding\": model_3_result,\n",
        "                        \"model_4_hybrid_char_token_embedding\": model_4_results,\n",
        "                        \"model_5_pos_char_token_embedding\": model_5_results})\n",
        "results = results.transpose()\n",
        "results"
      ],
      "metadata": {
        "id": "lomE5TGussXy",
        "colab": {
          "base_uri": "https://localhost:8080/",
          "height": 237
        },
        "outputId": "4fe0c53e-4968-4f89-d35b-8334e45cb066"
      },
      "execution_count": 126,
      "outputs": [
        {
          "output_type": "execute_result",
          "data": {
            "text/plain": [
              "                                      accuracy  precision    recall        f1\n",
              "baseline_Naive_bayes                 72.183238   0.718647  0.721832  0.698925\n",
              "model_1_custom_token_embedding       81.778763   0.819718  0.817788  0.815472\n",
              "model_2_pretrained_token_embedding   74.321462   0.739248  0.743215  0.737502\n",
              "model_3_custom_char_embedding        38.468158   0.429715  0.384682  0.297160\n",
              "model_4_hybrid_char_token_embedding  71.249835   0.712182  0.712498  0.706001\n",
              "model_5_pos_char_token_embedding     84.304250   0.845241  0.843042  0.839525"
            ],
            "text/html": [
              "\n",
              "  <div id=\"df-d75dfba4-ff6e-4011-8628-c57dc49a07a5\">\n",
              "    <div class=\"colab-df-container\">\n",
              "      <div>\n",
              "<style scoped>\n",
              "    .dataframe tbody tr th:only-of-type {\n",
              "        vertical-align: middle;\n",
              "    }\n",
              "\n",
              "    .dataframe tbody tr th {\n",
              "        vertical-align: top;\n",
              "    }\n",
              "\n",
              "    .dataframe thead th {\n",
              "        text-align: right;\n",
              "    }\n",
              "</style>\n",
              "<table border=\"1\" class=\"dataframe\">\n",
              "  <thead>\n",
              "    <tr style=\"text-align: right;\">\n",
              "      <th></th>\n",
              "      <th>accuracy</th>\n",
              "      <th>precision</th>\n",
              "      <th>recall</th>\n",
              "      <th>f1</th>\n",
              "    </tr>\n",
              "  </thead>\n",
              "  <tbody>\n",
              "    <tr>\n",
              "      <th>baseline_Naive_bayes</th>\n",
              "      <td>72.183238</td>\n",
              "      <td>0.718647</td>\n",
              "      <td>0.721832</td>\n",
              "      <td>0.698925</td>\n",
              "    </tr>\n",
              "    <tr>\n",
              "      <th>model_1_custom_token_embedding</th>\n",
              "      <td>81.778763</td>\n",
              "      <td>0.819718</td>\n",
              "      <td>0.817788</td>\n",
              "      <td>0.815472</td>\n",
              "    </tr>\n",
              "    <tr>\n",
              "      <th>model_2_pretrained_token_embedding</th>\n",
              "      <td>74.321462</td>\n",
              "      <td>0.739248</td>\n",
              "      <td>0.743215</td>\n",
              "      <td>0.737502</td>\n",
              "    </tr>\n",
              "    <tr>\n",
              "      <th>model_3_custom_char_embedding</th>\n",
              "      <td>38.468158</td>\n",
              "      <td>0.429715</td>\n",
              "      <td>0.384682</td>\n",
              "      <td>0.297160</td>\n",
              "    </tr>\n",
              "    <tr>\n",
              "      <th>model_4_hybrid_char_token_embedding</th>\n",
              "      <td>71.249835</td>\n",
              "      <td>0.712182</td>\n",
              "      <td>0.712498</td>\n",
              "      <td>0.706001</td>\n",
              "    </tr>\n",
              "    <tr>\n",
              "      <th>model_5_pos_char_token_embedding</th>\n",
              "      <td>84.304250</td>\n",
              "      <td>0.845241</td>\n",
              "      <td>0.843042</td>\n",
              "      <td>0.839525</td>\n",
              "    </tr>\n",
              "  </tbody>\n",
              "</table>\n",
              "</div>\n",
              "      <button class=\"colab-df-convert\" onclick=\"convertToInteractive('df-d75dfba4-ff6e-4011-8628-c57dc49a07a5')\"\n",
              "              title=\"Convert this dataframe to an interactive table.\"\n",
              "              style=\"display:none;\">\n",
              "        \n",
              "  <svg xmlns=\"http://www.w3.org/2000/svg\" height=\"24px\"viewBox=\"0 0 24 24\"\n",
              "       width=\"24px\">\n",
              "    <path d=\"M0 0h24v24H0V0z\" fill=\"none\"/>\n",
              "    <path d=\"M18.56 5.44l.94 2.06.94-2.06 2.06-.94-2.06-.94-.94-2.06-.94 2.06-2.06.94zm-11 1L8.5 8.5l.94-2.06 2.06-.94-2.06-.94L8.5 2.5l-.94 2.06-2.06.94zm10 10l.94 2.06.94-2.06 2.06-.94-2.06-.94-.94-2.06-.94 2.06-2.06.94z\"/><path d=\"M17.41 7.96l-1.37-1.37c-.4-.4-.92-.59-1.43-.59-.52 0-1.04.2-1.43.59L10.3 9.45l-7.72 7.72c-.78.78-.78 2.05 0 2.83L4 21.41c.39.39.9.59 1.41.59.51 0 1.02-.2 1.41-.59l7.78-7.78 2.81-2.81c.8-.78.8-2.07 0-2.86zM5.41 20L4 18.59l7.72-7.72 1.47 1.35L5.41 20z\"/>\n",
              "  </svg>\n",
              "      </button>\n",
              "      \n",
              "  <style>\n",
              "    .colab-df-container {\n",
              "      display:flex;\n",
              "      flex-wrap:wrap;\n",
              "      gap: 12px;\n",
              "    }\n",
              "\n",
              "    .colab-df-convert {\n",
              "      background-color: #E8F0FE;\n",
              "      border: none;\n",
              "      border-radius: 50%;\n",
              "      cursor: pointer;\n",
              "      display: none;\n",
              "      fill: #1967D2;\n",
              "      height: 32px;\n",
              "      padding: 0 0 0 0;\n",
              "      width: 32px;\n",
              "    }\n",
              "\n",
              "    .colab-df-convert:hover {\n",
              "      background-color: #E2EBFA;\n",
              "      box-shadow: 0px 1px 2px rgba(60, 64, 67, 0.3), 0px 1px 3px 1px rgba(60, 64, 67, 0.15);\n",
              "      fill: #174EA6;\n",
              "    }\n",
              "\n",
              "    [theme=dark] .colab-df-convert {\n",
              "      background-color: #3B4455;\n",
              "      fill: #D2E3FC;\n",
              "    }\n",
              "\n",
              "    [theme=dark] .colab-df-convert:hover {\n",
              "      background-color: #434B5C;\n",
              "      box-shadow: 0px 1px 3px 1px rgba(0, 0, 0, 0.15);\n",
              "      filter: drop-shadow(0px 1px 2px rgba(0, 0, 0, 0.3));\n",
              "      fill: #FFFFFF;\n",
              "    }\n",
              "  </style>\n",
              "\n",
              "      <script>\n",
              "        const buttonEl =\n",
              "          document.querySelector('#df-d75dfba4-ff6e-4011-8628-c57dc49a07a5 button.colab-df-convert');\n",
              "        buttonEl.style.display =\n",
              "          google.colab.kernel.accessAllowed ? 'block' : 'none';\n",
              "\n",
              "        async function convertToInteractive(key) {\n",
              "          const element = document.querySelector('#df-d75dfba4-ff6e-4011-8628-c57dc49a07a5');\n",
              "          const dataTable =\n",
              "            await google.colab.kernel.invokeFunction('convertToInteractive',\n",
              "                                                     [key], {});\n",
              "          if (!dataTable) return;\n",
              "\n",
              "          const docLinkHtml = 'Like what you see? Visit the ' +\n",
              "            '<a target=\"_blank\" href=https://colab.research.google.com/notebooks/data_table.ipynb>data table notebook</a>'\n",
              "            + ' to learn more about interactive tables.';\n",
              "          element.innerHTML = '';\n",
              "          dataTable['output_type'] = 'display_data';\n",
              "          await google.colab.output.renderOutput(dataTable, element);\n",
              "          const docLink = document.createElement('div');\n",
              "          docLink.innerHTML = docLinkHtml;\n",
              "          element.appendChild(docLink);\n",
              "        }\n",
              "      </script>\n",
              "    </div>\n",
              "  </div>\n",
              "  "
            ]
          },
          "metadata": {},
          "execution_count": 126
        }
      ]
    },
    {
      "cell_type": "code",
      "source": [
        "# Reduce the accuracy to same scale as the other metrics\n",
        "results['accuracy']/=100"
      ],
      "metadata": {
        "id": "U8yuDItRssUw"
      },
      "execution_count": 127,
      "outputs": []
    },
    {
      "cell_type": "code",
      "source": [
        "# Plot and compare all model results\n",
        "results.plot(kind=\"bar\", figsize=(10, 7)).legend(bbox_to_anchor=(1, 1))"
      ],
      "metadata": {
        "id": "LY06DOoTssR6",
        "colab": {
          "base_uri": "https://localhost:8080/",
          "height": 636
        },
        "outputId": "affa166e-7bc4-49ff-d409-6d997a67e78c"
      },
      "execution_count": 128,
      "outputs": [
        {
          "output_type": "execute_result",
          "data": {
            "text/plain": [
              "<matplotlib.legend.Legend at 0x7f572fba5c50>"
            ]
          },
          "metadata": {},
          "execution_count": 128
        },
        {
          "output_type": "display_data",
          "data": {
            "text/plain": [
              "<Figure size 720x504 with 1 Axes>"
            ],
            "image/png": "[encoded data removed]"
          },
          "metadata": {
            "needs_background": "light"
          }
        }
      ]
    },
    {
      "cell_type": "code",
      "source": [
        "# sort model results by f1-score\n",
        "results.sort_values(\"f1\", ascending=True)['f1'].plot(kind='bar', figsize=(10, 7))"
      ],
      "metadata": {
        "id": "PsUTM1G6ssPP",
        "colab": {
          "base_uri": "https://localhost:8080/",
          "height": 636
        },
        "outputId": "6ea99c7b-5059-4e22-8a0b-a9876ccdc839"
      },
      "execution_count": 129,
      "outputs": [
        {
          "output_type": "execute_result",
          "data": {
            "text/plain": [
              "<matplotlib.axes._subplots.AxesSubplot at 0x7f55cdc04310>"
            ]
          },
          "metadata": {},
          "execution_count": 129
        },
        {
          "output_type": "display_data",
          "data": {
            "text/plain": [
              "<Figure size 720x504 with 1 Axes>"
            ],
            "image/png": "[encoded data removed]"
          },
          "metadata": {
            "needs_background": "light"
          }
        }
      ]
    },
    {
      "cell_type": "markdown",
      "source": [
        "## Save and load the model"
      ],
      "metadata": {
        "id": "o4hg4gGXDnl5"
      }
    },
    {
      "cell_type": "code",
      "source": [
        "model_5.save(\"skimlit_token_char_pos_embedding\")"
      ],
      "metadata": {
        "colab": {
          "base_uri": "https://localhost:8080/"
        },
        "id": "9HItlBuUDnY-",
        "outputId": "7282d857-b77b-4554-a712-bbb435897a7a"
      },
      "execution_count": 130,
      "outputs": [
        {
          "output_type": "stream",
          "name": "stderr",
          "text": [
            "WARNING:absl:Found untraced functions such as lstm_cell_4_layer_call_fn, lstm_cell_4_layer_call_and_return_conditional_losses, lstm_cell_5_layer_call_fn, lstm_cell_5_layer_call_and_return_conditional_losses while saving (showing 4 of 4). These functions will not be directly callable after loading.\n",
            "WARNING:absl:<keras.layers.recurrent.LSTMCell object at 0x7f5730113610> has the same name 'LSTMCell' as a built-in Keras object. Consider renaming <class 'keras.layers.recurrent.LSTMCell'> to avoid naming conflicts when loading with `tf.keras.models.load_model`. If renaming is not possible, pass the object in the `custom_objects` parameter of the load function.\n",
            "WARNING:absl:<keras.layers.recurrent.LSTMCell object at 0x7f573102d450> has the same name 'LSTMCell' as a built-in Keras object. Consider renaming <class 'keras.layers.recurrent.LSTMCell'> to avoid naming conflicts when loading with `tf.keras.models.load_model`. If renaming is not possible, pass the object in the `custom_objects` parameter of the load function.\n"
          ]
        }
      ]
    },
    {
      "cell_type": "code",
      "source": [
        "# Load the saved model\n",
        "model_5_load = tf.keras.models.load_model(\"skimlit_token_char_pos_embedding\")\n",
        "model_5_load"
      ],
      "metadata": {
        "id": "nN1xxlCHssMN",
        "colab": {
          "base_uri": "https://localhost:8080/"
        },
        "outputId": "c9c2ae33-e568-47b3-9899-7adca37342ad"
      },
      "execution_count": 132,
      "outputs": [
        {
          "output_type": "execute_result",
          "data": {
            "text/plain": [
              "<keras.engine.functional.Functional at 0x7f55c8ac1050>"
            ]
          },
          "metadata": {},
          "execution_count": 132
        }
      ]
    },
    {
      "cell_type": "code",
      "source": [
        "# make predictions with the loaded model on the validation set\n",
        "loaded_pred_probs = model_5_load.predict(val_tribrid_dataset)\n",
        "loaded_preds = tf.argmax(loaded_pred_probs, axis=1)\n",
        "loaded_preds[:10]"
      ],
      "metadata": {
        "id": "Z5OcWAyNssJY"
      },
      "execution_count": null,
      "outputs": []
    },
    {
      "cell_type": "code",
      "source": [
        "# Performance metrics for loaded model\n",
        "loaded_model_results = calculate_results(y_true=val_labels,\n",
        "                                         y_pred=loaded_preds)\n",
        "loaded_model_results"
      ],
      "metadata": {
        "id": "YINfYYJVssGi",
        "colab": {
          "base_uri": "https://localhost:8080/"
        },
        "outputId": "9e12c726-4d27-4ac2-cdb1-569adf0c711b"
      },
      "execution_count": 133,
      "outputs": [
        {
          "output_type": "execute_result",
          "data": {
            "text/plain": [
              "{'accuracy': 84.30424996690057,\n",
              " 'precision': 0.845241382980853,\n",
              " 'recall': 0.8430424996690057,\n",
              " 'f1': 0.8395253910348658}"
            ]
          },
          "metadata": {},
          "execution_count": 133
        }
      ]
    },
    {
      "cell_type": "code",
      "source": [
        "# Actual model results\n",
        "model_5_results"
      ],
      "metadata": {
        "id": "ACPvUrDTssDz",
        "colab": {
          "base_uri": "https://localhost:8080/"
        },
        "outputId": "1bc78d88-126e-4af3-eac8-e92f8258215f"
      },
      "execution_count": 134,
      "outputs": [
        {
          "output_type": "execute_result",
          "data": {
            "text/plain": [
              "{'accuracy': 84.30424996690057,\n",
              " 'precision': 0.845241382980853,\n",
              " 'recall': 0.8430424996690057,\n",
              " 'f1': 0.8395253910348658}"
            ]
          },
          "metadata": {},
          "execution_count": 134
        }
      ]
    }
  ]
}